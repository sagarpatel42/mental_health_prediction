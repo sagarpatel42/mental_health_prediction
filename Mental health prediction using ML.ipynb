{
 "cells": [
  {
   "cell_type": "markdown",
   "metadata": {
    "id": "HhJsTQq_XzuO"
   },
   "source": [
    "> # **Mental health prediction EDA(Exploratory Data Analysis) and ML Models**\n",
    "---\n"
   ]
  },
  {
   "cell_type": "markdown",
   "metadata": {
    "id": "V_9KXTxShMG-"
   },
   "source": [
    "> # **1. Import Libraries**"
   ]
  },
  {
   "cell_type": "code",
   "execution_count": 350,
   "metadata": {
    "id": "fowDEwaQdKgy"
   },
   "outputs": [],
   "source": [
    "import numpy as np\n",
    "import pandas as pd\n",
    "import matplotlib.pyplot as plt\n",
    "import seaborn as sns\n",
    "from scipy import stats\n",
    "from scipy.stats import randint\n",
    "from sklearn.model_selection import train_test_split\n",
    "from sklearn import preprocessing\n",
    "from sklearn.datasets import make_classification\n",
    "from sklearn.preprocessing import binarize, LabelEncoder, MinMaxScaler"
   ]
  },
  {
   "cell_type": "markdown",
   "metadata": {
    "id": "Q5zLV6PEhtJ5"
   },
   "source": [
    "> # **2. Data Preprocessing** "
   ]
  },
  {
   "cell_type": "code",
   "execution_count": 351,
   "metadata": {
    "colab": {
     "base_uri": "https://localhost:8080/",
     "height": 0
    },
    "id": "OI6sK79ygKcv",
    "outputId": "9a1c0f1d-401e-47a9-fb95-4f659ba5dc4f"
   },
   "outputs": [
    {
     "data": {
      "text/html": [
       "\n",
       "  <div id=\"df-733693fe-ffa6-43c0-9eb0-0afd819080da\">\n",
       "    <div class=\"colab-df-container\">\n",
       "      <div>\n",
       "<style scoped>\n",
       "    .dataframe tbody tr th:only-of-type {\n",
       "        vertical-align: middle;\n",
       "    }\n",
       "\n",
       "    .dataframe tbody tr th {\n",
       "        vertical-align: top;\n",
       "    }\n",
       "\n",
       "    .dataframe thead th {\n",
       "        text-align: right;\n",
       "    }\n",
       "</style>\n",
       "<table border=\"1\" class=\"dataframe\">\n",
       "  <thead>\n",
       "    <tr style=\"text-align: right;\">\n",
       "      <th></th>\n",
       "      <th>Are you self-employed?</th>\n",
       "      <th>How many employees does your company or organization have?</th>\n",
       "      <th>Is your employer primarily a tech company/organization?</th>\n",
       "      <th>Is your primary role within your company related to tech/IT?</th>\n",
       "      <th>Does your employer provide mental health benefits as part of healthcare coverage?</th>\n",
       "      <th>Do you know the options for mental health care available under your employer-provided coverage?</th>\n",
       "      <th>Has your employer ever formally discussed mental health (for example, as part of a wellness campaign or other official communication)?</th>\n",
       "      <th>Does your employer offer resources to learn more about mental health concerns and options for seeking help?</th>\n",
       "      <th>If a mental health issue prompted you to request a medical leave from work, asking for that leave would be:</th>\n",
       "      <th>Would you feel comfortable discussing a mental health disorder with your coworkers?</th>\n",
       "      <th>...</th>\n",
       "      <th>If you have a mental health issue, do you feel that it interferes with your work when being treated effectively?</th>\n",
       "      <th>If you have a mental health issue, do you feel that it interferes with your work when NOT being treated effectively?</th>\n",
       "      <th>What is your age?</th>\n",
       "      <th>What is your gender?</th>\n",
       "      <th>What country do you live in?</th>\n",
       "      <th>What US state or territory do you live in?</th>\n",
       "      <th>What country do you work in?</th>\n",
       "      <th>What US state or territory do you work in?</th>\n",
       "      <th>Which of the following best describes your work position?</th>\n",
       "      <th>Do you work remotely?</th>\n",
       "    </tr>\n",
       "  </thead>\n",
       "  <tbody>\n",
       "    <tr>\n",
       "      <th>0</th>\n",
       "      <td>0</td>\n",
       "      <td>1 to 5</td>\n",
       "      <td>1.0</td>\n",
       "      <td>NaN</td>\n",
       "      <td>Yes</td>\n",
       "      <td>Yes</td>\n",
       "      <td>No</td>\n",
       "      <td>No</td>\n",
       "      <td>Somewhat difficult</td>\n",
       "      <td>Maybe</td>\n",
       "      <td>...</td>\n",
       "      <td>Sometimes</td>\n",
       "      <td>Often</td>\n",
       "      <td>33</td>\n",
       "      <td>Male</td>\n",
       "      <td>Canada</td>\n",
       "      <td>NaN</td>\n",
       "      <td>Canada</td>\n",
       "      <td>NaN</td>\n",
       "      <td>Back-end Developer</td>\n",
       "      <td>Sometimes</td>\n",
       "    </tr>\n",
       "    <tr>\n",
       "      <th>1</th>\n",
       "      <td>0</td>\n",
       "      <td>1 to 5</td>\n",
       "      <td>1.0</td>\n",
       "      <td>NaN</td>\n",
       "      <td>No</td>\n",
       "      <td>No</td>\n",
       "      <td>No</td>\n",
       "      <td>I don't know</td>\n",
       "      <td>Very easy</td>\n",
       "      <td>Yes</td>\n",
       "      <td>...</td>\n",
       "      <td>Not applicable to me</td>\n",
       "      <td>Not applicable to me</td>\n",
       "      <td>40</td>\n",
       "      <td>male</td>\n",
       "      <td>Netherlands</td>\n",
       "      <td>NaN</td>\n",
       "      <td>Netherlands</td>\n",
       "      <td>NaN</td>\n",
       "      <td>Front-end Developer|Back-end Developer</td>\n",
       "      <td>Sometimes</td>\n",
       "    </tr>\n",
       "    <tr>\n",
       "      <th>2</th>\n",
       "      <td>0</td>\n",
       "      <td>1 to 5</td>\n",
       "      <td>1.0</td>\n",
       "      <td>NaN</td>\n",
       "      <td>Yes</td>\n",
       "      <td>Yes</td>\n",
       "      <td>No</td>\n",
       "      <td>I don't know</td>\n",
       "      <td>I don't know</td>\n",
       "      <td>Maybe</td>\n",
       "      <td>...</td>\n",
       "      <td>Not applicable to me</td>\n",
       "      <td>Not applicable to me</td>\n",
       "      <td>21</td>\n",
       "      <td>male</td>\n",
       "      <td>United Kingdom</td>\n",
       "      <td>NaN</td>\n",
       "      <td>United Kingdom</td>\n",
       "      <td>NaN</td>\n",
       "      <td>Back-end Developer|DevOps/SysAdmin</td>\n",
       "      <td>Never</td>\n",
       "    </tr>\n",
       "    <tr>\n",
       "      <th>3</th>\n",
       "      <td>0</td>\n",
       "      <td>1 to 5</td>\n",
       "      <td>1.0</td>\n",
       "      <td>NaN</td>\n",
       "      <td>No</td>\n",
       "      <td>No</td>\n",
       "      <td>No</td>\n",
       "      <td>No</td>\n",
       "      <td>Very difficult</td>\n",
       "      <td>No</td>\n",
       "      <td>...</td>\n",
       "      <td>Often</td>\n",
       "      <td>Often</td>\n",
       "      <td>36</td>\n",
       "      <td>Male</td>\n",
       "      <td>Brazil</td>\n",
       "      <td>NaN</td>\n",
       "      <td>Brazil</td>\n",
       "      <td>NaN</td>\n",
       "      <td>Back-end Developer</td>\n",
       "      <td>Never</td>\n",
       "    </tr>\n",
       "    <tr>\n",
       "      <th>4</th>\n",
       "      <td>0</td>\n",
       "      <td>1 to 5</td>\n",
       "      <td>0.0</td>\n",
       "      <td>1.0</td>\n",
       "      <td>I don't know</td>\n",
       "      <td>No</td>\n",
       "      <td>Yes</td>\n",
       "      <td>No</td>\n",
       "      <td>Very difficult</td>\n",
       "      <td>Yes</td>\n",
       "      <td>...</td>\n",
       "      <td>Not applicable to me</td>\n",
       "      <td>Often</td>\n",
       "      <td>36</td>\n",
       "      <td>F</td>\n",
       "      <td>United States of America</td>\n",
       "      <td>Indiana</td>\n",
       "      <td>United States of America</td>\n",
       "      <td>Indiana</td>\n",
       "      <td>Other</td>\n",
       "      <td>Sometimes</td>\n",
       "    </tr>\n",
       "    <tr>\n",
       "      <th>5</th>\n",
       "      <td>0</td>\n",
       "      <td>1 to 5</td>\n",
       "      <td>1.0</td>\n",
       "      <td>NaN</td>\n",
       "      <td>No</td>\n",
       "      <td>Yes</td>\n",
       "      <td>No</td>\n",
       "      <td>No</td>\n",
       "      <td>Very difficult</td>\n",
       "      <td>No</td>\n",
       "      <td>...</td>\n",
       "      <td>Sometimes</td>\n",
       "      <td>Often</td>\n",
       "      <td>42</td>\n",
       "      <td>Transitioned, M2F</td>\n",
       "      <td>Canada</td>\n",
       "      <td>NaN</td>\n",
       "      <td>Canada</td>\n",
       "      <td>NaN</td>\n",
       "      <td>Executive Leadership|Supervisor/Team Lead|Dev ...</td>\n",
       "      <td>Always</td>\n",
       "    </tr>\n",
       "    <tr>\n",
       "      <th>6</th>\n",
       "      <td>0</td>\n",
       "      <td>1 to 5</td>\n",
       "      <td>1.0</td>\n",
       "      <td>NaN</td>\n",
       "      <td>Not eligible for coverage / N/A</td>\n",
       "      <td>NaN</td>\n",
       "      <td>Yes</td>\n",
       "      <td>I don't know</td>\n",
       "      <td>Very easy</td>\n",
       "      <td>Yes</td>\n",
       "      <td>...</td>\n",
       "      <td>Never</td>\n",
       "      <td>Often</td>\n",
       "      <td>26</td>\n",
       "      <td>Other/Transfeminine</td>\n",
       "      <td>Netherlands</td>\n",
       "      <td>NaN</td>\n",
       "      <td>Netherlands</td>\n",
       "      <td>NaN</td>\n",
       "      <td>Executive Leadership|DevOps/SysAdmin|Back-end ...</td>\n",
       "      <td>Sometimes</td>\n",
       "    </tr>\n",
       "    <tr>\n",
       "      <th>7</th>\n",
       "      <td>0</td>\n",
       "      <td>1 to 5</td>\n",
       "      <td>1.0</td>\n",
       "      <td>NaN</td>\n",
       "      <td>No</td>\n",
       "      <td>No</td>\n",
       "      <td>No</td>\n",
       "      <td>No</td>\n",
       "      <td>Somewhat easy</td>\n",
       "      <td>Maybe</td>\n",
       "      <td>...</td>\n",
       "      <td>Not applicable to me</td>\n",
       "      <td>Not applicable to me</td>\n",
       "      <td>29</td>\n",
       "      <td>M</td>\n",
       "      <td>Denmark</td>\n",
       "      <td>NaN</td>\n",
       "      <td>Denmark</td>\n",
       "      <td>NaN</td>\n",
       "      <td>Back-end Developer|DevOps/SysAdmin</td>\n",
       "      <td>Sometimes</td>\n",
       "    </tr>\n",
       "    <tr>\n",
       "      <th>8</th>\n",
       "      <td>0</td>\n",
       "      <td>1 to 5</td>\n",
       "      <td>1.0</td>\n",
       "      <td>NaN</td>\n",
       "      <td>Yes</td>\n",
       "      <td>No</td>\n",
       "      <td>No</td>\n",
       "      <td>No</td>\n",
       "      <td>Somewhat easy</td>\n",
       "      <td>Yes</td>\n",
       "      <td>...</td>\n",
       "      <td>Rarely</td>\n",
       "      <td>Sometimes</td>\n",
       "      <td>30</td>\n",
       "      <td>female</td>\n",
       "      <td>United Kingdom</td>\n",
       "      <td>NaN</td>\n",
       "      <td>United Kingdom</td>\n",
       "      <td>NaN</td>\n",
       "      <td>Supervisor/Team Lead|Back-end Developer|Front-...</td>\n",
       "      <td>Sometimes</td>\n",
       "    </tr>\n",
       "    <tr>\n",
       "      <th>9</th>\n",
       "      <td>0</td>\n",
       "      <td>1 to 5</td>\n",
       "      <td>0.0</td>\n",
       "      <td>1.0</td>\n",
       "      <td>No</td>\n",
       "      <td>Yes</td>\n",
       "      <td>Yes</td>\n",
       "      <td>No</td>\n",
       "      <td>Somewhat easy</td>\n",
       "      <td>Yes</td>\n",
       "      <td>...</td>\n",
       "      <td>Never</td>\n",
       "      <td>Sometimes</td>\n",
       "      <td>36</td>\n",
       "      <td>Male</td>\n",
       "      <td>Mexico</td>\n",
       "      <td>NaN</td>\n",
       "      <td>Mexico</td>\n",
       "      <td>NaN</td>\n",
       "      <td>DevOps/SysAdmin|Executive Leadership</td>\n",
       "      <td>Sometimes</td>\n",
       "    </tr>\n",
       "  </tbody>\n",
       "</table>\n",
       "<p>10 rows × 31 columns</p>\n",
       "</div>\n",
       "      <button class=\"colab-df-convert\" onclick=\"convertToInteractive('df-733693fe-ffa6-43c0-9eb0-0afd819080da')\"\n",
       "              title=\"Convert this dataframe to an interactive table.\"\n",
       "              style=\"display:none;\">\n",
       "        \n",
       "  <svg xmlns=\"http://www.w3.org/2000/svg\" height=\"24px\"viewBox=\"0 0 24 24\"\n",
       "       width=\"24px\">\n",
       "    <path d=\"M0 0h24v24H0V0z\" fill=\"none\"/>\n",
       "    <path d=\"M18.56 5.44l.94 2.06.94-2.06 2.06-.94-2.06-.94-.94-2.06-.94 2.06-2.06.94zm-11 1L8.5 8.5l.94-2.06 2.06-.94-2.06-.94L8.5 2.5l-.94 2.06-2.06.94zm10 10l.94 2.06.94-2.06 2.06-.94-2.06-.94-.94-2.06-.94 2.06-2.06.94z\"/><path d=\"M17.41 7.96l-1.37-1.37c-.4-.4-.92-.59-1.43-.59-.52 0-1.04.2-1.43.59L10.3 9.45l-7.72 7.72c-.78.78-.78 2.05 0 2.83L4 21.41c.39.39.9.59 1.41.59.51 0 1.02-.2 1.41-.59l7.78-7.78 2.81-2.81c.8-.78.8-2.07 0-2.86zM5.41 20L4 18.59l7.72-7.72 1.47 1.35L5.41 20z\"/>\n",
       "  </svg>\n",
       "      </button>\n",
       "      \n",
       "  <style>\n",
       "    .colab-df-container {\n",
       "      display:flex;\n",
       "      flex-wrap:wrap;\n",
       "      gap: 12px;\n",
       "    }\n",
       "\n",
       "    .colab-df-convert {\n",
       "      background-color: #E8F0FE;\n",
       "      border: none;\n",
       "      border-radius: 50%;\n",
       "      cursor: pointer;\n",
       "      display: none;\n",
       "      fill: #1967D2;\n",
       "      height: 32px;\n",
       "      padding: 0 0 0 0;\n",
       "      width: 32px;\n",
       "    }\n",
       "\n",
       "    .colab-df-convert:hover {\n",
       "      background-color: #E2EBFA;\n",
       "      box-shadow: 0px 1px 2px rgba(60, 64, 67, 0.3), 0px 1px 3px 1px rgba(60, 64, 67, 0.15);\n",
       "      fill: #174EA6;\n",
       "    }\n",
       "\n",
       "    [theme=dark] .colab-df-convert {\n",
       "      background-color: #3B4455;\n",
       "      fill: #D2E3FC;\n",
       "    }\n",
       "\n",
       "    [theme=dark] .colab-df-convert:hover {\n",
       "      background-color: #434B5C;\n",
       "      box-shadow: 0px 1px 3px 1px rgba(0, 0, 0, 0.15);\n",
       "      filter: drop-shadow(0px 1px 2px rgba(0, 0, 0, 0.3));\n",
       "      fill: #FFFFFF;\n",
       "    }\n",
       "  </style>\n",
       "\n",
       "      <script>\n",
       "        const buttonEl =\n",
       "          document.querySelector('#df-733693fe-ffa6-43c0-9eb0-0afd819080da button.colab-df-convert');\n",
       "        buttonEl.style.display =\n",
       "          google.colab.kernel.accessAllowed ? 'block' : 'none';\n",
       "\n",
       "        async function convertToInteractive(key) {\n",
       "          const element = document.querySelector('#df-733693fe-ffa6-43c0-9eb0-0afd819080da');\n",
       "          const dataTable =\n",
       "            await google.colab.kernel.invokeFunction('convertToInteractive',\n",
       "                                                     [key], {});\n",
       "          if (!dataTable) return;\n",
       "\n",
       "          const docLinkHtml = 'Like what you see? Visit the ' +\n",
       "            '<a target=\"_blank\" href=https://colab.research.google.com/notebooks/data_table.ipynb>data table notebook</a>'\n",
       "            + ' to learn more about interactive tables.';\n",
       "          element.innerHTML = '';\n",
       "          dataTable['output_type'] = 'display_data';\n",
       "          await google.colab.output.renderOutput(dataTable, element);\n",
       "          const docLink = document.createElement('div');\n",
       "          docLink.innerHTML = docLinkHtml;\n",
       "          element.appendChild(docLink);\n",
       "        }\n",
       "      </script>\n",
       "    </div>\n",
       "  </div>\n",
       "  "
      ],
      "text/plain": [
       "   Are you self-employed?  \\\n",
       "0                       0   \n",
       "1                       0   \n",
       "2                       0   \n",
       "3                       0   \n",
       "4                       0   \n",
       "5                       0   \n",
       "6                       0   \n",
       "7                       0   \n",
       "8                       0   \n",
       "9                       0   \n",
       "\n",
       "  How many employees does your company or organization have?  \\\n",
       "0                                             1 to 5           \n",
       "1                                             1 to 5           \n",
       "2                                             1 to 5           \n",
       "3                                             1 to 5           \n",
       "4                                             1 to 5           \n",
       "5                                             1 to 5           \n",
       "6                                             1 to 5           \n",
       "7                                             1 to 5           \n",
       "8                                             1 to 5           \n",
       "9                                             1 to 5           \n",
       "\n",
       "   Is your employer primarily a tech company/organization?  \\\n",
       "0                                                1.0         \n",
       "1                                                1.0         \n",
       "2                                                1.0         \n",
       "3                                                1.0         \n",
       "4                                                0.0         \n",
       "5                                                1.0         \n",
       "6                                                1.0         \n",
       "7                                                1.0         \n",
       "8                                                1.0         \n",
       "9                                                0.0         \n",
       "\n",
       "   Is your primary role within your company related to tech/IT?  \\\n",
       "0                                                NaN              \n",
       "1                                                NaN              \n",
       "2                                                NaN              \n",
       "3                                                NaN              \n",
       "4                                                1.0              \n",
       "5                                                NaN              \n",
       "6                                                NaN              \n",
       "7                                                NaN              \n",
       "8                                                NaN              \n",
       "9                                                1.0              \n",
       "\n",
       "  Does your employer provide mental health benefits as part of healthcare coverage?  \\\n",
       "0                                                Yes                                  \n",
       "1                                                 No                                  \n",
       "2                                                Yes                                  \n",
       "3                                                 No                                  \n",
       "4                                       I don't know                                  \n",
       "5                                                 No                                  \n",
       "6                    Not eligible for coverage / N/A                                  \n",
       "7                                                 No                                  \n",
       "8                                                Yes                                  \n",
       "9                                                 No                                  \n",
       "\n",
       "  Do you know the options for mental health care available under your employer-provided coverage?  \\\n",
       "0                                                Yes                                                \n",
       "1                                                 No                                                \n",
       "2                                                Yes                                                \n",
       "3                                                 No                                                \n",
       "4                                                 No                                                \n",
       "5                                                Yes                                                \n",
       "6                                                NaN                                                \n",
       "7                                                 No                                                \n",
       "8                                                 No                                                \n",
       "9                                                Yes                                                \n",
       "\n",
       "  Has your employer ever formally discussed mental health (for example, as part of a wellness campaign or other official communication)?  \\\n",
       "0                                                 No                                                                                       \n",
       "1                                                 No                                                                                       \n",
       "2                                                 No                                                                                       \n",
       "3                                                 No                                                                                       \n",
       "4                                                Yes                                                                                       \n",
       "5                                                 No                                                                                       \n",
       "6                                                Yes                                                                                       \n",
       "7                                                 No                                                                                       \n",
       "8                                                 No                                                                                       \n",
       "9                                                Yes                                                                                       \n",
       "\n",
       "  Does your employer offer resources to learn more about mental health concerns and options for seeking help?  \\\n",
       "0                                                 No                                                            \n",
       "1                                       I don't know                                                            \n",
       "2                                       I don't know                                                            \n",
       "3                                                 No                                                            \n",
       "4                                                 No                                                            \n",
       "5                                                 No                                                            \n",
       "6                                       I don't know                                                            \n",
       "7                                                 No                                                            \n",
       "8                                                 No                                                            \n",
       "9                                                 No                                                            \n",
       "\n",
       "  If a mental health issue prompted you to request a medical leave from work, asking for that leave would be:  \\\n",
       "0                                 Somewhat difficult                                                            \n",
       "1                                          Very easy                                                            \n",
       "2                                       I don't know                                                            \n",
       "3                                     Very difficult                                                            \n",
       "4                                     Very difficult                                                            \n",
       "5                                     Very difficult                                                            \n",
       "6                                          Very easy                                                            \n",
       "7                                      Somewhat easy                                                            \n",
       "8                                      Somewhat easy                                                            \n",
       "9                                      Somewhat easy                                                            \n",
       "\n",
       "  Would you feel comfortable discussing a mental health disorder with your coworkers?  \\\n",
       "0                                              Maybe                                    \n",
       "1                                                Yes                                    \n",
       "2                                              Maybe                                    \n",
       "3                                                 No                                    \n",
       "4                                                Yes                                    \n",
       "5                                                 No                                    \n",
       "6                                                Yes                                    \n",
       "7                                              Maybe                                    \n",
       "8                                                Yes                                    \n",
       "9                                                Yes                                    \n",
       "\n",
       "   ...  \\\n",
       "0  ...   \n",
       "1  ...   \n",
       "2  ...   \n",
       "3  ...   \n",
       "4  ...   \n",
       "5  ...   \n",
       "6  ...   \n",
       "7  ...   \n",
       "8  ...   \n",
       "9  ...   \n",
       "\n",
       "  If you have a mental health issue, do you feel that it interferes with your work when being treated effectively?  \\\n",
       "0                                          Sometimes                                                                 \n",
       "1                               Not applicable to me                                                                 \n",
       "2                               Not applicable to me                                                                 \n",
       "3                                              Often                                                                 \n",
       "4                               Not applicable to me                                                                 \n",
       "5                                          Sometimes                                                                 \n",
       "6                                              Never                                                                 \n",
       "7                               Not applicable to me                                                                 \n",
       "8                                             Rarely                                                                 \n",
       "9                                              Never                                                                 \n",
       "\n",
       "  If you have a mental health issue, do you feel that it interferes with your work when NOT being treated effectively?  \\\n",
       "0                                              Often                                                                     \n",
       "1                               Not applicable to me                                                                     \n",
       "2                               Not applicable to me                                                                     \n",
       "3                                              Often                                                                     \n",
       "4                                              Often                                                                     \n",
       "5                                              Often                                                                     \n",
       "6                                              Often                                                                     \n",
       "7                               Not applicable to me                                                                     \n",
       "8                                          Sometimes                                                                     \n",
       "9                                          Sometimes                                                                     \n",
       "\n",
       "  What is your age? What is your gender? What country do you live in?  \\\n",
       "0                33                 Male                       Canada   \n",
       "1                40                 male                  Netherlands   \n",
       "2                21                 male               United Kingdom   \n",
       "3                36                 Male                       Brazil   \n",
       "4                36                    F     United States of America   \n",
       "5                42    Transitioned, M2F                       Canada   \n",
       "6                26  Other/Transfeminine                  Netherlands   \n",
       "7                29                    M                      Denmark   \n",
       "8                30               female               United Kingdom   \n",
       "9                36                 Male                       Mexico   \n",
       "\n",
       "  What US state or territory do you live in? What country do you work in?  \\\n",
       "0                                        NaN                       Canada   \n",
       "1                                        NaN                  Netherlands   \n",
       "2                                        NaN               United Kingdom   \n",
       "3                                        NaN                       Brazil   \n",
       "4                                    Indiana     United States of America   \n",
       "5                                        NaN                       Canada   \n",
       "6                                        NaN                  Netherlands   \n",
       "7                                        NaN                      Denmark   \n",
       "8                                        NaN               United Kingdom   \n",
       "9                                        NaN                       Mexico   \n",
       "\n",
       "  What US state or territory do you work in?  \\\n",
       "0                                        NaN   \n",
       "1                                        NaN   \n",
       "2                                        NaN   \n",
       "3                                        NaN   \n",
       "4                                    Indiana   \n",
       "5                                        NaN   \n",
       "6                                        NaN   \n",
       "7                                        NaN   \n",
       "8                                        NaN   \n",
       "9                                        NaN   \n",
       "\n",
       "  Which of the following best describes your work position?  \\\n",
       "0                                 Back-end Developer          \n",
       "1             Front-end Developer|Back-end Developer          \n",
       "2                 Back-end Developer|DevOps/SysAdmin          \n",
       "3                                 Back-end Developer          \n",
       "4                                              Other          \n",
       "5  Executive Leadership|Supervisor/Team Lead|Dev ...          \n",
       "6  Executive Leadership|DevOps/SysAdmin|Back-end ...          \n",
       "7                 Back-end Developer|DevOps/SysAdmin          \n",
       "8  Supervisor/Team Lead|Back-end Developer|Front-...          \n",
       "9               DevOps/SysAdmin|Executive Leadership          \n",
       "\n",
       "  Do you work remotely?  \n",
       "0             Sometimes  \n",
       "1             Sometimes  \n",
       "2                 Never  \n",
       "3                 Never  \n",
       "4             Sometimes  \n",
       "5                Always  \n",
       "6             Sometimes  \n",
       "7             Sometimes  \n",
       "8             Sometimes  \n",
       "9             Sometimes  \n",
       "\n",
       "[10 rows x 31 columns]"
      ]
     },
     "execution_count": 351,
     "metadata": {},
     "output_type": "execute_result"
    }
   ],
   "source": [
    "#Print the dataframe\n",
    "#Dataset link : \"https://www.kaggle.com/datasets/ron2112/mental-health-data\"\n",
    "url = r'/content/drive/MyDrive/ML Innovative/Mental Health Data.csv'\n",
    "data=pd.read_csv(url)\n",
    "data.head(10)"
   ]
  },
  {
   "cell_type": "code",
   "execution_count": 352,
   "metadata": {
    "colab": {
     "base_uri": "https://localhost:8080/"
    },
    "id": "0PIQKYpEgzCZ",
    "outputId": "5bc3cd59-7613-459a-a655-846c414fdf1b"
   },
   "outputs": [
    {
     "name": "stdout",
     "output_type": "stream",
     "text": [
      "<class 'pandas.core.frame.DataFrame'>\n",
      "RangeIndex: 1433 entries, 0 to 1432\n",
      "Data columns (total 31 columns):\n",
      " #   Column                                                                                                                                  Non-Null Count  Dtype  \n",
      "---  ------                                                                                                                                  --------------  -----  \n",
      " 0   Are you self-employed?                                                                                                                  1433 non-null   int64  \n",
      " 1   How many employees does your company or organization have?                                                                              1146 non-null   object \n",
      " 2   Is your employer primarily a tech company/organization?                                                                                 1146 non-null   float64\n",
      " 3   Is your primary role within your company related to tech/IT?                                                                            263 non-null    float64\n",
      " 4   Does your employer provide mental health benefits as part of healthcare coverage?                                                       1146 non-null   object \n",
      " 5   Do you know the options for mental health care available under your employer-provided coverage?                                         1013 non-null   object \n",
      " 6   Has your employer ever formally discussed mental health (for example, as part of a wellness campaign or other official communication)?  1146 non-null   object \n",
      " 7   Does your employer offer resources to learn more about mental health concerns and options for seeking help?                             1146 non-null   object \n",
      " 8   If a mental health issue prompted you to request a medical leave from work, asking for that leave would be:                             1146 non-null   object \n",
      " 9   Would you feel comfortable discussing a mental health disorder with your coworkers?                                                     1146 non-null   object \n",
      " 10  Do you feel that your employer takes mental health as seriously as physical health?                                                     1146 non-null   object \n",
      " 11  Do you know local or online resources to seek help for a mental health disorder?                                                        287 non-null    object \n",
      " 12  Do you believe your productivity is ever affected by a mental health issue?                                                             287 non-null    object \n",
      " 13  If yes, what percentage of your work time (time performing primary or secondary job functions) is affected by a mental health issue?    204 non-null    object \n",
      " 14  How willing would you be to share with friends and family that you have a mental illness?                                               1433 non-null   object \n",
      " 15  Do you have a family history of mental illness?                                                                                         1433 non-null   object \n",
      " 16  Have you had a mental health disorder in the past?                                                                                      1433 non-null   object \n",
      " 17  Do you currently have a mental health disorder?                                                                                         1433 non-null   object \n",
      " 18  Have you been diagnosed with a mental health condition by a medical professional?                                                       1433 non-null   object \n",
      " 19  If so, what condition(s) were you diagnosed with?                                                                                       711 non-null    object \n",
      " 20  Have you ever sought treatment for a mental health issue from a mental health professional?                                             1433 non-null   int64  \n",
      " 21  If you have a mental health issue, do you feel that it interferes with your work when being treated effectively?                        1433 non-null   object \n",
      " 22  If you have a mental health issue, do you feel that it interferes with your work when NOT being treated effectively?                    1433 non-null   object \n",
      " 23  What is your age?                                                                                                                       1433 non-null   int64  \n",
      " 24  What is your gender?                                                                                                                    1430 non-null   object \n",
      " 25  What country do you live in?                                                                                                            1433 non-null   object \n",
      " 26  What US state or territory do you live in?                                                                                              840 non-null    object \n",
      " 27  What country do you work in?                                                                                                            1433 non-null   object \n",
      " 28  What US state or territory do you work in?                                                                                              851 non-null    object \n",
      " 29  Which of the following best describes your work position?                                                                               1433 non-null   object \n",
      " 30  Do you work remotely?                                                                                                                   1433 non-null   object \n",
      "dtypes: float64(2), int64(3), object(26)\n",
      "memory usage: 347.2+ KB\n"
     ]
    }
   ],
   "source": [
    "# Information of dataframe\n",
    "data.info()"
   ]
  },
  {
   "cell_type": "code",
   "execution_count": 353,
   "metadata": {
    "colab": {
     "base_uri": "https://localhost:8080/"
    },
    "id": "1aqa8ujii0qT",
    "outputId": "71650f35-afd3-41c5-d437-38e7c10c784a"
   },
   "outputs": [
    {
     "name": "stdout",
     "output_type": "stream",
     "text": [
      "(1433, 31)\n"
     ]
    }
   ],
   "source": [
    "#Check the Shape of dataset\n",
    "print(data.shape)"
   ]
  },
  {
   "cell_type": "code",
   "execution_count": 354,
   "metadata": {
    "colab": {
     "base_uri": "https://localhost:8080/"
    },
    "id": "_ZkUsR4yjFD_",
    "outputId": "5cd94c88-549e-4877-caea-73ee0840816e"
   },
   "outputs": [
    {
     "name": "stdout",
     "output_type": "stream",
     "text": [
      "['Are you self-employed?', 'How many employees does your company or organization have?', 'Is your employer primarily a tech company/organization?', 'Is your primary role within your company related to tech/IT?', 'Does your employer provide mental health benefits as part of healthcare coverage?', 'Do you know the options for mental health care available under your employer-provided coverage?', 'Has your employer ever formally discussed mental health (for example, as part of a wellness campaign or other official communication)?', 'Does your employer offer resources to learn more about mental health concerns and options for seeking help?', 'If a mental health issue prompted you to request a medical leave from work, asking for that leave would be:', 'Would you feel comfortable discussing a mental health disorder with your coworkers?', 'Do you feel that your employer takes mental health as seriously as physical health?', 'Do you know local or online resources to seek help for a mental health disorder?', 'Do you believe your productivity is ever affected by a mental health issue?', 'If yes, what percentage of your work time (time performing primary or secondary job functions) is affected by a mental health issue?', 'How willing would you be to share with friends and family that you have a mental illness?', 'Do you have a family history of mental illness?', 'Have you had a mental health disorder in the past?', 'Do you currently have a mental health disorder?', 'Have you been diagnosed with a mental health condition by a medical professional?', 'If so, what condition(s) were you diagnosed with?', 'Have you ever sought treatment for a mental health issue from a mental health professional?', 'If you have a mental health issue, do you feel that it interferes with your work when being treated effectively?', 'If you have a mental health issue, do you feel that it interferes with your work when NOT being treated effectively?', 'What is your age?', 'What is your gender?', 'What country do you live in?', 'What US state or territory do you live in?', 'What country do you work in?', 'What US state or territory do you work in?', 'Which of the following best describes your work position?', 'Do you work remotely?']\n"
     ]
    }
   ],
   "source": [
    "#Make the list of columns\n",
    "a=list(data.columns)\n",
    "print(a)\n",
    "# New name of the all columns\n",
    "b=['self_employed',\n",
    "   'no_of_employees',\n",
    "   'tech_company','role_IT',\n",
    "   'mental_healthcare_coverage',\n",
    "   'knowledge_about_mental_healthcare_options_workplace',\n",
    "   'employer_discussed_mental_health ',\n",
    "   'employer_offer_resources_to_learn_about_mental_health',\n",
    "   'medical_leave_from_work ',\n",
    "  'comfortable_discussing_with_coworkers',\n",
    "   'employer_take_mental_health_seriously',\n",
    "   'knowledge_of_local_online_resources ',\n",
    "   'productivity_affected_by_mental_health ',\n",
    "   'percentage_work_time_affected_mental_health',\n",
    "   'openess_of_family_friends',\n",
    "  'family_history_mental_illness',\n",
    "   'mental_health_disorder_past',\n",
    "   'currently_mental_health_disorder',\n",
    "   'diagnosed_mental_health_condition',\n",
    "   'type_of_disorder',\n",
    "   'treatment_from_professional',\n",
    "   'while_effective_treatment_mental_health_issue_interferes_work',\n",
    "   'while_not_effective_treatment_interferes_work ',\n",
    "   'age',\n",
    "   'gender',\n",
    "   'country',\n",
    "   'US state',\n",
    "  'country work ',\n",
    "   'US state work',\n",
    "   'role_in_company',\n",
    "   'work_remotely','']\n",
    "for i,j in zip(a,b):\n",
    "    data.rename(columns={i:j},inplace=True)"
   ]
  },
  {
   "cell_type": "code",
   "execution_count": 355,
   "metadata": {
    "colab": {
     "base_uri": "https://localhost:8080/"
    },
    "id": "yHMoIZ6Lh71E",
    "outputId": "14dc7bcf-bb43-4cba-d55a-6554e5e0d5d8"
   },
   "outputs": [
    {
     "name": "stdout",
     "output_type": "stream",
     "text": [
      "<class 'pandas.core.frame.DataFrame'>\n",
      "RangeIndex: 1433 entries, 0 to 1432\n",
      "Data columns (total 31 columns):\n",
      " #   Column                                                         Non-Null Count  Dtype  \n",
      "---  ------                                                         --------------  -----  \n",
      " 0   self_employed                                                  1433 non-null   int64  \n",
      " 1   no_of_employees                                                1146 non-null   object \n",
      " 2   tech_company                                                   1146 non-null   float64\n",
      " 3   role_IT                                                        263 non-null    float64\n",
      " 4   mental_healthcare_coverage                                     1146 non-null   object \n",
      " 5   knowledge_about_mental_healthcare_options_workplace            1013 non-null   object \n",
      " 6   employer_discussed_mental_health                               1146 non-null   object \n",
      " 7   employer_offer_resources_to_learn_about_mental_health          1146 non-null   object \n",
      " 8   medical_leave_from_work                                        1146 non-null   object \n",
      " 9   comfortable_discussing_with_coworkers                          1146 non-null   object \n",
      " 10  employer_take_mental_health_seriously                          1146 non-null   object \n",
      " 11  knowledge_of_local_online_resources                            287 non-null    object \n",
      " 12  productivity_affected_by_mental_health                         287 non-null    object \n",
      " 13  percentage_work_time_affected_mental_health                    204 non-null    object \n",
      " 14  openess_of_family_friends                                      1433 non-null   object \n",
      " 15  family_history_mental_illness                                  1433 non-null   object \n",
      " 16  mental_health_disorder_past                                    1433 non-null   object \n",
      " 17  currently_mental_health_disorder                               1433 non-null   object \n",
      " 18  diagnosed_mental_health_condition                              1433 non-null   object \n",
      " 19  type_of_disorder                                               711 non-null    object \n",
      " 20  treatment_from_professional                                    1433 non-null   int64  \n",
      " 21  while_effective_treatment_mental_health_issue_interferes_work  1433 non-null   object \n",
      " 22  while_not_effective_treatment_interferes_work                  1433 non-null   object \n",
      " 23  age                                                            1433 non-null   int64  \n",
      " 24  gender                                                         1430 non-null   object \n",
      " 25  country                                                        1433 non-null   object \n",
      " 26  US state                                                       840 non-null    object \n",
      " 27  country work                                                   1433 non-null   object \n",
      " 28  US state work                                                  851 non-null    object \n",
      " 29  role_in_company                                                1433 non-null   object \n",
      " 30  work_remotely                                                  1433 non-null   object \n",
      "dtypes: float64(2), int64(3), object(26)\n",
      "memory usage: 347.2+ KB\n"
     ]
    }
   ],
   "source": [
    "# Information of dataframe after the rename\n",
    "data.info()"
   ]
  },
  {
   "cell_type": "code",
   "execution_count": 356,
   "metadata": {
    "colab": {
     "base_uri": "https://localhost:8080/",
     "height": 0
    },
    "id": "YyAAdh6AlOdr",
    "outputId": "94c68698-a52a-490c-d5f9-62c70379da2e"
   },
   "outputs": [
    {
     "data": {
      "text/html": [
       "\n",
       "  <div id=\"df-20bb5d97-3b5e-44d0-b0b9-c44be5cd1ce6\">\n",
       "    <div class=\"colab-df-container\">\n",
       "      <div>\n",
       "<style scoped>\n",
       "    .dataframe tbody tr th:only-of-type {\n",
       "        vertical-align: middle;\n",
       "    }\n",
       "\n",
       "    .dataframe tbody tr th {\n",
       "        vertical-align: top;\n",
       "    }\n",
       "\n",
       "    .dataframe thead th {\n",
       "        text-align: right;\n",
       "    }\n",
       "</style>\n",
       "<table border=\"1\" class=\"dataframe\">\n",
       "  <thead>\n",
       "    <tr style=\"text-align: right;\">\n",
       "      <th></th>\n",
       "      <th>no of missing values</th>\n",
       "    </tr>\n",
       "  </thead>\n",
       "  <tbody>\n",
       "    <tr>\n",
       "      <th>self_employed</th>\n",
       "      <td>0</td>\n",
       "    </tr>\n",
       "    <tr>\n",
       "      <th>no_of_employees</th>\n",
       "      <td>287</td>\n",
       "    </tr>\n",
       "    <tr>\n",
       "      <th>tech_company</th>\n",
       "      <td>287</td>\n",
       "    </tr>\n",
       "    <tr>\n",
       "      <th>role_IT</th>\n",
       "      <td>1170</td>\n",
       "    </tr>\n",
       "    <tr>\n",
       "      <th>mental_healthcare_coverage</th>\n",
       "      <td>287</td>\n",
       "    </tr>\n",
       "    <tr>\n",
       "      <th>knowledge_about_mental_healthcare_options_workplace</th>\n",
       "      <td>420</td>\n",
       "    </tr>\n",
       "    <tr>\n",
       "      <th>employer_discussed_mental_health</th>\n",
       "      <td>287</td>\n",
       "    </tr>\n",
       "    <tr>\n",
       "      <th>employer_offer_resources_to_learn_about_mental_health</th>\n",
       "      <td>287</td>\n",
       "    </tr>\n",
       "    <tr>\n",
       "      <th>medical_leave_from_work</th>\n",
       "      <td>287</td>\n",
       "    </tr>\n",
       "    <tr>\n",
       "      <th>comfortable_discussing_with_coworkers</th>\n",
       "      <td>287</td>\n",
       "    </tr>\n",
       "    <tr>\n",
       "      <th>employer_take_mental_health_seriously</th>\n",
       "      <td>287</td>\n",
       "    </tr>\n",
       "    <tr>\n",
       "      <th>knowledge_of_local_online_resources</th>\n",
       "      <td>1146</td>\n",
       "    </tr>\n",
       "    <tr>\n",
       "      <th>productivity_affected_by_mental_health</th>\n",
       "      <td>1146</td>\n",
       "    </tr>\n",
       "    <tr>\n",
       "      <th>percentage_work_time_affected_mental_health</th>\n",
       "      <td>1229</td>\n",
       "    </tr>\n",
       "    <tr>\n",
       "      <th>openess_of_family_friends</th>\n",
       "      <td>0</td>\n",
       "    </tr>\n",
       "    <tr>\n",
       "      <th>family_history_mental_illness</th>\n",
       "      <td>0</td>\n",
       "    </tr>\n",
       "    <tr>\n",
       "      <th>mental_health_disorder_past</th>\n",
       "      <td>0</td>\n",
       "    </tr>\n",
       "    <tr>\n",
       "      <th>currently_mental_health_disorder</th>\n",
       "      <td>0</td>\n",
       "    </tr>\n",
       "    <tr>\n",
       "      <th>diagnosed_mental_health_condition</th>\n",
       "      <td>0</td>\n",
       "    </tr>\n",
       "    <tr>\n",
       "      <th>type_of_disorder</th>\n",
       "      <td>722</td>\n",
       "    </tr>\n",
       "    <tr>\n",
       "      <th>treatment_from_professional</th>\n",
       "      <td>0</td>\n",
       "    </tr>\n",
       "    <tr>\n",
       "      <th>while_effective_treatment_mental_health_issue_interferes_work</th>\n",
       "      <td>0</td>\n",
       "    </tr>\n",
       "    <tr>\n",
       "      <th>while_not_effective_treatment_interferes_work</th>\n",
       "      <td>0</td>\n",
       "    </tr>\n",
       "    <tr>\n",
       "      <th>age</th>\n",
       "      <td>0</td>\n",
       "    </tr>\n",
       "    <tr>\n",
       "      <th>gender</th>\n",
       "      <td>3</td>\n",
       "    </tr>\n",
       "    <tr>\n",
       "      <th>country</th>\n",
       "      <td>0</td>\n",
       "    </tr>\n",
       "    <tr>\n",
       "      <th>US state</th>\n",
       "      <td>593</td>\n",
       "    </tr>\n",
       "    <tr>\n",
       "      <th>country work</th>\n",
       "      <td>0</td>\n",
       "    </tr>\n",
       "    <tr>\n",
       "      <th>US state work</th>\n",
       "      <td>582</td>\n",
       "    </tr>\n",
       "    <tr>\n",
       "      <th>role_in_company</th>\n",
       "      <td>0</td>\n",
       "    </tr>\n",
       "    <tr>\n",
       "      <th>work_remotely</th>\n",
       "      <td>0</td>\n",
       "    </tr>\n",
       "  </tbody>\n",
       "</table>\n",
       "</div>\n",
       "      <button class=\"colab-df-convert\" onclick=\"convertToInteractive('df-20bb5d97-3b5e-44d0-b0b9-c44be5cd1ce6')\"\n",
       "              title=\"Convert this dataframe to an interactive table.\"\n",
       "              style=\"display:none;\">\n",
       "        \n",
       "  <svg xmlns=\"http://www.w3.org/2000/svg\" height=\"24px\"viewBox=\"0 0 24 24\"\n",
       "       width=\"24px\">\n",
       "    <path d=\"M0 0h24v24H0V0z\" fill=\"none\"/>\n",
       "    <path d=\"M18.56 5.44l.94 2.06.94-2.06 2.06-.94-2.06-.94-.94-2.06-.94 2.06-2.06.94zm-11 1L8.5 8.5l.94-2.06 2.06-.94-2.06-.94L8.5 2.5l-.94 2.06-2.06.94zm10 10l.94 2.06.94-2.06 2.06-.94-2.06-.94-.94-2.06-.94 2.06-2.06.94z\"/><path d=\"M17.41 7.96l-1.37-1.37c-.4-.4-.92-.59-1.43-.59-.52 0-1.04.2-1.43.59L10.3 9.45l-7.72 7.72c-.78.78-.78 2.05 0 2.83L4 21.41c.39.39.9.59 1.41.59.51 0 1.02-.2 1.41-.59l7.78-7.78 2.81-2.81c.8-.78.8-2.07 0-2.86zM5.41 20L4 18.59l7.72-7.72 1.47 1.35L5.41 20z\"/>\n",
       "  </svg>\n",
       "      </button>\n",
       "      \n",
       "  <style>\n",
       "    .colab-df-container {\n",
       "      display:flex;\n",
       "      flex-wrap:wrap;\n",
       "      gap: 12px;\n",
       "    }\n",
       "\n",
       "    .colab-df-convert {\n",
       "      background-color: #E8F0FE;\n",
       "      border: none;\n",
       "      border-radius: 50%;\n",
       "      cursor: pointer;\n",
       "      display: none;\n",
       "      fill: #1967D2;\n",
       "      height: 32px;\n",
       "      padding: 0 0 0 0;\n",
       "      width: 32px;\n",
       "    }\n",
       "\n",
       "    .colab-df-convert:hover {\n",
       "      background-color: #E2EBFA;\n",
       "      box-shadow: 0px 1px 2px rgba(60, 64, 67, 0.3), 0px 1px 3px 1px rgba(60, 64, 67, 0.15);\n",
       "      fill: #174EA6;\n",
       "    }\n",
       "\n",
       "    [theme=dark] .colab-df-convert {\n",
       "      background-color: #3B4455;\n",
       "      fill: #D2E3FC;\n",
       "    }\n",
       "\n",
       "    [theme=dark] .colab-df-convert:hover {\n",
       "      background-color: #434B5C;\n",
       "      box-shadow: 0px 1px 3px 1px rgba(0, 0, 0, 0.15);\n",
       "      filter: drop-shadow(0px 1px 2px rgba(0, 0, 0, 0.3));\n",
       "      fill: #FFFFFF;\n",
       "    }\n",
       "  </style>\n",
       "\n",
       "      <script>\n",
       "        const buttonEl =\n",
       "          document.querySelector('#df-20bb5d97-3b5e-44d0-b0b9-c44be5cd1ce6 button.colab-df-convert');\n",
       "        buttonEl.style.display =\n",
       "          google.colab.kernel.accessAllowed ? 'block' : 'none';\n",
       "\n",
       "        async function convertToInteractive(key) {\n",
       "          const element = document.querySelector('#df-20bb5d97-3b5e-44d0-b0b9-c44be5cd1ce6');\n",
       "          const dataTable =\n",
       "            await google.colab.kernel.invokeFunction('convertToInteractive',\n",
       "                                                     [key], {});\n",
       "          if (!dataTable) return;\n",
       "\n",
       "          const docLinkHtml = 'Like what you see? Visit the ' +\n",
       "            '<a target=\"_blank\" href=https://colab.research.google.com/notebooks/data_table.ipynb>data table notebook</a>'\n",
       "            + ' to learn more about interactive tables.';\n",
       "          element.innerHTML = '';\n",
       "          dataTable['output_type'] = 'display_data';\n",
       "          await google.colab.output.renderOutput(dataTable, element);\n",
       "          const docLink = document.createElement('div');\n",
       "          docLink.innerHTML = docLinkHtml;\n",
       "          element.appendChild(docLink);\n",
       "        }\n",
       "      </script>\n",
       "    </div>\n",
       "  </div>\n",
       "  "
      ],
      "text/plain": [
       "                                                    no of missing values\n",
       "self_employed                                                          0\n",
       "no_of_employees                                                      287\n",
       "tech_company                                                         287\n",
       "role_IT                                                             1170\n",
       "mental_healthcare_coverage                                           287\n",
       "knowledge_about_mental_healthcare_options_workp...                   420\n",
       "employer_discussed_mental_health                                     287\n",
       "employer_offer_resources_to_learn_about_mental_...                   287\n",
       "medical_leave_from_work                                              287\n",
       "comfortable_discussing_with_coworkers                                287\n",
       "employer_take_mental_health_seriously                                287\n",
       "knowledge_of_local_online_resources                                 1146\n",
       "productivity_affected_by_mental_health                              1146\n",
       "percentage_work_time_affected_mental_health                         1229\n",
       "openess_of_family_friends                                              0\n",
       "family_history_mental_illness                                          0\n",
       "mental_health_disorder_past                                            0\n",
       "currently_mental_health_disorder                                       0\n",
       "diagnosed_mental_health_condition                                      0\n",
       "type_of_disorder                                                     722\n",
       "treatment_from_professional                                            0\n",
       "while_effective_treatment_mental_health_issue_i...                     0\n",
       "while_not_effective_treatment_interferes_work                          0\n",
       "age                                                                    0\n",
       "gender                                                                 3\n",
       "country                                                                0\n",
       "US state                                                             593\n",
       "country work                                                           0\n",
       "US state work                                                        582\n",
       "role_in_company                                                        0\n",
       "work_remotely                                                          0"
      ]
     },
     "execution_count": 356,
     "metadata": {},
     "output_type": "execute_result"
    }
   ],
   "source": [
    "## Now We Find the Missing values in different Columns\n",
    "columns=data.columns\n",
    "pd.DataFrame({'no of missing values':data.isnull().sum()})"
   ]
  },
  {
   "cell_type": "code",
   "execution_count": 357,
   "metadata": {
    "colab": {
     "base_uri": "https://localhost:8080/",
     "height": 0
    },
    "id": "jc7qBGHAmmiQ",
    "outputId": "1cc748ee-10b5-4aa6-bc3b-0f57a277441d"
   },
   "outputs": [
    {
     "data": {
      "text/html": [
       "\n",
       "  <div id=\"df-f23db25e-f7bf-462f-9521-9b474d56c0f0\">\n",
       "    <div class=\"colab-df-container\">\n",
       "      <div>\n",
       "<style scoped>\n",
       "    .dataframe tbody tr th:only-of-type {\n",
       "        vertical-align: middle;\n",
       "    }\n",
       "\n",
       "    .dataframe tbody tr th {\n",
       "        vertical-align: top;\n",
       "    }\n",
       "\n",
       "    .dataframe thead th {\n",
       "        text-align: right;\n",
       "    }\n",
       "</style>\n",
       "<table border=\"1\" class=\"dataframe\">\n",
       "  <thead>\n",
       "    <tr style=\"text-align: right;\">\n",
       "      <th></th>\n",
       "      <th>self_employed</th>\n",
       "      <th>no_of_employees</th>\n",
       "      <th>tech_company</th>\n",
       "      <th>role_IT</th>\n",
       "      <th>mental_healthcare_coverage</th>\n",
       "      <th>knowledge_about_mental_healthcare_options_workplace</th>\n",
       "      <th>employer_discussed_mental_health</th>\n",
       "      <th>employer_offer_resources_to_learn_about_mental_health</th>\n",
       "      <th>medical_leave_from_work</th>\n",
       "      <th>comfortable_discussing_with_coworkers</th>\n",
       "      <th>...</th>\n",
       "      <th>while_effective_treatment_mental_health_issue_interferes_work</th>\n",
       "      <th>while_not_effective_treatment_interferes_work</th>\n",
       "      <th>age</th>\n",
       "      <th>gender</th>\n",
       "      <th>country</th>\n",
       "      <th>US state</th>\n",
       "      <th>country work</th>\n",
       "      <th>US state work</th>\n",
       "      <th>role_in_company</th>\n",
       "      <th>work_remotely</th>\n",
       "    </tr>\n",
       "  </thead>\n",
       "  <tbody>\n",
       "    <tr>\n",
       "      <th>0</th>\n",
       "      <td>0</td>\n",
       "      <td>1 to 5</td>\n",
       "      <td>1.0</td>\n",
       "      <td>NaN</td>\n",
       "      <td>Yes</td>\n",
       "      <td>Yes</td>\n",
       "      <td>No</td>\n",
       "      <td>No</td>\n",
       "      <td>Somewhat difficult</td>\n",
       "      <td>Maybe</td>\n",
       "      <td>...</td>\n",
       "      <td>Sometimes</td>\n",
       "      <td>Often</td>\n",
       "      <td>33</td>\n",
       "      <td>Male</td>\n",
       "      <td>Canada</td>\n",
       "      <td>NaN</td>\n",
       "      <td>Canada</td>\n",
       "      <td>NaN</td>\n",
       "      <td>Back-end Developer</td>\n",
       "      <td>Sometimes</td>\n",
       "    </tr>\n",
       "    <tr>\n",
       "      <th>1</th>\n",
       "      <td>0</td>\n",
       "      <td>1 to 5</td>\n",
       "      <td>1.0</td>\n",
       "      <td>NaN</td>\n",
       "      <td>No</td>\n",
       "      <td>No</td>\n",
       "      <td>No</td>\n",
       "      <td>I don't know</td>\n",
       "      <td>Very easy</td>\n",
       "      <td>Yes</td>\n",
       "      <td>...</td>\n",
       "      <td>Not applicable to me</td>\n",
       "      <td>Not applicable to me</td>\n",
       "      <td>40</td>\n",
       "      <td>male</td>\n",
       "      <td>Netherlands</td>\n",
       "      <td>NaN</td>\n",
       "      <td>Netherlands</td>\n",
       "      <td>NaN</td>\n",
       "      <td>Front-end Developer|Back-end Developer</td>\n",
       "      <td>Sometimes</td>\n",
       "    </tr>\n",
       "    <tr>\n",
       "      <th>2</th>\n",
       "      <td>0</td>\n",
       "      <td>1 to 5</td>\n",
       "      <td>1.0</td>\n",
       "      <td>NaN</td>\n",
       "      <td>Yes</td>\n",
       "      <td>Yes</td>\n",
       "      <td>No</td>\n",
       "      <td>I don't know</td>\n",
       "      <td>I don't know</td>\n",
       "      <td>Maybe</td>\n",
       "      <td>...</td>\n",
       "      <td>Not applicable to me</td>\n",
       "      <td>Not applicable to me</td>\n",
       "      <td>21</td>\n",
       "      <td>male</td>\n",
       "      <td>United Kingdom</td>\n",
       "      <td>NaN</td>\n",
       "      <td>United Kingdom</td>\n",
       "      <td>NaN</td>\n",
       "      <td>Back-end Developer|DevOps/SysAdmin</td>\n",
       "      <td>Never</td>\n",
       "    </tr>\n",
       "    <tr>\n",
       "      <th>3</th>\n",
       "      <td>0</td>\n",
       "      <td>1 to 5</td>\n",
       "      <td>1.0</td>\n",
       "      <td>NaN</td>\n",
       "      <td>No</td>\n",
       "      <td>No</td>\n",
       "      <td>No</td>\n",
       "      <td>No</td>\n",
       "      <td>Very difficult</td>\n",
       "      <td>No</td>\n",
       "      <td>...</td>\n",
       "      <td>Often</td>\n",
       "      <td>Often</td>\n",
       "      <td>36</td>\n",
       "      <td>Male</td>\n",
       "      <td>Brazil</td>\n",
       "      <td>NaN</td>\n",
       "      <td>Brazil</td>\n",
       "      <td>NaN</td>\n",
       "      <td>Back-end Developer</td>\n",
       "      <td>Never</td>\n",
       "    </tr>\n",
       "    <tr>\n",
       "      <th>4</th>\n",
       "      <td>0</td>\n",
       "      <td>1 to 5</td>\n",
       "      <td>0.0</td>\n",
       "      <td>1.0</td>\n",
       "      <td>I don't know</td>\n",
       "      <td>No</td>\n",
       "      <td>Yes</td>\n",
       "      <td>No</td>\n",
       "      <td>Very difficult</td>\n",
       "      <td>Yes</td>\n",
       "      <td>...</td>\n",
       "      <td>Not applicable to me</td>\n",
       "      <td>Often</td>\n",
       "      <td>36</td>\n",
       "      <td>F</td>\n",
       "      <td>United States of America</td>\n",
       "      <td>Indiana</td>\n",
       "      <td>United States of America</td>\n",
       "      <td>Indiana</td>\n",
       "      <td>Other</td>\n",
       "      <td>Sometimes</td>\n",
       "    </tr>\n",
       "    <tr>\n",
       "      <th>...</th>\n",
       "      <td>...</td>\n",
       "      <td>...</td>\n",
       "      <td>...</td>\n",
       "      <td>...</td>\n",
       "      <td>...</td>\n",
       "      <td>...</td>\n",
       "      <td>...</td>\n",
       "      <td>...</td>\n",
       "      <td>...</td>\n",
       "      <td>...</td>\n",
       "      <td>...</td>\n",
       "      <td>...</td>\n",
       "      <td>...</td>\n",
       "      <td>...</td>\n",
       "      <td>...</td>\n",
       "      <td>...</td>\n",
       "      <td>...</td>\n",
       "      <td>...</td>\n",
       "      <td>...</td>\n",
       "      <td>...</td>\n",
       "      <td>...</td>\n",
       "    </tr>\n",
       "    <tr>\n",
       "      <th>1428</th>\n",
       "      <td>1</td>\n",
       "      <td>NaN</td>\n",
       "      <td>NaN</td>\n",
       "      <td>NaN</td>\n",
       "      <td>NaN</td>\n",
       "      <td>NaN</td>\n",
       "      <td>NaN</td>\n",
       "      <td>NaN</td>\n",
       "      <td>NaN</td>\n",
       "      <td>NaN</td>\n",
       "      <td>...</td>\n",
       "      <td>Often</td>\n",
       "      <td>Often</td>\n",
       "      <td>29</td>\n",
       "      <td>Male</td>\n",
       "      <td>Canada</td>\n",
       "      <td>NaN</td>\n",
       "      <td>Canada</td>\n",
       "      <td>NaN</td>\n",
       "      <td>One-person shop|Designer|Front-end Developer|B...</td>\n",
       "      <td>Sometimes</td>\n",
       "    </tr>\n",
       "    <tr>\n",
       "      <th>1429</th>\n",
       "      <td>1</td>\n",
       "      <td>NaN</td>\n",
       "      <td>NaN</td>\n",
       "      <td>NaN</td>\n",
       "      <td>NaN</td>\n",
       "      <td>NaN</td>\n",
       "      <td>NaN</td>\n",
       "      <td>NaN</td>\n",
       "      <td>NaN</td>\n",
       "      <td>NaN</td>\n",
       "      <td>...</td>\n",
       "      <td>Not applicable to me</td>\n",
       "      <td>Not applicable to me</td>\n",
       "      <td>34</td>\n",
       "      <td>m</td>\n",
       "      <td>Germany</td>\n",
       "      <td>NaN</td>\n",
       "      <td>Germany</td>\n",
       "      <td>NaN</td>\n",
       "      <td>One-person shop</td>\n",
       "      <td>Sometimes</td>\n",
       "    </tr>\n",
       "    <tr>\n",
       "      <th>1430</th>\n",
       "      <td>1</td>\n",
       "      <td>NaN</td>\n",
       "      <td>NaN</td>\n",
       "      <td>NaN</td>\n",
       "      <td>NaN</td>\n",
       "      <td>NaN</td>\n",
       "      <td>NaN</td>\n",
       "      <td>NaN</td>\n",
       "      <td>NaN</td>\n",
       "      <td>NaN</td>\n",
       "      <td>...</td>\n",
       "      <td>Not applicable to me</td>\n",
       "      <td>Not applicable to me</td>\n",
       "      <td>29</td>\n",
       "      <td>Male</td>\n",
       "      <td>United Kingdom</td>\n",
       "      <td>NaN</td>\n",
       "      <td>United Kingdom</td>\n",
       "      <td>NaN</td>\n",
       "      <td>Back-end Developer|DevOps/SysAdmin|Supervisor/...</td>\n",
       "      <td>Always</td>\n",
       "    </tr>\n",
       "    <tr>\n",
       "      <th>1431</th>\n",
       "      <td>1</td>\n",
       "      <td>NaN</td>\n",
       "      <td>NaN</td>\n",
       "      <td>NaN</td>\n",
       "      <td>NaN</td>\n",
       "      <td>NaN</td>\n",
       "      <td>NaN</td>\n",
       "      <td>NaN</td>\n",
       "      <td>NaN</td>\n",
       "      <td>NaN</td>\n",
       "      <td>...</td>\n",
       "      <td>Not applicable to me</td>\n",
       "      <td>Not applicable to me</td>\n",
       "      <td>34</td>\n",
       "      <td>Female</td>\n",
       "      <td>United States of America</td>\n",
       "      <td>New York</td>\n",
       "      <td>United States of America</td>\n",
       "      <td>New York</td>\n",
       "      <td>Other</td>\n",
       "      <td>Sometimes</td>\n",
       "    </tr>\n",
       "    <tr>\n",
       "      <th>1432</th>\n",
       "      <td>1</td>\n",
       "      <td>NaN</td>\n",
       "      <td>NaN</td>\n",
       "      <td>NaN</td>\n",
       "      <td>NaN</td>\n",
       "      <td>NaN</td>\n",
       "      <td>NaN</td>\n",
       "      <td>NaN</td>\n",
       "      <td>NaN</td>\n",
       "      <td>NaN</td>\n",
       "      <td>...</td>\n",
       "      <td>Sometimes</td>\n",
       "      <td>Often</td>\n",
       "      <td>56</td>\n",
       "      <td>MALE</td>\n",
       "      <td>United States of America</td>\n",
       "      <td>California</td>\n",
       "      <td>Afghanistan</td>\n",
       "      <td>NaN</td>\n",
       "      <td>Support</td>\n",
       "      <td>Sometimes</td>\n",
       "    </tr>\n",
       "  </tbody>\n",
       "</table>\n",
       "<p>1433 rows × 31 columns</p>\n",
       "</div>\n",
       "      <button class=\"colab-df-convert\" onclick=\"convertToInteractive('df-f23db25e-f7bf-462f-9521-9b474d56c0f0')\"\n",
       "              title=\"Convert this dataframe to an interactive table.\"\n",
       "              style=\"display:none;\">\n",
       "        \n",
       "  <svg xmlns=\"http://www.w3.org/2000/svg\" height=\"24px\"viewBox=\"0 0 24 24\"\n",
       "       width=\"24px\">\n",
       "    <path d=\"M0 0h24v24H0V0z\" fill=\"none\"/>\n",
       "    <path d=\"M18.56 5.44l.94 2.06.94-2.06 2.06-.94-2.06-.94-.94-2.06-.94 2.06-2.06.94zm-11 1L8.5 8.5l.94-2.06 2.06-.94-2.06-.94L8.5 2.5l-.94 2.06-2.06.94zm10 10l.94 2.06.94-2.06 2.06-.94-2.06-.94-.94-2.06-.94 2.06-2.06.94z\"/><path d=\"M17.41 7.96l-1.37-1.37c-.4-.4-.92-.59-1.43-.59-.52 0-1.04.2-1.43.59L10.3 9.45l-7.72 7.72c-.78.78-.78 2.05 0 2.83L4 21.41c.39.39.9.59 1.41.59.51 0 1.02-.2 1.41-.59l7.78-7.78 2.81-2.81c.8-.78.8-2.07 0-2.86zM5.41 20L4 18.59l7.72-7.72 1.47 1.35L5.41 20z\"/>\n",
       "  </svg>\n",
       "      </button>\n",
       "      \n",
       "  <style>\n",
       "    .colab-df-container {\n",
       "      display:flex;\n",
       "      flex-wrap:wrap;\n",
       "      gap: 12px;\n",
       "    }\n",
       "\n",
       "    .colab-df-convert {\n",
       "      background-color: #E8F0FE;\n",
       "      border: none;\n",
       "      border-radius: 50%;\n",
       "      cursor: pointer;\n",
       "      display: none;\n",
       "      fill: #1967D2;\n",
       "      height: 32px;\n",
       "      padding: 0 0 0 0;\n",
       "      width: 32px;\n",
       "    }\n",
       "\n",
       "    .colab-df-convert:hover {\n",
       "      background-color: #E2EBFA;\n",
       "      box-shadow: 0px 1px 2px rgba(60, 64, 67, 0.3), 0px 1px 3px 1px rgba(60, 64, 67, 0.15);\n",
       "      fill: #174EA6;\n",
       "    }\n",
       "\n",
       "    [theme=dark] .colab-df-convert {\n",
       "      background-color: #3B4455;\n",
       "      fill: #D2E3FC;\n",
       "    }\n",
       "\n",
       "    [theme=dark] .colab-df-convert:hover {\n",
       "      background-color: #434B5C;\n",
       "      box-shadow: 0px 1px 3px 1px rgba(0, 0, 0, 0.15);\n",
       "      filter: drop-shadow(0px 1px 2px rgba(0, 0, 0, 0.3));\n",
       "      fill: #FFFFFF;\n",
       "    }\n",
       "  </style>\n",
       "\n",
       "      <script>\n",
       "        const buttonEl =\n",
       "          document.querySelector('#df-f23db25e-f7bf-462f-9521-9b474d56c0f0 button.colab-df-convert');\n",
       "        buttonEl.style.display =\n",
       "          google.colab.kernel.accessAllowed ? 'block' : 'none';\n",
       "\n",
       "        async function convertToInteractive(key) {\n",
       "          const element = document.querySelector('#df-f23db25e-f7bf-462f-9521-9b474d56c0f0');\n",
       "          const dataTable =\n",
       "            await google.colab.kernel.invokeFunction('convertToInteractive',\n",
       "                                                     [key], {});\n",
       "          if (!dataTable) return;\n",
       "\n",
       "          const docLinkHtml = 'Like what you see? Visit the ' +\n",
       "            '<a target=\"_blank\" href=https://colab.research.google.com/notebooks/data_table.ipynb>data table notebook</a>'\n",
       "            + ' to learn more about interactive tables.';\n",
       "          element.innerHTML = '';\n",
       "          dataTable['output_type'] = 'display_data';\n",
       "          await google.colab.output.renderOutput(dataTable, element);\n",
       "          const docLink = document.createElement('div');\n",
       "          docLink.innerHTML = docLinkHtml;\n",
       "          element.appendChild(docLink);\n",
       "        }\n",
       "      </script>\n",
       "    </div>\n",
       "  </div>\n",
       "  "
      ],
      "text/plain": [
       "      self_employed no_of_employees  tech_company  role_IT  \\\n",
       "0                 0          1 to 5           1.0      NaN   \n",
       "1                 0          1 to 5           1.0      NaN   \n",
       "2                 0          1 to 5           1.0      NaN   \n",
       "3                 0          1 to 5           1.0      NaN   \n",
       "4                 0          1 to 5           0.0      1.0   \n",
       "...             ...             ...           ...      ...   \n",
       "1428              1             NaN           NaN      NaN   \n",
       "1429              1             NaN           NaN      NaN   \n",
       "1430              1             NaN           NaN      NaN   \n",
       "1431              1             NaN           NaN      NaN   \n",
       "1432              1             NaN           NaN      NaN   \n",
       "\n",
       "     mental_healthcare_coverage  \\\n",
       "0                           Yes   \n",
       "1                            No   \n",
       "2                           Yes   \n",
       "3                            No   \n",
       "4                  I don't know   \n",
       "...                         ...   \n",
       "1428                        NaN   \n",
       "1429                        NaN   \n",
       "1430                        NaN   \n",
       "1431                        NaN   \n",
       "1432                        NaN   \n",
       "\n",
       "     knowledge_about_mental_healthcare_options_workplace  \\\n",
       "0                                                   Yes    \n",
       "1                                                    No    \n",
       "2                                                   Yes    \n",
       "3                                                    No    \n",
       "4                                                    No    \n",
       "...                                                 ...    \n",
       "1428                                                NaN    \n",
       "1429                                                NaN    \n",
       "1430                                                NaN    \n",
       "1431                                                NaN    \n",
       "1432                                                NaN    \n",
       "\n",
       "     employer_discussed_mental_health   \\\n",
       "0                                   No   \n",
       "1                                   No   \n",
       "2                                   No   \n",
       "3                                   No   \n",
       "4                                  Yes   \n",
       "...                                ...   \n",
       "1428                               NaN   \n",
       "1429                               NaN   \n",
       "1430                               NaN   \n",
       "1431                               NaN   \n",
       "1432                               NaN   \n",
       "\n",
       "     employer_offer_resources_to_learn_about_mental_health  \\\n",
       "0                                                    No      \n",
       "1                                          I don't know      \n",
       "2                                          I don't know      \n",
       "3                                                    No      \n",
       "4                                                    No      \n",
       "...                                                 ...      \n",
       "1428                                                NaN      \n",
       "1429                                                NaN      \n",
       "1430                                                NaN      \n",
       "1431                                                NaN      \n",
       "1432                                                NaN      \n",
       "\n",
       "     medical_leave_from_work  comfortable_discussing_with_coworkers  ...  \\\n",
       "0          Somewhat difficult                                 Maybe  ...   \n",
       "1                   Very easy                                   Yes  ...   \n",
       "2                I don't know                                 Maybe  ...   \n",
       "3              Very difficult                                    No  ...   \n",
       "4              Very difficult                                   Yes  ...   \n",
       "...                       ...                                   ...  ...   \n",
       "1428                      NaN                                   NaN  ...   \n",
       "1429                      NaN                                   NaN  ...   \n",
       "1430                      NaN                                   NaN  ...   \n",
       "1431                      NaN                                   NaN  ...   \n",
       "1432                      NaN                                   NaN  ...   \n",
       "\n",
       "     while_effective_treatment_mental_health_issue_interferes_work  \\\n",
       "0                                             Sometimes              \n",
       "1                                  Not applicable to me              \n",
       "2                                  Not applicable to me              \n",
       "3                                                 Often              \n",
       "4                                  Not applicable to me              \n",
       "...                                                 ...              \n",
       "1428                                              Often              \n",
       "1429                               Not applicable to me              \n",
       "1430                               Not applicable to me              \n",
       "1431                               Not applicable to me              \n",
       "1432                                          Sometimes              \n",
       "\n",
       "     while_not_effective_treatment_interferes_work  age   gender  \\\n",
       "0                                             Often  33     Male   \n",
       "1                              Not applicable to me  40     male   \n",
       "2                              Not applicable to me  21     male   \n",
       "3                                             Often  36     Male   \n",
       "4                                             Often  36        F   \n",
       "...                                             ...  ..      ...   \n",
       "1428                                          Often  29     Male   \n",
       "1429                           Not applicable to me  34        m   \n",
       "1430                           Not applicable to me  29     Male   \n",
       "1431                           Not applicable to me  34  Female    \n",
       "1432                                          Often  56     MALE   \n",
       "\n",
       "                       country    US state             country work   \\\n",
       "0                       Canada         NaN                    Canada   \n",
       "1                  Netherlands         NaN               Netherlands   \n",
       "2               United Kingdom         NaN            United Kingdom   \n",
       "3                       Brazil         NaN                    Brazil   \n",
       "4     United States of America     Indiana  United States of America   \n",
       "...                        ...         ...                       ...   \n",
       "1428                    Canada         NaN                    Canada   \n",
       "1429                   Germany         NaN                   Germany   \n",
       "1430            United Kingdom         NaN            United Kingdom   \n",
       "1431  United States of America    New York  United States of America   \n",
       "1432  United States of America  California               Afghanistan   \n",
       "\n",
       "     US state work                                    role_in_company  \\\n",
       "0              NaN                                 Back-end Developer   \n",
       "1              NaN             Front-end Developer|Back-end Developer   \n",
       "2              NaN                 Back-end Developer|DevOps/SysAdmin   \n",
       "3              NaN                                 Back-end Developer   \n",
       "4          Indiana                                              Other   \n",
       "...            ...                                                ...   \n",
       "1428           NaN  One-person shop|Designer|Front-end Developer|B...   \n",
       "1429           NaN                                    One-person shop   \n",
       "1430           NaN  Back-end Developer|DevOps/SysAdmin|Supervisor/...   \n",
       "1431      New York                                              Other   \n",
       "1432           NaN                                            Support   \n",
       "\n",
       "     work_remotely  \n",
       "0        Sometimes  \n",
       "1        Sometimes  \n",
       "2            Never  \n",
       "3            Never  \n",
       "4        Sometimes  \n",
       "...            ...  \n",
       "1428     Sometimes  \n",
       "1429     Sometimes  \n",
       "1430        Always  \n",
       "1431     Sometimes  \n",
       "1432     Sometimes  \n",
       "\n",
       "[1433 rows x 31 columns]"
      ]
     },
     "execution_count": 357,
     "metadata": {},
     "output_type": "execute_result"
    }
   ],
   "source": [
    "# Now we copy the dataset in data1\n",
    "data1=data.copy()\n",
    "data1"
   ]
  },
  {
   "cell_type": "code",
   "execution_count": 358,
   "metadata": {
    "colab": {
     "base_uri": "https://localhost:8080/"
    },
    "id": "H1rj9itYmxtK",
    "outputId": "26b3bc36-5b47-4156-d0dd-3289e1485bc0"
   },
   "outputs": [
    {
     "data": {
      "text/plain": [
       "(1433, 27)"
      ]
     },
     "execution_count": 358,
     "metadata": {},
     "output_type": "execute_result"
    }
   ],
   "source": [
    "# Now there are sum columns which has so many tuple are not have any value so it is unnecessary columns for us so we can remove it using  drop. \n",
    "remove_columns = ['role_IT',\n",
    "                  'knowledge_of_local_online_resources ',\n",
    "        'productivity_affected_by_mental_health ',\n",
    "        'percentage_work_time_affected_mental_health']\n",
    "data2=data1.drop(remove_columns,axis=1)\n",
    "data2.shape"
   ]
  },
  {
   "cell_type": "markdown",
   "metadata": {
    "id": "eO1ETtPwohUw"
   },
   "source": [
    "> # **Cleaning Different Columns**"
   ]
  },
  {
   "cell_type": "code",
   "execution_count": 359,
   "metadata": {
    "colab": {
     "base_uri": "https://localhost:8080/"
    },
    "id": "bw3PL0F-oyEe",
    "outputId": "537ab5e3-a1db-4227-9e5a-fefbfbf3612f"
   },
   "outputs": [
    {
     "name": "stdout",
     "output_type": "stream",
     "text": [
      "['1 to 5' '6 to 25' '26-99' '100-500' '26-100' '500-1000' 'More than 1000'\n",
      " nan]\n"
     ]
    },
    {
     "data": {
      "text/plain": [
       "array(['1 to 5', '6 to 25', '26-99', '100-500', '26-100', '500-1000',\n",
       "       'More than 1000', nan], dtype=object)"
      ]
     },
     "execution_count": 359,
     "metadata": {},
     "output_type": "execute_result"
    }
   ],
   "source": [
    "# No of employee column\n",
    "print(data2.no_of_employees.unique())\n",
    "data2.no_of_employees.unique()"
   ]
  },
  {
   "cell_type": "code",
   "execution_count": 360,
   "metadata": {
    "colab": {
     "base_uri": "https://localhost:8080/"
    },
    "id": "Lqs-iKOHqIky",
    "outputId": "065c1b76-c2d3-4359-84b4-7f731dccdeb9"
   },
   "outputs": [
    {
     "name": "stdout",
     "output_type": "stream",
     "text": [
      "26-100      326\n",
      ">1000       256\n",
      "100-500     248\n",
      "6-25        176\n",
      "500-1000     80\n",
      "1-5          60\n",
      "Name: no_of_employees, dtype: int64\n"
     ]
    }
   ],
   "source": [
    "# change the value format\n",
    "data2.no_of_employees.replace(to_replace=['1 to 5', '6 to 25','More than 1000','26-99'],\n",
    "                                value=['1-5','6-25','>1000','26-100'],inplace=True)\n",
    "\n",
    "print(data2.no_of_employees.value_counts())"
   ]
  },
  {
   "cell_type": "code",
   "execution_count": 360,
   "metadata": {
    "id": "x8xpX5EuwrZ1"
   },
   "outputs": [],
   "source": []
  },
  {
   "cell_type": "code",
   "execution_count": 361,
   "metadata": {
    "colab": {
     "base_uri": "https://localhost:8080/"
    },
    "id": "9lZdRoELsGVw",
    "outputId": "5f9be1ee-2089-4da3-a158-4e6f4399e9d4"
   },
   "outputs": [
    {
     "data": {
      "text/plain": [
       "array(['Yes', 'No', \"I don't know\", 'Not eligible for coverage / N/A',\n",
       "       nan], dtype=object)"
      ]
     },
     "execution_count": 361,
     "metadata": {},
     "output_type": "execute_result"
    }
   ],
   "source": [
    "# Cleaning Mental Health Care coverage column\n",
    "data2.mental_healthcare_coverage.unique()"
   ]
  },
  {
   "cell_type": "code",
   "execution_count": 362,
   "metadata": {
    "colab": {
     "base_uri": "https://localhost:8080/"
    },
    "id": "h5Gl7mgashcX",
    "outputId": "648bf5b2-6bbf-4ef8-da0e-b45eb2814df2"
   },
   "outputs": [
    {
     "name": "stdout",
     "output_type": "stream",
     "text": [
      "['Yes' 'No' \"I don't know\" nan]\n",
      "Yes             531\n",
      "I don't know    319\n",
      "No              296\n",
      "Name: mental_healthcare_coverage, dtype: int64\n"
     ]
    }
   ],
   "source": [
    "data2.mental_healthcare_coverage.replace(to_replace=['Not eligible for coverage / N/A'],\n",
    "                                value='No',inplace=True)\n",
    "print(data2.mental_healthcare_coverage.unique())\n",
    "print(data2.mental_healthcare_coverage.value_counts())"
   ]
  },
  {
   "cell_type": "code",
   "execution_count": 363,
   "metadata": {
    "colab": {
     "base_uri": "https://localhost:8080/"
    },
    "id": "tuqX9UgVt7Yv",
    "outputId": "66b98f71-978f-43ca-fb33-0f88be11ae48"
   },
   "outputs": [
    {
     "data": {
      "text/plain": [
       "array(['Somewhat open', 'Very open', 'Somewhat not open', 'Neutral',\n",
       "       'Not applicable to me (I do not have a mental illness)',\n",
       "       'Not open at all'], dtype=object)"
      ]
     },
     "execution_count": 363,
     "metadata": {},
     "output_type": "execute_result"
    }
   ],
   "source": [
    "# openess_of_family_friends column\n",
    "data2.openess_of_family_friends.unique()"
   ]
  },
  {
   "cell_type": "code",
   "execution_count": 364,
   "metadata": {
    "colab": {
     "base_uri": "https://localhost:8080/"
    },
    "id": "6ScU5UyVuDOF",
    "outputId": "cc3375dd-0996-433e-a219-038b6d2a0311"
   },
   "outputs": [
    {
     "data": {
      "text/plain": [
       "array(['Somewhat open', 'Very open', 'Somewhat not open', 'Neutral',\n",
       "       \"I don't know\", 'Not open at all'], dtype=object)"
      ]
     },
     "execution_count": 364,
     "metadata": {},
     "output_type": "execute_result"
    }
   ],
   "source": [
    "data2.openess_of_family_friends.replace(to_replace=['Not applicable to me (I do not have a mental illness)'],\n",
    "                                        value=\"I don't know\",inplace=True)\n",
    "data2.openess_of_family_friends.unique()"
   ]
  },
  {
   "cell_type": "code",
   "execution_count": 365,
   "metadata": {
    "colab": {
     "base_uri": "https://localhost:8080/"
    },
    "id": "v8STVOmQxd86",
    "outputId": "54695ad9-6cb1-4022-b06d-f38a02964567"
   },
   "outputs": [
    {
     "name": "stdout",
     "output_type": "stream",
     "text": [
      "Somewhat open        640\n",
      "Very open            251\n",
      "Somewhat not open    214\n",
      "Neutral              141\n",
      "I don't know         112\n",
      "Not open at all       75\n",
      "Name: openess_of_family_friends, dtype: int64\n"
     ]
    }
   ],
   "source": [
    "print(data2.openess_of_family_friends.value_counts())"
   ]
  },
  {
   "cell_type": "code",
   "execution_count": 366,
   "metadata": {
    "colab": {
     "base_uri": "https://localhost:8080/"
    },
    "id": "kgwEqyWzuf3F",
    "outputId": "9a8abda4-c432-4e0c-bc2a-854ed0e3ad5e"
   },
   "outputs": [
    {
     "name": "stdout",
     "output_type": "stream",
     "text": [
      "33.0\n"
     ]
    },
    {
     "data": {
      "text/plain": [
       "array([33., 40., 21., 36., 42., 26., 29., 30., 56., 35., 51., 24., 38.,\n",
       "       44., 27., 55., 22., 25., 28., 23., 32., 31., 43., 37., 39., 45.,\n",
       "       46., 20., 54., 34., 61., 41., 48., 66., 19., 52., 50., 49., 47.,\n",
       "       57., 74., 53., 58., 70., 59., 62., 63., 65.])"
      ]
     },
     "execution_count": 366,
     "metadata": {},
     "output_type": "execute_result"
    }
   ],
   "source": [
    "# Cleaning the age column remove outliers\n",
    "med_age = data2[(data2['age'] >= 18) | (data2['age'] <= 75)]['age'].median()\n",
    "print(med_age)\n",
    "data2['age'].replace(to_replace = data2[(data2['age'] < 18) | (data2['age'] > 75)]['age'].tolist(),\n",
    "                          value = med_age, inplace = True)\n",
    "data2.age.unique()"
   ]
  },
  {
   "cell_type": "code",
   "execution_count": 367,
   "metadata": {
    "colab": {
     "base_uri": "https://localhost:8080/"
    },
    "id": "Y3iMxG7z4w8A",
    "outputId": "96ef7443-effe-4cab-e7c0-edc57ff77457"
   },
   "outputs": [
    {
     "data": {
      "text/plain": [
       "array(['Male', 'male', 'F', 'Transitioned, M2F', 'Other/Transfeminine',\n",
       "       'M', 'female', 'm', 'Female', 'f', 'non-binary', 'woman', 'male ',\n",
       "       'Male ', 'Bigender', 'Genderfluid (born female)',\n",
       "       'male 9:1 female, roughly', 'Male (cis)', 'Other', 'Sex is male',\n",
       "       'genderqueer', 'Human', 'mail', 'Cis-woman',\n",
       "       'female-bodied; no feelings about gender', 'Transgender woman',\n",
       "       'Genderfluid', 'female ', 'Male/genderqueer', 'fem', 'Nonbinary',\n",
       "       ' Female', 'Female ', 'Genderqueer', nan, 'I identify as female.',\n",
       "       'fm', 'Cis female ', 'female/woman', 'Androgynous', 'man',\n",
       "       'nb masculine', 'Cisgender Female', 'Woman', 'Cis Male',\n",
       "       'Female or Multi-Gender Femme', 'Male.', 'Enby', 'Agender',\n",
       "       'Female (props for making this a freeform field, though)',\n",
       "       'cis man', 'Female assigned at birth ', 'Cis male', 'Man',\n",
       "       'none of your business', 'cis male', 'genderqueer woman', 'Queer',\n",
       "       'Dude', 'Male (trans, FtM)', 'cisdude', 'Genderflux demi-girl',\n",
       "       'Malr', 'mtf', 'Fluid',\n",
       "       \"I'm a man why didn't you make this a drop down question. You should of asked sex? And I would of answered yes please. Seriously how much text can this take? \",\n",
       "       'M|', 'human', 'Unicorn', 'AFAB', 'MALE'], dtype=object)"
      ]
     },
     "execution_count": 367,
     "metadata": {},
     "output_type": "execute_result"
    }
   ],
   "source": [
    "# gender column\n",
    "data2.gender.unique()"
   ]
  },
  {
   "cell_type": "code",
   "execution_count": 368,
   "metadata": {
    "id": "wWzzCkYb5TQZ"
   },
   "outputs": [],
   "source": [
    "data2['gender'].replace(to_replace = ['Male', 'male', 'Male ', 'M', 'm',\n",
    "       'man', 'Cis male', 'Male.', 'male 9:1 female, roughly', 'Male (cis)', 'Man', 'Sex is male',\n",
    "       'cis male', 'Malr', 'Dude', \"I'm a man why didn't you make this a drop down question. You should of asked sex? And I would of answered yes please. Seriously how much text can this take? \",\n",
    "       'mail', 'M|', 'Male/genderqueer', 'male ',\n",
    "       'Cis Male', 'Male (trans, FtM)',\n",
    "       'cisdude', 'cis man', 'MALE'], value = 'male', inplace = True)\n",
    "data2['gender'].replace(to_replace = ['Female', 'female', 'I identify as female.', 'female ',\n",
    "       'Female assigned at birth ', 'F', 'Woman', 'fm', 'f', 'Cis female ', 'Transitioned, M2F',\n",
    "       'Genderfluid (born female)', 'Female or Multi-Gender Femme', 'Female ', 'woman', 'female/woman',\n",
    "       'Cisgender Female', 'fem', 'Female (props for making this a freeform field, though)',\n",
    "       ' Female', 'Cis-woman', 'female-bodied; no feelings about gender',\n",
    "       'AFAB'], value = 'female', inplace = True)\n",
    "data2['gender'].replace(to_replace = ['Bigender', 'non-binary', 'Other/Transfeminine',\n",
    "       'Androgynous', 'Other', 'nb masculine',\n",
    "       'none of your business', 'genderqueer', 'Human', 'Genderfluid',\n",
    "       'Enby', 'genderqueer woman', 'mtf', 'Queer', 'Agender', 'Fluid',\n",
    "       'Nonbinary', 'human', 'Unicorn', 'Genderqueer',\n",
    "       'Genderflux demi-girl', 'Transgender woman'], value = 'other', inplace = True)"
   ]
  },
  {
   "cell_type": "code",
   "execution_count": 369,
   "metadata": {
    "colab": {
     "base_uri": "https://localhost:8080/"
    },
    "id": "uPFwhFRO5zZj",
    "outputId": "28f74ad2-ee6d-4d14-bb04-74756f7e9ac2"
   },
   "outputs": [
    {
     "data": {
      "text/plain": [
       "array(['male', 'female', 'other', nan], dtype=object)"
      ]
     },
     "execution_count": 369,
     "metadata": {},
     "output_type": "execute_result"
    }
   ],
   "source": [
    "data2.gender.unique()"
   ]
  },
  {
   "cell_type": "code",
   "execution_count": 370,
   "metadata": {
    "colab": {
     "base_uri": "https://localhost:8080/"
    },
    "id": "jWINqAx357In",
    "outputId": "c5ec7b57-97d5-4968-9fb0-d1f8d35bfeee"
   },
   "outputs": [
    {
     "data": {
      "text/plain": [
       "male      1060\n",
       "female     343\n",
       "other       27\n",
       "Name: gender, dtype: int64"
      ]
     },
     "execution_count": 370,
     "metadata": {},
     "output_type": "execute_result"
    }
   ],
   "source": [
    "data2.gender.value_counts()"
   ]
  },
  {
   "cell_type": "code",
   "execution_count": 371,
   "metadata": {
    "id": "Q7pJMKsQ7pDy"
   },
   "outputs": [],
   "source": [
    "## Cleaning the role_in_company\n",
    "tech_list = []\n",
    "tech_list.append(data2[data2['role_in_company'].str.contains('Back-end')]['role_in_company'].tolist())\n",
    "tech_list.append(data2[data2['role_in_company'].str.contains('Front-end')]['role_in_company'].tolist())\n",
    "tech_list.append(data2[data2['role_in_company'].str.contains('Dev')]['role_in_company'].tolist())\n",
    "tech_list.append(data2[data2['role_in_company'].str.contains('DevOps')]['role_in_company'].tolist())\n",
    "flat_list = [item for sublist in tech_list for item in sublist]\n",
    "flat_list = list(dict.fromkeys(flat_list))"
   ]
  },
  {
   "cell_type": "code",
   "execution_count": 372,
   "metadata": {
    "id": "eX8PzJHfEt4Q"
   },
   "outputs": [],
   "source": [
    "## Replace tech role=1 and other=0 in a new tech role operation\n",
    "data2['tech_role']=data2['role_in_company']\n",
    "data2['tech_role'].replace(to_replace=flat_list,value=1,inplace=True)\n",
    "remain_list=data2['tech_role'].unique()[1:]\n",
    "data2['tech_role'].replace(to_replace=remain_list,value=0,inplace=True)"
   ]
  },
  {
   "cell_type": "code",
   "execution_count": 373,
   "metadata": {
    "colab": {
     "base_uri": "https://localhost:8080/"
    },
    "id": "LwB_91m0yPWG",
    "outputId": "49857a4f-1a4d-4217-e307-5b1dc73e2b82"
   },
   "outputs": [
    {
     "data": {
      "text/plain": [
       "1    1045\n",
       "0     388\n",
       "Name: tech_role, dtype: int64"
      ]
     },
     "execution_count": 373,
     "metadata": {},
     "output_type": "execute_result"
    }
   ],
   "source": [
    "data2.tech_role.value_counts()"
   ]
  },
  {
   "cell_type": "code",
   "execution_count": 374,
   "metadata": {
    "id": "CULPO4nrG-Wy"
   },
   "outputs": [],
   "source": [
    "data2=data2.drop(['role_in_company'],axis=1)"
   ]
  },
  {
   "cell_type": "markdown",
   "metadata": {
    "id": "tocR0KdFAQqP"
   },
   "source": [
    "> # **Handling Missing values**"
   ]
  },
  {
   "cell_type": "code",
   "execution_count": 375,
   "metadata": {
    "colab": {
     "base_uri": "https://localhost:8080/"
    },
    "id": "U84RRMnyAdK9",
    "outputId": "9ee6adf8-bae9-4779-96de-bd3925555fa8"
   },
   "outputs": [
    {
     "name": "stdout",
     "output_type": "stream",
     "text": [
      "<class 'pandas.core.frame.DataFrame'>\n",
      "RangeIndex: 1433 entries, 0 to 1432\n",
      "Data columns (total 3 columns):\n",
      " #   Column            Non-Null Count  Dtype \n",
      "---  ------            --------------  ----- \n",
      " 0   type_of_disorder  711 non-null    object\n",
      " 1   US state          840 non-null    object\n",
      " 2   US state work     851 non-null    object\n",
      "dtypes: object(3)\n",
      "memory usage: 33.7+ KB\n",
      "None\n"
     ]
    }
   ],
   "source": [
    "data3=pd.concat([data2['type_of_disorder'],data2['US state'],data2['US state work']],axis=1)\n",
    "print(data3.info())\n",
    "data2=data2.drop(['type_of_disorder','US state','US state work'],axis=1)"
   ]
  },
  {
   "cell_type": "code",
   "execution_count": 376,
   "metadata": {
    "colab": {
     "base_uri": "https://localhost:8080/"
    },
    "id": "7K20Fw3xF4S2",
    "outputId": "bbed964e-55ae-4b7d-e8f7-f73f1bb9dcd3"
   },
   "outputs": [
    {
     "name": "stdout",
     "output_type": "stream",
     "text": [
      "<class 'pandas.core.frame.DataFrame'>\n",
      "RangeIndex: 1433 entries, 0 to 1432\n",
      "Data columns (total 24 columns):\n",
      " #   Column                                                         Non-Null Count  Dtype  \n",
      "---  ------                                                         --------------  -----  \n",
      " 0   self_employed                                                  1433 non-null   int64  \n",
      " 1   no_of_employees                                                1146 non-null   object \n",
      " 2   tech_company                                                   1146 non-null   float64\n",
      " 3   mental_healthcare_coverage                                     1146 non-null   object \n",
      " 4   knowledge_about_mental_healthcare_options_workplace            1013 non-null   object \n",
      " 5   employer_discussed_mental_health                               1146 non-null   object \n",
      " 6   employer_offer_resources_to_learn_about_mental_health          1146 non-null   object \n",
      " 7   medical_leave_from_work                                        1146 non-null   object \n",
      " 8   comfortable_discussing_with_coworkers                          1146 non-null   object \n",
      " 9   employer_take_mental_health_seriously                          1146 non-null   object \n",
      " 10  openess_of_family_friends                                      1433 non-null   object \n",
      " 11  family_history_mental_illness                                  1433 non-null   object \n",
      " 12  mental_health_disorder_past                                    1433 non-null   object \n",
      " 13  currently_mental_health_disorder                               1433 non-null   object \n",
      " 14  diagnosed_mental_health_condition                              1433 non-null   object \n",
      " 15  treatment_from_professional                                    1433 non-null   int64  \n",
      " 16  while_effective_treatment_mental_health_issue_interferes_work  1433 non-null   object \n",
      " 17  while_not_effective_treatment_interferes_work                  1433 non-null   object \n",
      " 18  age                                                            1433 non-null   float64\n",
      " 19  gender                                                         1430 non-null   object \n",
      " 20  country                                                        1433 non-null   object \n",
      " 21  country work                                                   1433 non-null   object \n",
      " 22  work_remotely                                                  1433 non-null   object \n",
      " 23  tech_role                                                      1433 non-null   int64  \n",
      "dtypes: float64(2), int64(3), object(19)\n",
      "memory usage: 268.8+ KB\n"
     ]
    }
   ],
   "source": [
    "data2.info()"
   ]
  },
  {
   "cell_type": "code",
   "execution_count": 377,
   "metadata": {
    "id": "nQL5G077HVMj"
   },
   "outputs": [],
   "source": [
    "from sklearn.impute import SimpleImputer\n",
    "imp = SimpleImputer(missing_values=np.nan, strategy='most_frequent')\n",
    "imp.fit(data2)\n",
    "imp_data=pd.DataFrame(data=imp.transform(data2),columns=data2.columns)"
   ]
  },
  {
   "cell_type": "code",
   "execution_count": 378,
   "metadata": {
    "colab": {
     "base_uri": "https://localhost:8080/",
     "height": 0
    },
    "id": "nMG3Tw17IDnI",
    "outputId": "22abf1d0-ff60-4c98-9890-3309ee2f831e"
   },
   "outputs": [
    {
     "data": {
      "text/html": [
       "\n",
       "  <div id=\"df-c018a008-7c9b-46e0-83dd-9d13bdad2ac6\">\n",
       "    <div class=\"colab-df-container\">\n",
       "      <div>\n",
       "<style scoped>\n",
       "    .dataframe tbody tr th:only-of-type {\n",
       "        vertical-align: middle;\n",
       "    }\n",
       "\n",
       "    .dataframe tbody tr th {\n",
       "        vertical-align: top;\n",
       "    }\n",
       "\n",
       "    .dataframe thead th {\n",
       "        text-align: right;\n",
       "    }\n",
       "</style>\n",
       "<table border=\"1\" class=\"dataframe\">\n",
       "  <thead>\n",
       "    <tr style=\"text-align: right;\">\n",
       "      <th></th>\n",
       "      <th>0</th>\n",
       "    </tr>\n",
       "  </thead>\n",
       "  <tbody>\n",
       "    <tr>\n",
       "      <th>self_employed</th>\n",
       "      <td>0</td>\n",
       "    </tr>\n",
       "    <tr>\n",
       "      <th>no_of_employees</th>\n",
       "      <td>0</td>\n",
       "    </tr>\n",
       "    <tr>\n",
       "      <th>tech_company</th>\n",
       "      <td>0</td>\n",
       "    </tr>\n",
       "    <tr>\n",
       "      <th>mental_healthcare_coverage</th>\n",
       "      <td>0</td>\n",
       "    </tr>\n",
       "    <tr>\n",
       "      <th>knowledge_about_mental_healthcare_options_workplace</th>\n",
       "      <td>0</td>\n",
       "    </tr>\n",
       "    <tr>\n",
       "      <th>employer_discussed_mental_health</th>\n",
       "      <td>0</td>\n",
       "    </tr>\n",
       "    <tr>\n",
       "      <th>employer_offer_resources_to_learn_about_mental_health</th>\n",
       "      <td>0</td>\n",
       "    </tr>\n",
       "    <tr>\n",
       "      <th>medical_leave_from_work</th>\n",
       "      <td>0</td>\n",
       "    </tr>\n",
       "    <tr>\n",
       "      <th>comfortable_discussing_with_coworkers</th>\n",
       "      <td>0</td>\n",
       "    </tr>\n",
       "    <tr>\n",
       "      <th>employer_take_mental_health_seriously</th>\n",
       "      <td>0</td>\n",
       "    </tr>\n",
       "    <tr>\n",
       "      <th>openess_of_family_friends</th>\n",
       "      <td>0</td>\n",
       "    </tr>\n",
       "    <tr>\n",
       "      <th>family_history_mental_illness</th>\n",
       "      <td>0</td>\n",
       "    </tr>\n",
       "    <tr>\n",
       "      <th>mental_health_disorder_past</th>\n",
       "      <td>0</td>\n",
       "    </tr>\n",
       "    <tr>\n",
       "      <th>currently_mental_health_disorder</th>\n",
       "      <td>0</td>\n",
       "    </tr>\n",
       "    <tr>\n",
       "      <th>diagnosed_mental_health_condition</th>\n",
       "      <td>0</td>\n",
       "    </tr>\n",
       "    <tr>\n",
       "      <th>treatment_from_professional</th>\n",
       "      <td>0</td>\n",
       "    </tr>\n",
       "    <tr>\n",
       "      <th>while_effective_treatment_mental_health_issue_interferes_work</th>\n",
       "      <td>0</td>\n",
       "    </tr>\n",
       "    <tr>\n",
       "      <th>while_not_effective_treatment_interferes_work</th>\n",
       "      <td>0</td>\n",
       "    </tr>\n",
       "    <tr>\n",
       "      <th>age</th>\n",
       "      <td>0</td>\n",
       "    </tr>\n",
       "    <tr>\n",
       "      <th>gender</th>\n",
       "      <td>0</td>\n",
       "    </tr>\n",
       "    <tr>\n",
       "      <th>country</th>\n",
       "      <td>0</td>\n",
       "    </tr>\n",
       "    <tr>\n",
       "      <th>country work</th>\n",
       "      <td>0</td>\n",
       "    </tr>\n",
       "    <tr>\n",
       "      <th>work_remotely</th>\n",
       "      <td>0</td>\n",
       "    </tr>\n",
       "    <tr>\n",
       "      <th>tech_role</th>\n",
       "      <td>0</td>\n",
       "    </tr>\n",
       "    <tr>\n",
       "      <th>type_of_disorder</th>\n",
       "      <td>722</td>\n",
       "    </tr>\n",
       "    <tr>\n",
       "      <th>US state</th>\n",
       "      <td>593</td>\n",
       "    </tr>\n",
       "    <tr>\n",
       "      <th>US state work</th>\n",
       "      <td>582</td>\n",
       "    </tr>\n",
       "  </tbody>\n",
       "</table>\n",
       "</div>\n",
       "      <button class=\"colab-df-convert\" onclick=\"convertToInteractive('df-c018a008-7c9b-46e0-83dd-9d13bdad2ac6')\"\n",
       "              title=\"Convert this dataframe to an interactive table.\"\n",
       "              style=\"display:none;\">\n",
       "        \n",
       "  <svg xmlns=\"http://www.w3.org/2000/svg\" height=\"24px\"viewBox=\"0 0 24 24\"\n",
       "       width=\"24px\">\n",
       "    <path d=\"M0 0h24v24H0V0z\" fill=\"none\"/>\n",
       "    <path d=\"M18.56 5.44l.94 2.06.94-2.06 2.06-.94-2.06-.94-.94-2.06-.94 2.06-2.06.94zm-11 1L8.5 8.5l.94-2.06 2.06-.94-2.06-.94L8.5 2.5l-.94 2.06-2.06.94zm10 10l.94 2.06.94-2.06 2.06-.94-2.06-.94-.94-2.06-.94 2.06-2.06.94z\"/><path d=\"M17.41 7.96l-1.37-1.37c-.4-.4-.92-.59-1.43-.59-.52 0-1.04.2-1.43.59L10.3 9.45l-7.72 7.72c-.78.78-.78 2.05 0 2.83L4 21.41c.39.39.9.59 1.41.59.51 0 1.02-.2 1.41-.59l7.78-7.78 2.81-2.81c.8-.78.8-2.07 0-2.86zM5.41 20L4 18.59l7.72-7.72 1.47 1.35L5.41 20z\"/>\n",
       "  </svg>\n",
       "      </button>\n",
       "      \n",
       "  <style>\n",
       "    .colab-df-container {\n",
       "      display:flex;\n",
       "      flex-wrap:wrap;\n",
       "      gap: 12px;\n",
       "    }\n",
       "\n",
       "    .colab-df-convert {\n",
       "      background-color: #E8F0FE;\n",
       "      border: none;\n",
       "      border-radius: 50%;\n",
       "      cursor: pointer;\n",
       "      display: none;\n",
       "      fill: #1967D2;\n",
       "      height: 32px;\n",
       "      padding: 0 0 0 0;\n",
       "      width: 32px;\n",
       "    }\n",
       "\n",
       "    .colab-df-convert:hover {\n",
       "      background-color: #E2EBFA;\n",
       "      box-shadow: 0px 1px 2px rgba(60, 64, 67, 0.3), 0px 1px 3px 1px rgba(60, 64, 67, 0.15);\n",
       "      fill: #174EA6;\n",
       "    }\n",
       "\n",
       "    [theme=dark] .colab-df-convert {\n",
       "      background-color: #3B4455;\n",
       "      fill: #D2E3FC;\n",
       "    }\n",
       "\n",
       "    [theme=dark] .colab-df-convert:hover {\n",
       "      background-color: #434B5C;\n",
       "      box-shadow: 0px 1px 3px 1px rgba(0, 0, 0, 0.15);\n",
       "      filter: drop-shadow(0px 1px 2px rgba(0, 0, 0, 0.3));\n",
       "      fill: #FFFFFF;\n",
       "    }\n",
       "  </style>\n",
       "\n",
       "      <script>\n",
       "        const buttonEl =\n",
       "          document.querySelector('#df-c018a008-7c9b-46e0-83dd-9d13bdad2ac6 button.colab-df-convert');\n",
       "        buttonEl.style.display =\n",
       "          google.colab.kernel.accessAllowed ? 'block' : 'none';\n",
       "\n",
       "        async function convertToInteractive(key) {\n",
       "          const element = document.querySelector('#df-c018a008-7c9b-46e0-83dd-9d13bdad2ac6');\n",
       "          const dataTable =\n",
       "            await google.colab.kernel.invokeFunction('convertToInteractive',\n",
       "                                                     [key], {});\n",
       "          if (!dataTable) return;\n",
       "\n",
       "          const docLinkHtml = 'Like what you see? Visit the ' +\n",
       "            '<a target=\"_blank\" href=https://colab.research.google.com/notebooks/data_table.ipynb>data table notebook</a>'\n",
       "            + ' to learn more about interactive tables.';\n",
       "          element.innerHTML = '';\n",
       "          dataTable['output_type'] = 'display_data';\n",
       "          await google.colab.output.renderOutput(dataTable, element);\n",
       "          const docLink = document.createElement('div');\n",
       "          docLink.innerHTML = docLinkHtml;\n",
       "          element.appendChild(docLink);\n",
       "        }\n",
       "      </script>\n",
       "    </div>\n",
       "  </div>\n",
       "  "
      ],
      "text/plain": [
       "                                                      0\n",
       "self_employed                                         0\n",
       "no_of_employees                                       0\n",
       "tech_company                                          0\n",
       "mental_healthcare_coverage                            0\n",
       "knowledge_about_mental_healthcare_options_workp...    0\n",
       "employer_discussed_mental_health                      0\n",
       "employer_offer_resources_to_learn_about_mental_...    0\n",
       "medical_leave_from_work                               0\n",
       "comfortable_discussing_with_coworkers                 0\n",
       "employer_take_mental_health_seriously                 0\n",
       "openess_of_family_friends                             0\n",
       "family_history_mental_illness                         0\n",
       "mental_health_disorder_past                           0\n",
       "currently_mental_health_disorder                      0\n",
       "diagnosed_mental_health_condition                     0\n",
       "treatment_from_professional                           0\n",
       "while_effective_treatment_mental_health_issue_i...    0\n",
       "while_not_effective_treatment_interferes_work         0\n",
       "age                                                   0\n",
       "gender                                                0\n",
       "country                                               0\n",
       "country work                                          0\n",
       "work_remotely                                         0\n",
       "tech_role                                             0\n",
       "type_of_disorder                                    722\n",
       "US state                                            593\n",
       "US state work                                       582"
      ]
     },
     "execution_count": 378,
     "metadata": {},
     "output_type": "execute_result"
    }
   ],
   "source": [
    "data4=pd.concat([imp_data,data3],axis=1)\n",
    "data4.isnull().sum().to_frame()"
   ]
  },
  {
   "cell_type": "markdown",
   "metadata": {
    "id": "rnAXfCHDQ79J"
   },
   "source": [
    "> # **3. EDA(Exploratory Data Analysis)**"
   ]
  },
  {
   "cell_type": "markdown",
   "metadata": {
    "id": "TO4B3eza_Afi"
   },
   "source": [
    "Questions with regard to the Target:"
   ]
  },
  {
   "cell_type": "code",
   "execution_count": 379,
   "metadata": {
    "colab": {
     "base_uri": "https://localhost:8080/",
     "height": 0
    },
    "id": "OLbumj7H3Mp5",
    "outputId": "61c81ee2-16e6-48fb-f410-09e64e43b519"
   },
   "outputs": [
    {
     "data": {
      "text/plain": [
       "([<matplotlib.patches.Wedge at 0x7fd81da7e3d0>,\n",
       "  <matplotlib.patches.Wedge at 0x7fd81da7e9d0>],\n",
       " [Text(-0.018092161764598828, 1.0998512052467295, 'No'),\n",
       "  Text(0.01809216176459845, -1.0998512052467295, 'Yes')],\n",
       " [Text(-0.00986845187159936, 0.5999188392254888, '50.523561%'),\n",
       "  Text(0.009868451871599154, -0.5999188392254888, '49.476439%')])"
      ]
     },
     "execution_count": 379,
     "metadata": {},
     "output_type": "execute_result"
    },
    {
     "data": {
      "image/png": "[encoded data removed]",
      "text/plain": [
       "<Figure size 432x288 with 2 Axes>"
      ]
     },
     "metadata": {},
     "output_type": "display_data"
    }
   ],
   "source": [
    "# 1. If a person is self employed then is there a higher chance of mental disorder?\n",
    "\n",
    "plt.subplot(1,2,1)\n",
    "plt.title(\"For self employed\")\n",
    "plt.pie(data4[data4.self_employed==1]['diagnosed_mental_health_condition'].value_counts(),autopct='%1f%%',radius=1,labels=data4[data4.self_employed==1]['diagnosed_mental_health_condition'].value_counts().index)\n",
    "\n",
    "plt.subplot(1,2,2)\n",
    "plt.title(\"For not self employed\")\n",
    "plt.pie(data4[data4.self_employed==0]['diagnosed_mental_health_condition'].value_counts(),autopct='%1f%%',radius=1, labels=data4[data4.self_employed==0]['diagnosed_mental_health_condition'].value_counts().index)"
   ]
  },
  {
   "cell_type": "code",
   "execution_count": 380,
   "metadata": {
    "colab": {
     "base_uri": "https://localhost:8080/",
     "height": 0
    },
    "id": "wNaqvmsA6OVJ",
    "outputId": "94612ff3-072e-4f38-fd52-4f990526e72a"
   },
   "outputs": [
    {
     "data": {
      "text/plain": [
       "Text(0.5, 1.0, 'Mental health in different size companies')"
      ]
     },
     "execution_count": 380,
     "metadata": {},
     "output_type": "execute_result"
    },
    {
     "data": {
      "image/png": "[encoded data removed]",
      "text/plain": [
       "<Figure size 432x288 with 1 Axes>"
      ]
     },
     "metadata": {
      "needs_background": "light"
     },
     "output_type": "display_data"
    }
   ],
   "source": [
    "# 2. Does big size of the company affect your mental health condition adversely?\n",
    "import seaborn as sns\n",
    "sns.countplot(data=data4,x='no_of_employees',hue='diagnosed_mental_health_condition')\n",
    "plt.title('Mental health in different size companies')"
   ]
  },
  {
   "cell_type": "code",
   "execution_count": 381,
   "metadata": {
    "colab": {
     "base_uri": "https://localhost:8080/",
     "height": 0
    },
    "id": "pCjmi6527qYE",
    "outputId": "9d9347f5-c296-4379-da8a-35475bc9fa48"
   },
   "outputs": [
    {
     "data": {
      "text/plain": [
       "([<matplotlib.patches.Wedge at 0x7fd81d927890>,\n",
       "  <matplotlib.patches.Wedge at 0x7fd81d933110>],\n",
       " [Text(-0.019708651065785975, 1.0998234263158642, 'Yes'),\n",
       "  Text(0.019708754038686934, -1.0998234244706022, 'No')],\n",
       " [Text(-0.01075017330861053, 0.5999036870813804, '50.570345%'),\n",
       "  Text(0.010750229475647417, -0.5999036860748739, '49.429658%')])"
      ]
     },
     "execution_count": 381,
     "metadata": {},
     "output_type": "execute_result"
    },
    {
     "data": {
      "image/png": "[encoded data removed]",
      "text/plain": [
       "<Figure size 432x288 with 2 Axes>"
      ]
     },
     "metadata": {},
     "output_type": "display_data"
    }
   ],
   "source": [
    "# 3. Does working in a tech company affect adversely to your mental well being?\n",
    "\n",
    "plt.subplot(1,2,1)\n",
    "plt.title(\"Tech company\")\n",
    "plt.pie(data4[data4.tech_company==1]['diagnosed_mental_health_condition'].value_counts(),autopct='%1f%%',radius=1,labels=data4[data4.tech_company==1]['diagnosed_mental_health_condition'].value_counts().index)\n",
    "\n",
    "plt.subplot(1,2,2)\n",
    "plt.title(\"Non Tech company\")\n",
    "plt.pie(data4[data4.tech_company==0]['diagnosed_mental_health_condition'].value_counts(),autopct='%1f%%',radius=1,labels=data4[data4.tech_company==0]['diagnosed_mental_health_condition'].value_counts().index)"
   ]
  },
  {
   "cell_type": "code",
   "execution_count": 382,
   "metadata": {
    "colab": {
     "base_uri": "https://localhost:8080/",
     "height": 0
    },
    "id": "zUggrWK4K7UZ",
    "outputId": "d8fe423c-6aac-4c51-bcae-e403cb20be49"
   },
   "outputs": [
    {
     "data": {
      "text/plain": [
       "Text(0.5, 1.0, 'Mental health Discussion vs Daignostic Counts')"
      ]
     },
     "execution_count": 382,
     "metadata": {},
     "output_type": "execute_result"
    },
    {
     "data": {
      "image/png": "[encoded data removed]",
      "text/plain": [
       "<Figure size 432x288 with 1 Axes>"
      ]
     },
     "metadata": {
      "needs_background": "light"
     },
     "output_type": "display_data"
    }
   ],
   "source": [
    "# 4. Does the employers discussion on mental health reduces the chance of getting postive diagonised?\n",
    "\n",
    "sns.countplot(data=data4,x='employer_discussed_mental_health ',hue='diagnosed_mental_health_condition')\n",
    "plt.title('Mental health Discussion vs Daignostic Counts')\n"
   ]
  },
  {
   "cell_type": "code",
   "execution_count": 383,
   "metadata": {
    "colab": {
     "base_uri": "https://localhost:8080/",
     "height": 0
    },
    "id": "DhMqrdhWLgIa",
    "outputId": "7c3582f3-7862-4c9f-d4b2-2aa923b4a6a1"
   },
   "outputs": [
    {
     "data": {
      "text/plain": [
       "Text(0.5, 1.0, 'Mental health Resource offering vs Daignostic Counts')"
      ]
     },
     "execution_count": 383,
     "metadata": {},
     "output_type": "execute_result"
    },
    {
     "data": {
      "image/png": "[encoded data removed]",
      "text/plain": [
       "<Figure size 432x288 with 1 Axes>"
      ]
     },
     "metadata": {
      "needs_background": "light"
     },
     "output_type": "display_data"
    }
   ],
   "source": [
    "# 5. Will offering more options to learn about mental health reduces the chance of getting positive?\n",
    "\n",
    "sns.countplot(data=data4,x='employer_offer_resources_to_learn_about_mental_health',hue='diagnosed_mental_health_condition')\n",
    "plt.title('Mental health Resource offering vs Daignostic Counts')"
   ]
  },
  {
   "cell_type": "code",
   "execution_count": 384,
   "metadata": {
    "colab": {
     "base_uri": "https://localhost:8080/",
     "height": 0
    },
    "id": "RQ9uVfSUL2Zq",
    "outputId": "c2461a98-ac65-49ae-a022-6e7590412977"
   },
   "outputs": [
    {
     "data": {
      "text/plain": [
       "Text(0.5, 1.0, 'Asking for Leave vs Daignostic Counts')"
      ]
     },
     "execution_count": 384,
     "metadata": {},
     "output_type": "execute_result"
    },
    {
     "data": {
      "image/png": "[encoded data removed]",
      "text/plain": [
       "<Figure size 720x720 with 1 Axes>"
      ]
     },
     "metadata": {
      "needs_background": "light"
     },
     "output_type": "display_data"
    }
   ],
   "source": [
    "# 6. Does providing no leaves increases the less reporting of mental health issues?\n",
    "\n",
    "plt.figure(figsize=(10,10))\n",
    "sns.countplot(data=data4,x='medical_leave_from_work ',hue='diagnosed_mental_health_condition')\n",
    "plt.title('Asking for Leave vs Daignostic Counts')"
   ]
  },
  {
   "cell_type": "code",
   "execution_count": 385,
   "metadata": {
    "colab": {
     "base_uri": "https://localhost:8080/",
     "height": 0
    },
    "id": "3qudEDrdMqZE",
    "outputId": "ae2d2f19-cf4d-43d7-cc8f-d920c02311d0"
   },
   "outputs": [
    {
     "data": {
      "text/plain": [
       "Text(0.5, 1.0, 'Discussion with co-workers vs Daignostic Counts')"
      ]
     },
     "execution_count": 385,
     "metadata": {},
     "output_type": "execute_result"
    },
    {
     "data": {
      "image/png": "[encoded data removed]",
      "text/plain": [
       "<Figure size 432x288 with 1 Axes>"
      ]
     },
     "metadata": {
      "needs_background": "light"
     },
     "output_type": "display_data"
    }
   ],
   "source": [
    "# 7. Does discussion with coworkers about mental health care reduces the chance of positive diagonosis?\n",
    "sns.countplot(data=data4,x='comfortable_discussing_with_coworkers',hue='diagnosed_mental_health_condition')\n",
    "plt.title('Discussion with co-workers vs Daignostic Counts')"
   ]
  },
  {
   "cell_type": "code",
   "execution_count": 386,
   "metadata": {
    "colab": {
     "base_uri": "https://localhost:8080/",
     "height": 0
    },
    "id": "bjFcw7mxMszR",
    "outputId": "ec7e0204-261c-4143-9975-da06fe9a53f4"
   },
   "outputs": [
    {
     "data": {
      "text/plain": [
       "Text(0.5, 1.0, 'Employers seriousness vs Daignostic Counts')"
      ]
     },
     "execution_count": 386,
     "metadata": {},
     "output_type": "execute_result"
    },
    {
     "data": {
      "image/png": "[encoded data removed]",
      "text/plain": [
       "<Figure size 432x288 with 1 Axes>"
      ]
     },
     "metadata": {
      "needs_background": "light"
     },
     "output_type": "display_data"
    }
   ],
   "source": [
    "# 8. If Employer takes mental health seriously, then will it reduce the chance of positive diagonosis?\n",
    "sns.countplot(data=data4,x='employer_take_mental_health_seriously',hue='diagnosed_mental_health_condition')\n",
    "plt.title('Employers seriousness vs Daignostic Counts')"
   ]
  },
  {
   "cell_type": "code",
   "execution_count": 387,
   "metadata": {
    "colab": {
     "base_uri": "https://localhost:8080/",
     "height": 0
    },
    "id": "v7lZOMpEMxP8",
    "outputId": "a1166a6d-8c67-4303-d886-8edaed2dd811"
   },
   "outputs": [
    {
     "data": {
      "text/plain": [
       "Text(0.5, 1.0, 'Openess of Family&Friends vs Daignostic Counts')"
      ]
     },
     "execution_count": 387,
     "metadata": {},
     "output_type": "execute_result"
    },
    {
     "data": {
      "image/png": "[encoded data removed]",
      "text/plain": [
       "<Figure size 576x576 with 1 Axes>"
      ]
     },
     "metadata": {
      "needs_background": "light"
     },
     "output_type": "display_data"
    }
   ],
   "source": [
    "# 9. If family friends are open about the mental health then will it reduce the positive diagonosis?\n",
    "\n",
    "plt.figure(figsize=(8,8))\n",
    "sns.countplot(data=data4,x='openess_of_family_friends',hue='diagnosed_mental_health_condition')\n",
    "plt.title('Openess of Family&Friends vs Daignostic Counts')"
   ]
  },
  {
   "cell_type": "code",
   "execution_count": 388,
   "metadata": {
    "colab": {
     "base_uri": "https://localhost:8080/",
     "height": 0
    },
    "id": "BJTYSG8-Mz5a",
    "outputId": "f46c02ac-cc84-4a13-97e9-30ba1e407e7c"
   },
   "outputs": [
    {
     "data": {
      "text/plain": [
       "Text(0.5, 1.0, 'Family History vs Daignostic Counts')"
      ]
     },
     "execution_count": 388,
     "metadata": {},
     "output_type": "execute_result"
    },
    {
     "data": {
      "image/png": "[encoded data removed]",
      "text/plain": [
       "<Figure size 432x288 with 1 Axes>"
      ]
     },
     "metadata": {
      "needs_background": "light"
     },
     "output_type": "display_data"
    }
   ],
   "source": [
    "# 10. What are the chances that if a person having family history of mental illness then he is diagonised positive?\n",
    "sns.countplot(data=data4,x='family_history_mental_illness',hue='diagnosed_mental_health_condition')\n",
    "plt.title('Family History vs Daignostic Counts')"
   ]
  },
  {
   "cell_type": "code",
   "execution_count": 389,
   "metadata": {
    "colab": {
     "base_uri": "https://localhost:8080/",
     "height": 0
    },
    "id": "3P8b01iUM3Up",
    "outputId": "7ce51272-e681-4e92-b732-52b12e8dcff4"
   },
   "outputs": [
    {
     "data": {
      "text/plain": [
       "([<matplotlib.patches.Wedge at 0x7fd81d4ebb10>,\n",
       "  <matplotlib.patches.Wedge at 0x7fd81d4f83d0>],\n",
       " [Text(-1.0833623634614518, 0.19059378120814285, 'No'),\n",
       "  Text(1.083362359000282, -0.19059380656606933, 'Yes')],\n",
       " [Text(-0.5909249255244282, 0.10396024429535064, '94.456762%'),\n",
       "  Text(0.5909249230910628, -0.10396025812694691, '5.543237%')])"
      ]
     },
     "execution_count": 389,
     "metadata": {},
     "output_type": "execute_result"
    },
    {
     "data": {
      "image/png": "[encoded data removed]",
      "text/plain": [
       "<Figure size 720x720 with 2 Axes>"
      ]
     },
     "metadata": {},
     "output_type": "display_data"
    }
   ],
   "source": [
    "# 11. Does having mental illness of the past affect the diagonosis?\n",
    "\n",
    "plt.figure(figsize=(10,10))\n",
    "plt.subplot(1,2,1)\n",
    "plt.title(\"Had past mental illness\")\n",
    "plt.pie(data4[data4.mental_health_disorder_past=='Yes']['diagnosed_mental_health_condition'].value_counts(), autopct='%1f%%',radius=1, labels=data4[data4.mental_health_disorder_past=='Yes']['diagnosed_mental_health_condition'].value_counts().index)\n",
    "\n",
    "plt.subplot(1,2,2)\n",
    "plt.title(\"Did Not had mental illness of past\")\n",
    "plt.pie(data4[data4.mental_health_disorder_past=='No']['diagnosed_mental_health_condition'].value_counts(), autopct='%1f%%',radius=1, labels=data4[data4.mental_health_disorder_past=='No']['diagnosed_mental_health_condition'].value_counts().index)"
   ]
  },
  {
   "cell_type": "code",
   "execution_count": 390,
   "metadata": {
    "colab": {
     "base_uri": "https://localhost:8080/",
     "height": 0
    },
    "id": "8eYEv9syM5Cl",
    "outputId": "3697ee6d-90e2-404f-d7b5-5a0632558c38"
   },
   "outputs": [
    {
     "data": {
      "text/plain": [
       "Text(0.5, 1.0, 'Self proclaimed disorder vs Daignostic Counts')"
      ]
     },
     "execution_count": 390,
     "metadata": {},
     "output_type": "execute_result"
    },
    {
     "data": {
      "image/png": "[encoded data removed]",
      "text/plain": [
       "<Figure size 432x288 with 1 Axes>"
      ]
     },
     "metadata": {
      "needs_background": "light"
     },
     "output_type": "display_data"
    }
   ],
   "source": [
    "# 12. Is self proclaimed mental health disorders increases the chances of being diagonised positively?\n",
    "sns.countplot(data=data4,x='currently_mental_health_disorder',hue='diagnosed_mental_health_condition')\n",
    "plt.title('Self proclaimed disorder vs Daignostic Counts')"
   ]
  },
  {
   "cell_type": "code",
   "execution_count": 391,
   "metadata": {
    "colab": {
     "base_uri": "https://localhost:8080/",
     "height": 0
    },
    "id": "NGaFK2glM9n2",
    "outputId": "1e6c806b-ec67-44f6-b20e-3b678bd55bf4"
   },
   "outputs": [
    {
     "data": {
      "text/plain": [
       "([<matplotlib.patches.Wedge at 0x7fd81d3fc810>,\n",
       "  <matplotlib.patches.Wedge at 0x7fd81d409090>],\n",
       " [Text(-1.0754761146685294, 0.2309786283998678, 'No'),\n",
       "  Text(1.0754761092620841, -0.23097865357320332, 'Yes')],\n",
       " [Text(-0.5866233352737433, 0.12598834276356424, '93.265992%'),\n",
       "  Text(0.5866233323247732, -0.1259883564944745, '6.734007%')])"
      ]
     },
     "execution_count": 391,
     "metadata": {},
     "output_type": "execute_result"
    },
    {
     "data": {
      "image/png": "[encoded data removed]",
      "text/plain": [
       "<Figure size 720x720 with 2 Axes>"
      ]
     },
     "metadata": {},
     "output_type": "display_data"
    }
   ],
   "source": [
    "# 13. How many of those who has diagonised positively will seek help of professional?\n",
    "\n",
    "plt.figure(figsize=(10,10))\n",
    "plt.subplot(1,2,1)\n",
    "plt.title(\"Taking Help from professional\")\n",
    "plt.pie(data4[data4.treatment_from_professional==1]['diagnosed_mental_health_condition'].value_counts(), autopct='%1f%%',radius=1, labels=data4[data4.treatment_from_professional==1]['diagnosed_mental_health_condition'].value_counts().index)\n",
    "\n",
    "plt.subplot(1,2,2)\n",
    "plt.title(\"Not taking help from professional\")\n",
    "plt.pie(data4[data4.treatment_from_professional==0]['diagnosed_mental_health_condition'].value_counts(), autopct='%1f%%',radius=1, labels=data4[data4.treatment_from_professional==0]['diagnosed_mental_health_condition'].value_counts().index)"
   ]
  },
  {
   "cell_type": "code",
   "execution_count": 392,
   "metadata": {
    "colab": {
     "base_uri": "https://localhost:8080/",
     "height": 0
    },
    "id": "JKjRtwWONBmQ",
    "outputId": "00eb6912-7bd6-4901-a97e-2608c30ce2df"
   },
   "outputs": [
    {
     "data": {
      "text/plain": [
       "([<matplotlib.patches.Wedge at 0x7fd81d3a3e90>,\n",
       "  <matplotlib.patches.Wedge at 0x7fd81d333650>,\n",
       "  <matplotlib.patches.Wedge at 0x7fd81d33c090>,\n",
       "  <matplotlib.patches.Wedge at 0x7fd81d33c950>,\n",
       "  <matplotlib.patches.Wedge at 0x7fd81d3483d0>],\n",
       " [Text(-0.387286831783129, 1.0295673411328599, 'Often'),\n",
       "  Text(0.11082048010455826, -1.0944034087983259, 'Sometimes'),\n",
       "  Text(1.0153415504745185, -0.4231802640483144, 'Rarely'),\n",
       "  Text(1.0863057567337249, -0.1730312194003421, 'Not applicable to me'),\n",
       "  Text(1.0997352976415675, -0.02413037756051461, 'Never')],\n",
       " [Text(-0.21124736279079762, 0.5615821860724689, '61.452514%'),\n",
       "  Text(0.06044753460248632, -0.5969473138899958, '30.307263%'),\n",
       "  Text(0.5538226638951919, -0.2308255985718078, '3.910615%'),\n",
       "  Text(0.5925304127638499, -0.09438066512745932, '3.631285%'),\n",
       "  Text(0.5998556168954003, -0.013162024123917057, '0.698324%')])"
      ]
     },
     "execution_count": 392,
     "metadata": {},
     "output_type": "execute_result"
    },
    {
     "data": {
      "image/png": "[encoded data removed]",
      "text/plain": [
       "<Figure size 720x720 with 2 Axes>"
      ]
     },
     "metadata": {},
     "output_type": "display_data"
    }
   ],
   "source": [
    "# 14. If one is diagonised positive how effective and not effective medication affecting the individual?\n",
    "\n",
    "plt.figure(figsize=(10,10))\n",
    "plt.subplot(1,2,1)\n",
    "plt.title(\"Positive diagnosed under effective medication\")\n",
    "plt.pie(data4[data4.diagnosed_mental_health_condition=='Yes']['while_effective_treatment_mental_health_issue_interferes_work'].value_counts(), autopct='%1f%%',radius=1, labels=data4[data4.diagnosed_mental_health_condition=='Yes']['while_effective_treatment_mental_health_issue_interferes_work'].value_counts().index)\n",
    "\n",
    "plt.subplot(1,2,2)\n",
    "plt.title(\"Positive diagnosed under not-effective medication\")\n",
    "plt.pie(data4[data4.diagnosed_mental_health_condition=='Yes']['while_not_effective_treatment_interferes_work '].value_counts(), autopct='%1f%%',radius=1, labels=data4[data4.diagnosed_mental_health_condition=='Yes']['while_not_effective_treatment_interferes_work '].value_counts().index)"
   ]
  },
  {
   "cell_type": "code",
   "execution_count": 393,
   "metadata": {
    "colab": {
     "base_uri": "https://localhost:8080/",
     "height": 0
    },
    "id": "NlICbsc4NEFd",
    "outputId": "560c3866-06cb-4c57-cb49-16ce68cbe986"
   },
   "outputs": [
    {
     "data": {
      "text/plain": [
       "Text(0.5, 1.0, 'Negetive Diagonosis with age')"
      ]
     },
     "execution_count": 393,
     "metadata": {},
     "output_type": "execute_result"
    },
    {
     "data": {
      "image/png": "[encoded data removed]",
      "text/plain": [
       "<Figure size 504x504 with 2 Axes>"
      ]
     },
     "metadata": {
      "needs_background": "light"
     },
     "output_type": "display_data"
    }
   ],
   "source": [
    "# 15. Is the chances of getting positively diagonised increases with age?\n",
    "\n",
    "plt.figure(figsize=(7,7))\n",
    "plt.subplot(1,2,1)\n",
    "plt.hist(data4[data4.diagnosed_mental_health_condition=='Yes']['age'],bins=5)\n",
    "plt.title(\"Positive Diagonosis with age\")\n",
    "\n",
    "plt.subplot(1,2,2)\n",
    "plt.hist(data4[data4.diagnosed_mental_health_condition=='No']['age'],bins=5)\n",
    "plt.title(\"Negetive Diagonosis with age\")"
   ]
  },
  {
   "cell_type": "code",
   "execution_count": 394,
   "metadata": {
    "colab": {
     "base_uri": "https://localhost:8080/",
     "height": 0
    },
    "id": "BFL_Xev6NHx3",
    "outputId": "5ce9de2e-536a-408e-b7f5-23b2e637ce5e"
   },
   "outputs": [
    {
     "data": {
      "text/plain": [
       "([<matplotlib.patches.Wedge at 0x7fd81d183250>,\n",
       "  <matplotlib.patches.Wedge at 0x7fd81d183bd0>],\n",
       " [Text(-0.9829959488654123, 0.49367900959448124, 'Yes'),\n",
       "  Text(0.9829959950869729, -0.4936789175597559, 'No')],\n",
       " [Text(-0.536179608472043, 0.2692794597788079, '85.185188%'),\n",
       "  Text(0.5361796336838033, -0.26927940957804863, '14.814815%')])"
      ]
     },
     "execution_count": 394,
     "metadata": {},
     "output_type": "execute_result"
    },
    {
     "data": {
      "image/png": "[encoded data removed]",
      "text/plain": [
       "<Figure size 720x720 with 3 Axes>"
      ]
     },
     "metadata": {},
     "output_type": "display_data"
    }
   ],
   "source": [
    "# 16. Is there any chance that a other gender category is more positively diagonised than other gender categories?\n",
    "\n",
    "plt.figure(figsize=(10,10))\n",
    "plt.subplot(1,3,1)\n",
    "plt.title(\"Male\")\n",
    "plt.pie(data4[data4.gender=='male']['diagnosed_mental_health_condition'].value_counts(), autopct='%1f%%',radius=1, labels=data4[data4.gender=='male']['diagnosed_mental_health_condition'].value_counts().index)\n",
    "\n",
    "plt.subplot(1,3,2)\n",
    "plt.title(\"Female\")\n",
    "plt.pie(data4[data4.gender=='female']['diagnosed_mental_health_condition'].value_counts(), autopct='%1f%%',radius=1, labels=data4[data4.gender=='female']['diagnosed_mental_health_condition'].value_counts().index)\n",
    "\n",
    "plt.subplot(1,3,3)\n",
    "plt.title(\"Others\")\n",
    "plt.pie(data4[data4.gender=='other']['diagnosed_mental_health_condition'].value_counts(), autopct='%1f%%',radius=1, labels=data4[data4.gender=='other']['diagnosed_mental_health_condition'].value_counts().index)"
   ]
  },
  {
   "cell_type": "code",
   "execution_count": 395,
   "metadata": {
    "colab": {
     "base_uri": "https://localhost:8080/"
    },
    "id": "eVYlAO-8SzX3",
    "outputId": "96d6bd22-a8eb-42bb-a9e8-3a5d862c87db"
   },
   "outputs": [
    {
     "name": "stdout",
     "output_type": "stream",
     "text": [
      "Looking in indexes: https://pypi.org/simple, https://us-python.pkg.dev/colab-wheels/public/simple/\n",
      "Requirement already satisfied: chart-studio in /usr/local/lib/python3.7/dist-packages (1.1.0)\n",
      "Requirement already satisfied: six in /usr/local/lib/python3.7/dist-packages (from chart-studio) (1.15.0)\n",
      "Requirement already satisfied: requests in /usr/local/lib/python3.7/dist-packages (from chart-studio) (2.23.0)\n",
      "Requirement already satisfied: plotly in /usr/local/lib/python3.7/dist-packages (from chart-studio) (5.5.0)\n",
      "Requirement already satisfied: retrying>=1.3.3 in /usr/local/lib/python3.7/dist-packages (from chart-studio) (1.3.4)\n",
      "Requirement already satisfied: tenacity>=6.2.0 in /usr/local/lib/python3.7/dist-packages (from plotly->chart-studio) (8.1.0)\n",
      "Requirement already satisfied: chardet<4,>=3.0.2 in /usr/local/lib/python3.7/dist-packages (from requests->chart-studio) (3.0.4)\n",
      "Requirement already satisfied: certifi>=2017.4.17 in /usr/local/lib/python3.7/dist-packages (from requests->chart-studio) (2022.9.24)\n",
      "Requirement already satisfied: idna<3,>=2.5 in /usr/local/lib/python3.7/dist-packages (from requests->chart-studio) (2.10)\n",
      "Requirement already satisfied: urllib3!=1.25.0,!=1.25.1,<1.26,>=1.21.1 in /usr/local/lib/python3.7/dist-packages (from requests->chart-studio) (1.24.3)\n"
     ]
    }
   ],
   "source": [
    "!pip install chart-studio"
   ]
  },
  {
   "cell_type": "code",
   "execution_count": 396,
   "metadata": {
    "id": "pbuZ_kWONNWW"
   },
   "outputs": [],
   "source": [
    "# 17. Country wise positive disorder cases?\n",
    "import chart_studio.plotly as py \n",
    "import plotly.graph_objs as gobj\n",
    "from plotly.offline import download_plotlyjs,init_notebook_mode,plot,iplot"
   ]
  },
  {
   "cell_type": "code",
   "execution_count": 397,
   "metadata": {
    "colab": {
     "base_uri": "https://localhost:8080/",
     "height": 0
    },
    "id": "f3kAtNiDNQbp",
    "outputId": "440d08f4-f789-407d-da53-47903e603509"
   },
   "outputs": [
    {
     "data": {
      "text/html": [
       "<html>\n",
       "<head><meta charset=\"utf-8\" /></head>\n",
       "<body>\n",
       "    <div>            <script src=\"https://cdnjs.cloudflare.com/ajax/libs/mathjax/2.7.5/MathJax.js?config=TeX-AMS-MML_SVG\"></script><script type=\"text/javascript\">if (window.MathJax) {MathJax.Hub.Config({SVG: {font: \"STIX-Web\"}});}</script>                <script type=\"text/javascript\">window.PlotlyConfig = {MathJaxConfig: 'local'};</script>\n",
       "        <script src=\"https://cdn.plot.ly/plotly-2.8.3.min.js\"></script>                <div id=\"c6a0873e-1638-4b77-99fb-de966951980b\" class=\"plotly-graph-div\" style=\"height:525px; width:100%;\"></div>            <script type=\"text/javascript\">                                    window.PLOTLYENV=window.PLOTLYENV || {};                                    if (document.getElementById(\"c6a0873e-1638-4b77-99fb-de966951980b\")) {                    Plotly.newPlot(                        \"c6a0873e-1638-4b77-99fb-de966951980b\",                        [{\"colorbar\":{\"len\":200,\"lenmode\":\"pixels\",\"title\":{\"text\":\"Country Colours\"}},\"colorscale\":[[0.0,\"rgb(150,0,90)\"],[0.125,\"rgb(0,0,200)\"],[0.25,\"rgb(0,25,255)\"],[0.375,\"rgb(0,152,255)\"],[0.5,\"rgb(44,255,150)\"],[0.625,\"rgb(151,255,0)\"],[0.75,\"rgb(255,234,0)\"],[0.875,\"rgb(255,111,0)\"],[1.0,\"rgb(255,0,0)\"]],\"locationmode\":\"country names\",\"locations\":[\"United States of America\",\"United Kingdom\",\"Canada\",\"Netherlands\",\"Australia\",\"Germany\",\"Ireland\",\"Sweden\",\"Switzerland\",\"France\",\"Brazil\",\"New Zealand\",\"Finland\",\"Denmark\",\"India\",\"Austria\",\"Afghanistan\",\"Pakistan\",\"Belgium\",\"Algeria\",\"Poland\",\"Other\",\"Romania\",\"Hungary\",\"Czech Republic\",\"Spain\",\"Ecuador\",\"Norway\",\"Bulgaria\",\"Israel\",\"Bangladesh\",\"Chile\",\"Guatemala\"],\"z\":[473,76,31,25,24,21,8,7,6,5,4,4,3,3,3,3,2,2,2,1,1,1,1,1,1,1,1,1,1,1,1,1,1],\"type\":\"choropleth\"}],                        {\"geo\":{\"scope\":\"world\"},\"template\":{\"data\":{\"barpolar\":[{\"marker\":{\"line\":{\"color\":\"#E5ECF6\",\"width\":0.5},\"pattern\":{\"fillmode\":\"overlay\",\"size\":10,\"solidity\":0.2}},\"type\":\"barpolar\"}],\"bar\":[{\"error_x\":{\"color\":\"#2a3f5f\"},\"error_y\":{\"color\":\"#2a3f5f\"},\"marker\":{\"line\":{\"color\":\"#E5ECF6\",\"width\":0.5},\"pattern\":{\"fillmode\":\"overlay\",\"size\":10,\"solidity\":0.2}},\"type\":\"bar\"}],\"carpet\":[{\"aaxis\":{\"endlinecolor\":\"#2a3f5f\",\"gridcolor\":\"white\",\"linecolor\":\"white\",\"minorgridcolor\":\"white\",\"startlinecolor\":\"#2a3f5f\"},\"baxis\":{\"endlinecolor\":\"#2a3f5f\",\"gridcolor\":\"white\",\"linecolor\":\"white\",\"minorgridcolor\":\"white\",\"startlinecolor\":\"#2a3f5f\"},\"type\":\"carpet\"}],\"choropleth\":[{\"colorbar\":{\"outlinewidth\":0,\"ticks\":\"\"},\"type\":\"choropleth\"}],\"contourcarpet\":[{\"colorbar\":{\"outlinewidth\":0,\"ticks\":\"\"},\"type\":\"contourcarpet\"}],\"contour\":[{\"colorbar\":{\"outlinewidth\":0,\"ticks\":\"\"},\"colorscale\":[[0.0,\"#0d0887\"],[0.1111111111111111,\"#46039f\"],[0.2222222222222222,\"#7201a8\"],[0.3333333333333333,\"#9c179e\"],[0.4444444444444444,\"#bd3786\"],[0.5555555555555556,\"#d8576b\"],[0.6666666666666666,\"#ed7953\"],[0.7777777777777778,\"#fb9f3a\"],[0.8888888888888888,\"#fdca26\"],[1.0,\"#f0f921\"]],\"type\":\"contour\"}],\"heatmapgl\":[{\"colorbar\":{\"outlinewidth\":0,\"ticks\":\"\"},\"colorscale\":[[0.0,\"#0d0887\"],[0.1111111111111111,\"#46039f\"],[0.2222222222222222,\"#7201a8\"],[0.3333333333333333,\"#9c179e\"],[0.4444444444444444,\"#bd3786\"],[0.5555555555555556,\"#d8576b\"],[0.6666666666666666,\"#ed7953\"],[0.7777777777777778,\"#fb9f3a\"],[0.8888888888888888,\"#fdca26\"],[1.0,\"#f0f921\"]],\"type\":\"heatmapgl\"}],\"heatmap\":[{\"colorbar\":{\"outlinewidth\":0,\"ticks\":\"\"},\"colorscale\":[[0.0,\"#0d0887\"],[0.1111111111111111,\"#46039f\"],[0.2222222222222222,\"#7201a8\"],[0.3333333333333333,\"#9c179e\"],[0.4444444444444444,\"#bd3786\"],[0.5555555555555556,\"#d8576b\"],[0.6666666666666666,\"#ed7953\"],[0.7777777777777778,\"#fb9f3a\"],[0.8888888888888888,\"#fdca26\"],[1.0,\"#f0f921\"]],\"type\":\"heatmap\"}],\"histogram2dcontour\":[{\"colorbar\":{\"outlinewidth\":0,\"ticks\":\"\"},\"colorscale\":[[0.0,\"#0d0887\"],[0.1111111111111111,\"#46039f\"],[0.2222222222222222,\"#7201a8\"],[0.3333333333333333,\"#9c179e\"],[0.4444444444444444,\"#bd3786\"],[0.5555555555555556,\"#d8576b\"],[0.6666666666666666,\"#ed7953\"],[0.7777777777777778,\"#fb9f3a\"],[0.8888888888888888,\"#fdca26\"],[1.0,\"#f0f921\"]],\"type\":\"histogram2dcontour\"}],\"histogram2d\":[{\"colorbar\":{\"outlinewidth\":0,\"ticks\":\"\"},\"colorscale\":[[0.0,\"#0d0887\"],[0.1111111111111111,\"#46039f\"],[0.2222222222222222,\"#7201a8\"],[0.3333333333333333,\"#9c179e\"],[0.4444444444444444,\"#bd3786\"],[0.5555555555555556,\"#d8576b\"],[0.6666666666666666,\"#ed7953\"],[0.7777777777777778,\"#fb9f3a\"],[0.8888888888888888,\"#fdca26\"],[1.0,\"#f0f921\"]],\"type\":\"histogram2d\"}],\"histogram\":[{\"marker\":{\"pattern\":{\"fillmode\":\"overlay\",\"size\":10,\"solidity\":0.2}},\"type\":\"histogram\"}],\"mesh3d\":[{\"colorbar\":{\"outlinewidth\":0,\"ticks\":\"\"},\"type\":\"mesh3d\"}],\"parcoords\":[{\"line\":{\"colorbar\":{\"outlinewidth\":0,\"ticks\":\"\"}},\"type\":\"parcoords\"}],\"pie\":[{\"automargin\":true,\"type\":\"pie\"}],\"scatter3d\":[{\"line\":{\"colorbar\":{\"outlinewidth\":0,\"ticks\":\"\"}},\"marker\":{\"colorbar\":{\"outlinewidth\":0,\"ticks\":\"\"}},\"type\":\"scatter3d\"}],\"scattercarpet\":[{\"marker\":{\"colorbar\":{\"outlinewidth\":0,\"ticks\":\"\"}},\"type\":\"scattercarpet\"}],\"scattergeo\":[{\"marker\":{\"colorbar\":{\"outlinewidth\":0,\"ticks\":\"\"}},\"type\":\"scattergeo\"}],\"scattergl\":[{\"marker\":{\"colorbar\":{\"outlinewidth\":0,\"ticks\":\"\"}},\"type\":\"scattergl\"}],\"scattermapbox\":[{\"marker\":{\"colorbar\":{\"outlinewidth\":0,\"ticks\":\"\"}},\"type\":\"scattermapbox\"}],\"scatterpolargl\":[{\"marker\":{\"colorbar\":{\"outlinewidth\":0,\"ticks\":\"\"}},\"type\":\"scatterpolargl\"}],\"scatterpolar\":[{\"marker\":{\"colorbar\":{\"outlinewidth\":0,\"ticks\":\"\"}},\"type\":\"scatterpolar\"}],\"scatter\":[{\"marker\":{\"colorbar\":{\"outlinewidth\":0,\"ticks\":\"\"}},\"type\":\"scatter\"}],\"scatterternary\":[{\"marker\":{\"colorbar\":{\"outlinewidth\":0,\"ticks\":\"\"}},\"type\":\"scatterternary\"}],\"surface\":[{\"colorbar\":{\"outlinewidth\":0,\"ticks\":\"\"},\"colorscale\":[[0.0,\"#0d0887\"],[0.1111111111111111,\"#46039f\"],[0.2222222222222222,\"#7201a8\"],[0.3333333333333333,\"#9c179e\"],[0.4444444444444444,\"#bd3786\"],[0.5555555555555556,\"#d8576b\"],[0.6666666666666666,\"#ed7953\"],[0.7777777777777778,\"#fb9f3a\"],[0.8888888888888888,\"#fdca26\"],[1.0,\"#f0f921\"]],\"type\":\"surface\"}],\"table\":[{\"cells\":{\"fill\":{\"color\":\"#EBF0F8\"},\"line\":{\"color\":\"white\"}},\"header\":{\"fill\":{\"color\":\"#C8D4E3\"},\"line\":{\"color\":\"white\"}},\"type\":\"table\"}]},\"layout\":{\"annotationdefaults\":{\"arrowcolor\":\"#2a3f5f\",\"arrowhead\":0,\"arrowwidth\":1},\"autotypenumbers\":\"strict\",\"coloraxis\":{\"colorbar\":{\"outlinewidth\":0,\"ticks\":\"\"}},\"colorscale\":{\"diverging\":[[0,\"#8e0152\"],[0.1,\"#c51b7d\"],[0.2,\"#de77ae\"],[0.3,\"#f1b6da\"],[0.4,\"#fde0ef\"],[0.5,\"#f7f7f7\"],[0.6,\"#e6f5d0\"],[0.7,\"#b8e186\"],[0.8,\"#7fbc41\"],[0.9,\"#4d9221\"],[1,\"#276419\"]],\"sequential\":[[0.0,\"#0d0887\"],[0.1111111111111111,\"#46039f\"],[0.2222222222222222,\"#7201a8\"],[0.3333333333333333,\"#9c179e\"],[0.4444444444444444,\"#bd3786\"],[0.5555555555555556,\"#d8576b\"],[0.6666666666666666,\"#ed7953\"],[0.7777777777777778,\"#fb9f3a\"],[0.8888888888888888,\"#fdca26\"],[1.0,\"#f0f921\"]],\"sequentialminus\":[[0.0,\"#0d0887\"],[0.1111111111111111,\"#46039f\"],[0.2222222222222222,\"#7201a8\"],[0.3333333333333333,\"#9c179e\"],[0.4444444444444444,\"#bd3786\"],[0.5555555555555556,\"#d8576b\"],[0.6666666666666666,\"#ed7953\"],[0.7777777777777778,\"#fb9f3a\"],[0.8888888888888888,\"#fdca26\"],[1.0,\"#f0f921\"]]},\"colorway\":[\"#636efa\",\"#EF553B\",\"#00cc96\",\"#ab63fa\",\"#FFA15A\",\"#19d3f3\",\"#FF6692\",\"#B6E880\",\"#FF97FF\",\"#FECB52\"],\"font\":{\"color\":\"#2a3f5f\"},\"geo\":{\"bgcolor\":\"white\",\"lakecolor\":\"white\",\"landcolor\":\"#E5ECF6\",\"showlakes\":true,\"showland\":true,\"subunitcolor\":\"white\"},\"hoverlabel\":{\"align\":\"left\"},\"hovermode\":\"closest\",\"mapbox\":{\"style\":\"light\"},\"paper_bgcolor\":\"white\",\"plot_bgcolor\":\"#E5ECF6\",\"polar\":{\"angularaxis\":{\"gridcolor\":\"white\",\"linecolor\":\"white\",\"ticks\":\"\"},\"bgcolor\":\"#E5ECF6\",\"radialaxis\":{\"gridcolor\":\"white\",\"linecolor\":\"white\",\"ticks\":\"\"}},\"scene\":{\"xaxis\":{\"backgroundcolor\":\"#E5ECF6\",\"gridcolor\":\"white\",\"gridwidth\":2,\"linecolor\":\"white\",\"showbackground\":true,\"ticks\":\"\",\"zerolinecolor\":\"white\"},\"yaxis\":{\"backgroundcolor\":\"#E5ECF6\",\"gridcolor\":\"white\",\"gridwidth\":2,\"linecolor\":\"white\",\"showbackground\":true,\"ticks\":\"\",\"zerolinecolor\":\"white\"},\"zaxis\":{\"backgroundcolor\":\"#E5ECF6\",\"gridcolor\":\"white\",\"gridwidth\":2,\"linecolor\":\"white\",\"showbackground\":true,\"ticks\":\"\",\"zerolinecolor\":\"white\"}},\"shapedefaults\":{\"line\":{\"color\":\"#2a3f5f\"}},\"ternary\":{\"aaxis\":{\"gridcolor\":\"white\",\"linecolor\":\"white\",\"ticks\":\"\"},\"baxis\":{\"gridcolor\":\"white\",\"linecolor\":\"white\",\"ticks\":\"\"},\"bgcolor\":\"#E5ECF6\",\"caxis\":{\"gridcolor\":\"white\",\"linecolor\":\"white\",\"ticks\":\"\"}},\"title\":{\"x\":0.05},\"xaxis\":{\"automargin\":true,\"gridcolor\":\"white\",\"linecolor\":\"white\",\"ticks\":\"\",\"title\":{\"standoff\":15},\"zerolinecolor\":\"white\",\"zerolinewidth\":2},\"yaxis\":{\"automargin\":true,\"gridcolor\":\"white\",\"linecolor\":\"white\",\"ticks\":\"\",\"title\":{\"standoff\":15},\"zerolinecolor\":\"white\",\"zerolinewidth\":2}}}},                        {\"responsive\": true}                    ).then(function(){\n",
       "                            \n",
       "var gd = document.getElementById('c6a0873e-1638-4b77-99fb-de966951980b');\n",
       "var x = new MutationObserver(function (mutations, observer) {{\n",
       "        var display = window.getComputedStyle(gd).display;\n",
       "        if (!display || display === 'none') {{\n",
       "            console.log([gd, 'removed!']);\n",
       "            Plotly.purge(gd);\n",
       "            observer.disconnect();\n",
       "        }}\n",
       "}});\n",
       "\n",
       "// Listen for the removal of the full notebook cells\n",
       "var notebookContainer = gd.closest('#notebook-container');\n",
       "if (notebookContainer) {{\n",
       "    x.observe(notebookContainer, {childList: true});\n",
       "}}\n",
       "\n",
       "// Listen for the clearing of the current output cell\n",
       "var outputEl = gd.closest('.output');\n",
       "if (outputEl) {{\n",
       "    x.observe(outputEl, {childList: true});\n",
       "}}\n",
       "\n",
       "                        })                };                            </script>        </div>\n",
       "</body>\n",
       "</html>"
      ]
     },
     "metadata": {},
     "output_type": "display_data"
    }
   ],
   "source": [
    "data =dict( type = 'choropleth',\n",
    "            locations = list(data4[data4.diagnosed_mental_health_condition=='Yes']['country'].value_counts().index),\n",
    "            locationmode = 'country names',\n",
    "            colorscale= 'Rainbow',\n",
    "            z=list(data4[data4.diagnosed_mental_health_condition=='Yes']['country'].value_counts()),\n",
    "            colorbar = {'title':'Country Colours', 'len':200,'lenmode':'pixels' })\n",
    "layout = dict(geo = {'scope':'world'})\n",
    "col_map=gobj.Figure(data = [data],layout = layout)\n",
    "iplot(col_map)"
   ]
  },
  {
   "cell_type": "code",
   "execution_count": 398,
   "metadata": {
    "colab": {
     "base_uri": "https://localhost:8080/",
     "height": 0
    },
    "id": "FDyWqCkFNRpI",
    "outputId": "c71cf7ed-5b41-404c-ef7d-8ca12bae5faa"
   },
   "outputs": [
    {
     "data": {
      "text/plain": [
       "([<matplotlib.patches.Wedge at 0x7fd81d0d8490>,\n",
       "  <matplotlib.patches.Wedge at 0x7fd81d0d8e10>],\n",
       " [Text(-0.03562008250107137, 1.0994231258813036, 'Yes'),\n",
       "  Text(0.03562008250107123, -1.0994231258813039, 'No')],\n",
       " [Text(-0.01942913590967529, 0.5996853413898019, '51.030928%'),\n",
       "  Text(0.019429135909675214, -0.599685341389802, '48.969072%')])"
      ]
     },
     "execution_count": 398,
     "metadata": {},
     "output_type": "execute_result"
    },
    {
     "data": {
      "image/png": "[encoded data removed]",
      "text/plain": [
       "<Figure size 720x720 with 2 Axes>"
      ]
     },
     "metadata": {},
     "output_type": "display_data"
    }
   ],
   "source": [
    "# 18. Does being involved in tech role increases chances of diagonised positive?\n",
    "\n",
    "plt.figure(figsize=(10,10))\n",
    "plt.subplot(1,2,1)\n",
    "plt.title(\"Tech Role\")\n",
    "plt.pie(data4[data4.tech_role==1]['diagnosed_mental_health_condition'].value_counts(), autopct='%1f%%',radius=1, labels=data4[data4.tech_role==1]['diagnosed_mental_health_condition'].value_counts().index)\n",
    "\n",
    "plt.subplot(1,2,2)\n",
    "plt.title(\"Non Tech Role\")\n",
    "plt.pie(data4[data4.tech_role==0]['diagnosed_mental_health_condition'].value_counts(), autopct='%1f%%',radius=1, labels=data4[data4.tech_role==0]['diagnosed_mental_health_condition'].value_counts().index)"
   ]
  },
  {
   "cell_type": "code",
   "execution_count": 399,
   "metadata": {
    "colab": {
     "base_uri": "https://localhost:8080/",
     "height": 0
    },
    "id": "yzr95VNT1COq",
    "outputId": "a3ecc23c-37dd-41a4-e83d-f1e48c3762bf"
   },
   "outputs": [
    {
     "data": {
      "text/plain": [
       "([<matplotlib.patches.Wedge at 0x7fd81d00b6d0>,\n",
       "  <matplotlib.patches.Wedge at 0x7fd81d016050>],\n",
       " [Text(-0.15000672147010105, 1.089723810657449, 'No'),\n",
       "  Text(0.15000661944279384, -1.089723824702087, 'Yes')],\n",
       " [Text(-0.08182184807460056, 0.5943948058131538, '54.354352%'),\n",
       "  Text(0.08182179242334207, -0.5943948134738656, '45.645645%')])"
      ]
     },
     "execution_count": 399,
     "metadata": {},
     "output_type": "execute_result"
    },
    {
     "data": {
      "image/png": "[encoded data removed]",
      "text/plain": [
       "<Figure size 720x720 with 3 Axes>"
      ]
     },
     "metadata": {},
     "output_type": "display_data"
    }
   ],
   "source": [
    "# 19. Will working remotely helps to better the mental health condition? \n",
    "\n",
    "plt.figure(figsize=(10,10))\n",
    "plt.subplot(1,3,1)\n",
    "plt.title(\"Always Remote work\")\n",
    "plt.pie(data4[data4.work_remotely=='Always']['diagnosed_mental_health_condition'].value_counts(), autopct='%1f%%',radius=1, labels=data4[data4.work_remotely=='Always']['diagnosed_mental_health_condition'].value_counts().index)\n",
    "\n",
    "plt.subplot(1,3,2)\n",
    "plt.title(\"Sometime Remote work\")\n",
    "plt.pie(data4[data4.work_remotely=='Sometimes']['diagnosed_mental_health_condition'].value_counts(), autopct='%1f%%',radius=1, labels=data4[data4.work_remotely=='Sometimes']['diagnosed_mental_health_condition'].value_counts().index)\n",
    "\n",
    "plt.subplot(1,3,3)\n",
    "plt.title(\"Never Remote work\")\n",
    "plt.pie(data4[data4.work_remotely=='Never']['diagnosed_mental_health_condition'].value_counts(), autopct='%1f%%',radius=1, labels=data4[data4.work_remotely=='Never']['diagnosed_mental_health_condition'].value_counts().index)"
   ]
  },
  {
   "cell_type": "code",
   "execution_count": 400,
   "metadata": {
    "colab": {
     "base_uri": "https://localhost:8080/",
     "height": 0
    },
    "id": "a9fuJttx1GGq",
    "outputId": "0a86495e-2886-466c-eb66-f3465747d14d"
   },
   "outputs": [
    {
     "data": {
      "text/plain": [
       "([<matplotlib.patches.Wedge at 0x7fd81cfa0c90>,\n",
       "  <matplotlib.patches.Wedge at 0x7fd81cf2d310>],\n",
       " [Text(-0.06464257105613563, 1.0980989654886542, 'Yes'),\n",
       "  Text(0.06464257105613574, -1.0980989654886542, 'No')],\n",
       " [Text(-0.03525958421243761, 0.5989630720847204, '51.871657%'),\n",
       "  Text(0.035259584212437675, -0.5989630720847204, '48.128343%')])"
      ]
     },
     "execution_count": 400,
     "metadata": {},
     "output_type": "execute_result"
    },
    {
     "data": {
      "image/png": "[encoded data removed]",
      "text/plain": [
       "<Figure size 720x720 with 2 Axes>"
      ]
     },
     "metadata": {},
     "output_type": "display_data"
    }
   ],
   "source": [
    "# 20. Does a person in tech role in tech company has higher chance of diagonosis than a tech role in non tech company?\n",
    "\n",
    "plt.figure(figsize=(10,10))\n",
    "plt.subplot(1,2,1)\n",
    "plt.title(\"Tech Role in tech company\")\n",
    "plt.pie(data4[(data4.tech_role==1) & (data4.tech_company==1)]['diagnosed_mental_health_condition'].value_counts(), autopct='%1f%%',radius=1, labels=data4[data4.tech_role==1]['diagnosed_mental_health_condition'].value_counts().index)\n",
    "\n",
    "plt.subplot(1,2,2)\n",
    "plt.title(\"Tech Role in non tech company\")\n",
    "plt.pie(data4[(data4.tech_role==1) & (data4.tech_company==0)]['diagnosed_mental_health_condition'].value_counts(), autopct='%1f%%',radius=1, labels=data4[data4.tech_role==0]['diagnosed_mental_health_condition'].value_counts().index)"
   ]
  },
  {
   "cell_type": "markdown",
   "metadata": {
    "id": "BPE1R22Y8Zhx"
   },
   "source": [
    "**Questions other than Target**"
   ]
  },
  {
   "cell_type": "code",
   "execution_count": 401,
   "metadata": {
    "colab": {
     "base_uri": "https://localhost:8080/",
     "height": 0
    },
    "id": "sVzifM-68mtk",
    "outputId": "e12a0195-e47b-4f30-b1bb-68579f5c4ad1"
   },
   "outputs": [
    {
     "data": {
      "text/plain": [
       "([<matplotlib.patches.Wedge at 0x7fd81cebead0>,\n",
       "  <matplotlib.patches.Wedge at 0x7fd81cecc350>,\n",
       "  <matplotlib.patches.Wedge at 0x7fd81cecc4d0>],\n",
       " [Text(-0.030151117190896082, 1.0995866996886334, 'Yes'),\n",
       "  Text(-0.5050235705581543, -0.9772160422243861, 'No'),\n",
       "  Text(0.9630061253565793, -0.5316194151135837, 'Maybe')],\n",
       " [Text(-0.01644606392230695, 0.5997745634665272, '50.872600%'),\n",
       "  Text(-0.27546740212262955, -0.5330269321223924, '33.071554%'),\n",
       "  Text(0.5252760683763159, -0.28997422642559106, '16.055846%')])"
      ]
     },
     "execution_count": 401,
     "metadata": {},
     "output_type": "execute_result"
    },
    {
     "data": {
      "image/png": "[encoded data removed]",
      "text/plain": [
       "<Figure size 432x288 with 2 Axes>"
      ]
     },
     "metadata": {},
     "output_type": "display_data"
    }
   ],
   "source": [
    "# 1. For self employed does the past mental disorder more than those who are not self employed?\n",
    "\n",
    "plt.subplot(1,2,1)\n",
    "plt.title(\"Self Employed\")\n",
    "plt.pie(data4[data4.self_employed==1]['mental_health_disorder_past'].value_counts(), autopct='%1f%%',radius=1, labels=data4[data4.self_employed==1]['mental_health_disorder_past'].value_counts().index)\n",
    "\n",
    "plt.subplot(1,2,2)\n",
    "plt.title(\"Not Self employed\")\n",
    "plt.pie(data4[data4.self_employed==0]['mental_health_disorder_past'].value_counts(), autopct='%1f%%',radius=1, labels=data4[data4.self_employed==0]['mental_health_disorder_past'].value_counts().index)"
   ]
  },
  {
   "cell_type": "code",
   "execution_count": 402,
   "metadata": {
    "colab": {
     "base_uri": "https://localhost:8080/",
     "height": 0
    },
    "id": "i8mnYJWw8y5Z",
    "outputId": "13eb8bd5-6f8f-4be8-e338-85950b9d1d7d"
   },
   "outputs": [
    {
     "data": {
      "text/plain": [
       "([<matplotlib.patches.Wedge at 0x7fd81cde70d0>,\n",
       "  <matplotlib.patches.Wedge at 0x7fd81cde7ad0>],\n",
       " [Text(-0.25106860689769006, 1.0709643106240532, '1'),\n",
       "  Text(0.2510687071686046, -1.0709642871173088, '0')],\n",
       " [Text(-0.1369465128532855, 0.5841623512494835, '57.329845%'),\n",
       "  Text(0.13694656754651158, -0.584162338427623, '42.670158%')])"
      ]
     },
     "execution_count": 402,
     "metadata": {},
     "output_type": "execute_result"
    },
    {
     "data": {
      "image/png": "[encoded data removed]",
      "text/plain": [
       "<Figure size 432x288 with 2 Axes>"
      ]
     },
     "metadata": {},
     "output_type": "display_data"
    }
   ],
   "source": [
    "# 2. Does self employed people shy away to seek help?\n",
    "plt.subplot(1,2,1)\n",
    "plt.title(\"Self Employed\")\n",
    "plt.pie(data4[data4.self_employed==1]['treatment_from_professional'].value_counts(), autopct='%1f%%',radius=1, labels=data4[data4.self_employed==1]['treatment_from_professional'].value_counts().index)\n",
    "\n",
    "plt.subplot(1,2,2)\n",
    "plt.title(\"Not Self employed\")\n",
    "plt.pie(data4[data4.self_employed==0]['treatment_from_professional'].value_counts(), autopct='%1f%%',radius=1, labels=data4[data4.self_employed==0]['treatment_from_professional'].value_counts().index)"
   ]
  },
  {
   "cell_type": "code",
   "execution_count": 403,
   "metadata": {
    "colab": {
     "base_uri": "https://localhost:8080/",
     "height": 0
    },
    "id": "F_cWWh6V82Xo",
    "outputId": "f73780a2-1428-4bf9-b79d-9e7d2b415029"
   },
   "outputs": [
    {
     "data": {
      "text/plain": [
       "Text(0.5, 1.0, 'Company size vs Health care coverage')"
      ]
     },
     "execution_count": 403,
     "metadata": {},
     "output_type": "execute_result"
    },
    {
     "data": {
      "image/png": "[encoded data removed]",
      "text/plain": [
       "<Figure size 432x288 with 1 Axes>"
      ]
     },
     "metadata": {
      "needs_background": "light"
     },
     "output_type": "display_data"
    }
   ],
   "source": [
    "# 3. Is the large company is more serious about mental health than small companies?\n",
    "sns.countplot(data=data4,x='no_of_employees',hue='mental_healthcare_coverage')\n",
    "plt.title('Company size vs Health care coverage')"
   ]
  },
  {
   "cell_type": "code",
   "execution_count": 404,
   "metadata": {
    "colab": {
     "base_uri": "https://localhost:8080/",
     "height": 0
    },
    "id": "Rg14-HX085e-",
    "outputId": "f3a596da-fa07-4b91-ba59-2434e07ec97c"
   },
   "outputs": [
    {
     "data": {
      "text/plain": [
       "Text(0.5, 1.0, 'Company size vs Openess about mental health')"
      ]
     },
     "execution_count": 404,
     "metadata": {},
     "output_type": "execute_result"
    },
    {
     "data": {
      "image/png": "[encoded data removed]",
      "text/plain": [
       "<Figure size 432x288 with 1 Axes>"
      ]
     },
     "metadata": {
      "needs_background": "light"
     },
     "output_type": "display_data"
    }
   ],
   "source": [
    "# 4. Does openess about the mental health varies with size of the companies?\n",
    "sns.countplot(data=data4,x='no_of_employees',hue='comfortable_discussing_with_coworkers')\n",
    "plt.title('Company size vs Openess about mental health')"
   ]
  },
  {
   "cell_type": "code",
   "execution_count": 405,
   "metadata": {
    "colab": {
     "base_uri": "https://localhost:8080/",
     "height": 0
    },
    "id": "XEh74nzm8_N4",
    "outputId": "01a3b310-26f9-4300-9f69-07d995da7b8b"
   },
   "outputs": [
    {
     "data": {
      "text/plain": [
       "([<matplotlib.patches.Wedge at 0x7fd81cc30ad0>,\n",
       "  <matplotlib.patches.Wedge at 0x7fd81cc3e350>,\n",
       "  <matplotlib.patches.Wedge at 0x7fd81cc3e4d0>],\n",
       " [Text(-0.44059807728808054, 1.0079054193177288, 'No'),\n",
       "  Text(0.1506324301763201, -1.0896374952153474, 'Yes'),\n",
       "  Text(1.058745387606376, -0.2984262123578033, \"I don't know\")],\n",
       " [Text(-0.24032622397531664, 0.5497665923551248, '63.117874%'),\n",
       "  Text(0.08216314373253823, -0.5943477246629167, '28.136882%'),\n",
       "  Text(0.5774974841489323, -0.16277793401334723, '8.745247%')])"
      ]
     },
     "execution_count": 405,
     "metadata": {},
     "output_type": "execute_result"
    },
    {
     "data": {
      "image/png": "[encoded data removed]",
      "text/plain": [
       "<Figure size 432x288 with 2 Axes>"
      ]
     },
     "metadata": {},
     "output_type": "display_data"
    }
   ],
   "source": [
    "# 5. Does the tech companies take mental health seriously than other non tech companies?\n",
    "plt.subplot(1,2,1)\n",
    "plt.title(\"Tech Company\")\n",
    "plt.pie(data4[data4.tech_company==1]['employer_discussed_mental_health '].value_counts(), autopct='%1f%%',radius=1, labels=data4[data4.tech_company==1]['employer_discussed_mental_health '].value_counts().index)\n",
    "\n",
    "plt.subplot(1,2,2)\n",
    "plt.title(\"Not tech companies\")\n",
    "plt.pie(data4[data4.tech_company==0]['employer_discussed_mental_health '].value_counts(), autopct='%1f%%',radius=1, labels=data4[data4.tech_company==1]['employer_discussed_mental_health '].value_counts().index)\n"
   ]
  },
  {
   "cell_type": "code",
   "execution_count": 406,
   "metadata": {
    "colab": {
     "base_uri": "https://localhost:8080/",
     "height": 0
    },
    "id": "tuWoZu2p9Cyu",
    "outputId": "558c21f7-8575-401f-eba9-16a8905dca7a"
   },
   "outputs": [
    {
     "data": {
      "text/plain": [
       "([<matplotlib.patches.Wedge at 0x7fd81cbd6250>,\n",
       "  <matplotlib.patches.Wedge at 0x7fd81cbd6c50>],\n",
       " [Text(-0.05834680990910332, 1.0984514781151833, '1'),\n",
       "  Text(0.058346809909102695, -1.0984514781151833, '0')],\n",
       " [Text(-0.03182553267769272, 0.5991553516991909, '51.689190%'),\n",
       "  Text(0.03182553267769238, -0.5991553516991909, '48.310810%')])"
      ]
     },
     "execution_count": 406,
     "metadata": {},
     "output_type": "execute_result"
    },
    {
     "data": {
      "image/png": "[encoded data removed]",
      "text/plain": [
       "<Figure size 432x288 with 2 Axes>"
      ]
     },
     "metadata": {},
     "output_type": "display_data"
    }
   ],
   "source": [
    "# 6. Does providing more health care benefits provide seeking for professional health?\n",
    "plt.subplot(1,2,1)\n",
    "plt.title(\"Mental Health Covered\")\n",
    "plt.pie(data4[data4.mental_healthcare_coverage=='Yes']['treatment_from_professional'].value_counts(), autopct='%1f%%',radius=1, labels=data4[data4.mental_healthcare_coverage=='Yes']['treatment_from_professional'].value_counts().index)\n",
    "\n",
    "plt.subplot(1,2,2)\n",
    "plt.title(\"Mental Health not covered\")\n",
    "plt.pie(data4[data4.mental_healthcare_coverage=='No']['treatment_from_professional'].value_counts(), autopct='%1f%%',radius=1, labels=data4[data4.mental_healthcare_coverage=='No']['treatment_from_professional'].value_counts().index)"
   ]
  },
  {
   "cell_type": "code",
   "execution_count": 407,
   "metadata": {
    "colab": {
     "base_uri": "https://localhost:8080/",
     "height": 0
    },
    "id": "S-T9Tifm9HOb",
    "outputId": "662ccaf5-721c-4206-98d9-ac7175c7891d"
   },
   "outputs": [
    {
     "data": {
      "text/plain": [
       "([<matplotlib.patches.Wedge at 0x7fd81caf1350>,\n",
       "  <matplotlib.patches.Wedge at 0x7fd81caf1d50>],\n",
       " [Text(-0.2840207786894458, 1.062700426871393, '1'),\n",
       "  Text(0.2840207786894455, -1.062700426871393, '0')],\n",
       " [Text(-0.1549204247396977, 0.579654778293487, '58.312958%'),\n",
       "  Text(0.1549204247396975, -0.5796547782934871, '41.687042%')])"
      ]
     },
     "execution_count": 407,
     "metadata": {},
     "output_type": "execute_result"
    },
    {
     "data": {
      "image/png": "[encoded data removed]",
      "text/plain": [
       "<Figure size 720x720 with 2 Axes>"
      ]
     },
     "metadata": {},
     "output_type": "display_data"
    }
   ],
   "source": [
    "# 7. Does providing more information about mental health increase help seeking behaviour?\n",
    "plt.figure(figsize=(10,10))\n",
    "plt.subplot(1,2,1)\n",
    "plt.title(\"Mental Healthcare options Knowledge\")\n",
    "plt.pie(data4[data4.employer_offer_resources_to_learn_about_mental_health=='Yes']['treatment_from_professional'].value_counts(), autopct='%1f%%',radius=1, labels=data4[data4.employer_offer_resources_to_learn_about_mental_health=='Yes']['treatment_from_professional'].value_counts().index)\n",
    "\n",
    "plt.subplot(1,2,2)\n",
    "plt.title(\"Mental Healthcare options no knowledge\")\n",
    "plt.pie(data4[data4.employer_offer_resources_to_learn_about_mental_health=='No']['treatment_from_professional'].value_counts(), autopct='%1f%%',radius=1, labels=data4[data4.employer_offer_resources_to_learn_about_mental_health=='No']['treatment_from_professional'].value_counts().index)"
   ]
  },
  {
   "cell_type": "code",
   "execution_count": 408,
   "metadata": {
    "colab": {
     "base_uri": "https://localhost:8080/",
     "height": 0
    },
    "id": "94wpB6eq9MXm",
    "outputId": "c5b33f82-0bf1-4c76-d0a4-cd96ddc765a7"
   },
   "outputs": [
    {
     "data": {
      "text/plain": [
       "([<matplotlib.patches.Wedge at 0x7fd81d7b9610>,\n",
       "  <matplotlib.patches.Wedge at 0x7fd81d979510>,\n",
       "  <matplotlib.patches.Wedge at 0x7fd81d76f390>,\n",
       "  <matplotlib.patches.Wedge at 0x7fd81d742e50>,\n",
       "  <matplotlib.patches.Wedge at 0x7fd81d6fee50>,\n",
       "  <matplotlib.patches.Wedge at 0x7fd81d706890>],\n",
       " [Text(0.21807097813164583, 1.078167449191779, 'Somewhat open'),\n",
       "  Text(-1.09854150500076, -0.05662651137643169, 'Very open'),\n",
       "  Text(-0.6373633449424054, -0.8965310739309755, \"I don't know\"),\n",
       "  Text(0.266419245583799, -1.0672491675248847, 'Somewhat not open'),\n",
       "  Text(0.9165788254046539, -0.6081802831560928, 'Neutral'),\n",
       "  Text(1.0908949119861056, -0.14123841900427447, 'Not open at all')],\n",
       " [Text(0.11894780625362497, 0.5880913359227885, '43.647540%'),\n",
       "  Text(-0.5992044572731418, -0.03088718802350819, '14.344262%'),\n",
       "  Text(-0.3476527336049484, -0.48901694941689566, '14.344262%'),\n",
       "  Text(0.14531958850025398, -0.582135909559028, '13.114753%'),\n",
       "  Text(0.4999520865843566, -0.3317346999033233, '10.450820%'),\n",
       "  Text(0.5950335883560576, -0.07703913763869516, '4.098361%')])"
      ]
     },
     "execution_count": 408,
     "metadata": {},
     "output_type": "execute_result"
    },
    {
     "data": {
      "image/png": "[encoded data removed]",
      "text/plain": [
       "<Figure size 720x720 with 2 Axes>"
      ]
     },
     "metadata": {},
     "output_type": "display_data"
    }
   ],
   "source": [
    "# 8. The family where there are history mental health isssues are they open about discussing among family?\n",
    "plt.figure(figsize=(10,10))\n",
    "plt.subplot(1,2,1)\n",
    "plt.title(\"Having family history mental illness\")\n",
    "plt.pie(data4[data4.family_history_mental_illness=='Yes']['openess_of_family_friends'].value_counts(), autopct='%1f%%',radius=1, labels=data4[data4.family_history_mental_illness=='Yes']['openess_of_family_friends'].value_counts().index)\n",
    "\n",
    "plt.subplot(1,2,2)\n",
    "plt.title(\"No family history of mental illness\")\n",
    "plt.pie(data4[data4.family_history_mental_illness=='No']['openess_of_family_friends'].value_counts(), autopct='%1f%%',radius=1, labels=data4[data4.family_history_mental_illness=='No']['openess_of_family_friends'].value_counts().index)"
   ]
  },
  {
   "cell_type": "code",
   "execution_count": 409,
   "metadata": {
    "colab": {
     "base_uri": "https://localhost:8080/",
     "height": 0
    },
    "id": "ba3Gghxg9Q90",
    "outputId": "844776e2-855f-4717-a63c-684448dc714a"
   },
   "outputs": [
    {
     "data": {
      "text/plain": [
       "([<matplotlib.patches.Wedge at 0x7fd81ca1e190>,\n",
       "  <matplotlib.patches.Wedge at 0x7fd81ca1eb90>],\n",
       " [Text(-0.02303663990543217, 1.0997587522824575, '0'),\n",
       "  Text(0.02303663990543179, -1.0997587522824575, '1')],\n",
       " [Text(-0.012565439948417547, 0.5998684103358859, '50.666666%'),\n",
       "  Text(0.012565439948417339, -0.5998684103358859, '49.333334%')])"
      ]
     },
     "execution_count": 409,
     "metadata": {},
     "output_type": "execute_result"
    },
    {
     "data": {
      "image/png": "[encoded data removed]",
      "text/plain": [
       "<Figure size 720x720 with 3 Axes>"
      ]
     },
     "metadata": {},
     "output_type": "display_data"
    }
   ],
   "source": [
    "# 9. Does willing ness among family memebers increases the chance of seeking more professional help?\n",
    "\n",
    "plt.figure(figsize=(10,10))\n",
    "plt.subplot(1,3,1)\n",
    "plt.title(\"Very open family\")\n",
    "plt.pie(data4[data4.openess_of_family_friends=='Very open']['treatment_from_professional'].value_counts(), autopct='%1f%%',radius=1, labels=data4[data4.openess_of_family_friends=='Very open']['treatment_from_professional'].value_counts().index)\n",
    "\n",
    "plt.subplot(1,3,2)\n",
    "plt.title(\"Somewhat Open family\")\n",
    "plt.pie(data4[data4.openess_of_family_friends=='Somewhat open']['treatment_from_professional'].value_counts(), autopct='%1f%%',radius=1, labels=data4[data4.openess_of_family_friends=='Somewhat open']['treatment_from_professional'].value_counts().index)\n",
    "\n",
    "plt.subplot(1,3,3)\n",
    "plt.title(\"Not open at all\")\n",
    "plt.pie(data4[data4.openess_of_family_friends=='Not open at all']['treatment_from_professional'].value_counts(), autopct='%1f%%',radius=1, labels=data4[data4.openess_of_family_friends=='Not open at all']['treatment_from_professional'].value_counts().index)"
   ]
  },
  {
   "cell_type": "code",
   "execution_count": 410,
   "metadata": {
    "colab": {
     "base_uri": "https://localhost:8080/",
     "height": 0
    },
    "id": "5z8DrIXA9WWk",
    "outputId": "28504177-884e-41e5-85ae-7b195f1767f1"
   },
   "outputs": [
    {
     "data": {
      "text/plain": [
       "<matplotlib.axes._subplots.AxesSubplot at 0x7fd81d6d2810>"
      ]
     },
     "execution_count": 410,
     "metadata": {},
     "output_type": "execute_result"
    },
    {
     "data": {
      "image/png": "[encoded data removed]",
      "text/plain": [
       "<Figure size 720x720 with 1 Axes>"
      ]
     },
     "metadata": {
      "needs_background": "light"
     },
     "output_type": "display_data"
    }
   ],
   "source": [
    "# 10. Which kind of discorder occur most?\n",
    "disorder_type=pd.DataFrame(data4[data4.type_of_disorder.isnull() != True]['type_of_disorder'].str.split(\"|\").tolist()).stack()\n",
    "plt.figure(figsize=(10,10))\n",
    "sns.barplot(x=disorder_type.value_counts()[0:10],y=disorder_type.value_counts().index[0:10])"
   ]
  },
  {
   "cell_type": "markdown",
   "metadata": {
    "id": "jpMgvMLnRi_y"
   },
   "source": [
    "> # **4. ML Models**"
   ]
  },
  {
   "cell_type": "markdown",
   "metadata": {
    "id": "JSQvTn2mRsiZ"
   },
   "source": [
    "**Target Variable Column:** \"diagnosed_mental_health_condition\""
   ]
  },
  {
   "cell_type": "markdown",
   "metadata": {
    "id": "7__H6qQoSGIz"
   },
   "source": [
    "**Aim :** Here our main task is that knowing certain paramerters of the repondent's background we have to predict if one will be diagnosed positive or negetive."
   ]
  },
  {
   "cell_type": "markdown",
   "metadata": {
    "id": "6bE_6biVSaF_"
   },
   "source": [
    "> ### **Stop Data Leakage:** \n",
    "\n",
    "  * So, now comes the important part where we have to stop data leakage. To stop Data leakage we have to drop certain columns which we can't have while making prediction. Like Treatment from professional column we might not know when we are making prediction because if one is diagnosed then one takes help from professional. These type of columns are like false target if we include it might train on that and then make prediction.\n",
    "\n",
    "> **Stop Train and Test contamination :**\n",
    "\n",
    "*  To stop this issue we have split the data then done all the preprocessing seperately."
   ]
  },
  {
   "cell_type": "code",
   "execution_count": 411,
   "metadata": {
    "colab": {
     "base_uri": "https://localhost:8080/"
    },
    "id": "7K6eODFtj5iA",
    "outputId": "d4054aca-0cf0-4f65-e5d1-919f58a1fe0b"
   },
   "outputs": [
    {
     "name": "stdout",
     "output_type": "stream",
     "text": [
      "(1433, 27)\n"
     ]
    }
   ],
   "source": [
    "print(data4.shape)"
   ]
  },
  {
   "cell_type": "code",
   "execution_count": 412,
   "metadata": {
    "colab": {
     "base_uri": "https://localhost:8080/"
    },
    "id": "Rta0gtS2j_XW",
    "outputId": "30cc95ac-faa2-4303-bdc1-0593a0342625"
   },
   "outputs": [
    {
     "name": "stdout",
     "output_type": "stream",
     "text": [
      "<class 'pandas.core.frame.DataFrame'>\n",
      "RangeIndex: 1433 entries, 0 to 1432\n",
      "Data columns (total 27 columns):\n",
      " #   Column                                                         Non-Null Count  Dtype \n",
      "---  ------                                                         --------------  ----- \n",
      " 0   self_employed                                                  1433 non-null   object\n",
      " 1   no_of_employees                                                1433 non-null   object\n",
      " 2   tech_company                                                   1433 non-null   object\n",
      " 3   mental_healthcare_coverage                                     1433 non-null   object\n",
      " 4   knowledge_about_mental_healthcare_options_workplace            1433 non-null   object\n",
      " 5   employer_discussed_mental_health                               1433 non-null   object\n",
      " 6   employer_offer_resources_to_learn_about_mental_health          1433 non-null   object\n",
      " 7   medical_leave_from_work                                        1433 non-null   object\n",
      " 8   comfortable_discussing_with_coworkers                          1433 non-null   object\n",
      " 9   employer_take_mental_health_seriously                          1433 non-null   object\n",
      " 10  openess_of_family_friends                                      1433 non-null   object\n",
      " 11  family_history_mental_illness                                  1433 non-null   object\n",
      " 12  mental_health_disorder_past                                    1433 non-null   object\n",
      " 13  currently_mental_health_disorder                               1433 non-null   object\n",
      " 14  diagnosed_mental_health_condition                              1433 non-null   object\n",
      " 15  treatment_from_professional                                    1433 non-null   object\n",
      " 16  while_effective_treatment_mental_health_issue_interferes_work  1433 non-null   object\n",
      " 17  while_not_effective_treatment_interferes_work                  1433 non-null   object\n",
      " 18  age                                                            1433 non-null   object\n",
      " 19  gender                                                         1433 non-null   object\n",
      " 20  country                                                        1433 non-null   object\n",
      " 21  country work                                                   1433 non-null   object\n",
      " 22  work_remotely                                                  1433 non-null   object\n",
      " 23  tech_role                                                      1433 non-null   object\n",
      " 24  type_of_disorder                                               711 non-null    object\n",
      " 25  US state                                                       840 non-null    object\n",
      " 26  US state work                                                  851 non-null    object\n",
      "dtypes: object(27)\n",
      "memory usage: 302.4+ KB\n"
     ]
    }
   ],
   "source": [
    "data4.info()"
   ]
  },
  {
   "cell_type": "markdown",
   "metadata": {
    "id": "BJbA29yaTJca"
   },
   "source": [
    "> # **Data Preperation**"
   ]
  },
  {
   "cell_type": "code",
   "execution_count": 413,
   "metadata": {
    "colab": {
     "base_uri": "https://localhost:8080/"
    },
    "id": "cxiUAxRsGOPs",
    "outputId": "5432320f-3250-406e-bb0e-8e6b9a565f18"
   },
   "outputs": [
    {
     "data": {
      "text/plain": [
       "(1433, 27)"
      ]
     },
     "execution_count": 413,
     "metadata": {},
     "output_type": "execute_result"
    }
   ],
   "source": [
    "data4.shape"
   ]
  },
  {
   "cell_type": "code",
   "execution_count": 414,
   "metadata": {
    "id": "p-7LBVbXTPs8"
   },
   "outputs": [],
   "source": [
    "# Here We Dropping unnecessary columns\n",
    "y=data4.diagnosed_mental_health_condition\n",
    "x=data4.drop(['diagnosed_mental_health_condition','treatment_from_professional','while_effective_treatment_mental_health_issue_interferes_work','while_not_effective_treatment_interferes_work ','type_of_disorder','US state','US state work'],axis=1)"
   ]
  },
  {
   "cell_type": "code",
   "execution_count": 415,
   "metadata": {
    "colab": {
     "base_uri": "https://localhost:8080/"
    },
    "id": "sr3h-KVWjsAq",
    "outputId": "9bc0d47e-1e43-48f9-af52-038da962dde9"
   },
   "outputs": [
    {
     "name": "stdout",
     "output_type": "stream",
     "text": [
      "(1433, 20)\n",
      "(1433,)\n"
     ]
    }
   ],
   "source": [
    "print(x.shape)\n",
    "print(y.shape)"
   ]
  },
  {
   "cell_type": "code",
   "execution_count": 416,
   "metadata": {
    "colab": {
     "base_uri": "https://localhost:8080/"
    },
    "id": "AHv1ohTnT3dK",
    "outputId": "5ca2f72e-4b35-40ec-ddbf-5fa50c241b76"
   },
   "outputs": [
    {
     "name": "stdout",
     "output_type": "stream",
     "text": [
      "(1146, 20)\n",
      "(287, 20)\n",
      "(1146,)\n",
      "(287,)\n"
     ]
    }
   ],
   "source": [
    "# Splitting the data\n",
    "x_train,x_test,y_train,y_test=train_test_split(x,y,train_size=0.8,test_size=0.2,random_state=0)\n",
    "print(x_train.shape)\n",
    "print(x_test.shape)\n",
    "print(y_train.shape)\n",
    "print(y_test.shape)"
   ]
  },
  {
   "cell_type": "code",
   "execution_count": 417,
   "metadata": {
    "id": "H9JolGgdWjcY"
   },
   "outputs": [],
   "source": [
    "cat_columns=['self_employed', \n",
    "             'no_of_employees', \n",
    "             'tech_company',\n",
    "             'mental_healthcare_coverage',\n",
    "             'knowledge_about_mental_healthcare_options_workplace',\n",
    "             'employer_discussed_mental_health ',\n",
    "             'employer_offer_resources_to_learn_about_mental_health',\n",
    "             'medical_leave_from_work ',  \n",
    "             'comfortable_discussing_with_coworkers',\n",
    "             'employer_take_mental_health_seriously', \n",
    "             'openess_of_family_friends',\n",
    "             'family_history_mental_illness', \n",
    "             'mental_health_disorder_past',\n",
    "             'currently_mental_health_disorder', \n",
    "             'age', \n",
    "             'gender', \n",
    "             'country',\n",
    "             'country work ', \n",
    "             'work_remotely', \n",
    "             'tech_role']"
   ]
  },
  {
   "cell_type": "code",
   "execution_count": 418,
   "metadata": {
    "colab": {
     "base_uri": "https://localhost:8080/"
    },
    "id": "9bIaJ-kuncKQ",
    "outputId": "d63f7f33-05e7-4aa0-f67d-eb6eaa78ed46"
   },
   "outputs": [
    {
     "name": "stdout",
     "output_type": "stream",
     "text": [
      "['Yes' 'No']\n"
     ]
    }
   ],
   "source": [
    " print(data4['diagnosed_mental_health_condition'].unique())"
   ]
  },
  {
   "cell_type": "code",
   "execution_count": 419,
   "metadata": {
    "colab": {
     "base_uri": "https://localhost:8080/"
    },
    "id": "tkOWhi_oh4LW",
    "outputId": "953e8ba0-1f5d-4fb0-df8a-595f83742aa6"
   },
   "outputs": [
    {
     "name": "stdout",
     "output_type": "stream",
     "text": [
      "The Unique value self_employed is\n",
      "[0 1]\n",
      "\n",
      "The Unique value no_of_employees is\n",
      "['1-5' '6-25' '26-100' '100-500' '500-1000' '>1000']\n",
      "\n",
      "The Unique value tech_company is\n",
      "[1.0 0.0]\n",
      "\n",
      "The Unique value mental_healthcare_coverage is\n",
      "['Yes' 'No' \"I don't know\"]\n",
      "\n",
      "The Unique value knowledge_about_mental_healthcare_options_workplace is\n",
      "['Yes' 'No' 'I am not sure']\n",
      "\n",
      "The Unique value employer_discussed_mental_health  is\n",
      "['No' 'Yes' \"I don't know\"]\n",
      "\n",
      "The Unique value employer_offer_resources_to_learn_about_mental_health is\n",
      "['No' \"I don't know\" 'Yes']\n",
      "\n",
      "The Unique value medical_leave_from_work  is\n",
      "['Somewhat difficult' 'Very easy' \"I don't know\" 'Very difficult'\n",
      " 'Somewhat easy' 'Neither easy nor difficult']\n",
      "\n",
      "The Unique value comfortable_discussing_with_coworkers is\n",
      "['Maybe' 'Yes' 'No']\n",
      "\n",
      "The Unique value employer_take_mental_health_seriously is\n",
      "[\"I don't know\" 'Yes' 'No']\n",
      "\n",
      "The Unique value openess_of_family_friends is\n",
      "['Somewhat open' 'Very open' 'Somewhat not open' 'Neutral' \"I don't know\"\n",
      " 'Not open at all']\n",
      "\n",
      "The Unique value family_history_mental_illness is\n",
      "['Yes' 'No' \"I don't know\"]\n",
      "\n",
      "The Unique value mental_health_disorder_past is\n",
      "['Yes' 'No' 'Maybe']\n",
      "\n",
      "The Unique value currently_mental_health_disorder is\n",
      "['No' 'Yes' 'Maybe']\n",
      "\n",
      "The Unique value age is\n",
      "[33.0 40.0 21.0 36.0 42.0 26.0 29.0 30.0 56.0 35.0 51.0 24.0 38.0 44.0\n",
      " 27.0 55.0 22.0 25.0 28.0 23.0 32.0 31.0 43.0 37.0 39.0 45.0 46.0 20.0\n",
      " 54.0 34.0 61.0 41.0 48.0 66.0 19.0 52.0 50.0 49.0 47.0 57.0 74.0 53.0\n",
      " 58.0 70.0 59.0 62.0 63.0 65.0]\n",
      "\n",
      "The Unique value gender is\n",
      "['male' 'female' 'other']\n",
      "\n",
      "The Unique value country is\n",
      "['Canada' 'Netherlands' 'United Kingdom' 'Brazil'\n",
      " 'United States of America' 'Denmark' 'Mexico' 'Australia' 'India' 'Iran'\n",
      " 'Switzerland' 'Finland' 'Austria' 'Romania' 'Spain' 'Germany' 'Ireland'\n",
      " 'Vietnam' 'South Africa' 'Slovakia' 'Norway' 'France' 'Sweden'\n",
      " 'New Zealand' 'Bulgaria' 'Other' 'Bosnia and Herzegovina' 'Chile'\n",
      " 'Belgium' 'Russia' 'Argentina' 'Bangladesh' 'Pakistan' 'Israel' 'Japan'\n",
      " 'Italy' 'Estonia' 'Afghanistan' 'Colombia' 'Poland' 'Ecuador'\n",
      " 'Czech Republic' 'Hungary' 'Lithuania' 'Venezuela' 'Costa Rica' 'Algeria'\n",
      " 'Greece' 'Brunei' 'China' 'Guatemala' 'Taiwan' 'Serbia']\n",
      "\n",
      "The Unique value country work  is\n",
      "['Canada' 'Netherlands' 'United Kingdom' 'Brazil'\n",
      " 'United States of America' 'Denmark' 'Mexico' 'Australia' 'India' 'Iran'\n",
      " 'Switzerland' 'Finland' 'Austria' 'Romania' 'Spain' 'Germany' 'Ireland'\n",
      " 'Vietnam' 'South Africa' 'Slovakia' 'Norway' 'France' 'Sweden'\n",
      " 'New Zealand' 'Bulgaria' 'Other' 'Bosnia and Herzegovina' 'Chile'\n",
      " 'Belgium' 'Russia' 'Argentina' 'Bangladesh' 'Pakistan' 'Israel' 'Japan'\n",
      " 'Estonia' 'Colombia' 'Afghanistan' 'Poland' 'Ecuador' 'Czech Republic'\n",
      " 'Italy' 'United Arab Emirates' 'Hungary' 'Lithuania' 'Venezuela' 'Turkey'\n",
      " 'Costa Rica' 'Greece' 'Brunei' 'China' 'Guatemala' 'Serbia']\n",
      "\n",
      "The Unique value work_remotely is\n",
      "['Sometimes' 'Never' 'Always']\n",
      "\n",
      "The Unique value tech_role is\n",
      "[1 0]\n",
      "\n"
     ]
    }
   ],
   "source": [
    "for col in cat_columns:\n",
    "  print('The Unique value',col,'is')\n",
    "  print(data4[col].unique())\n",
    "  print()"
   ]
  },
  {
   "cell_type": "code",
   "execution_count": 420,
   "metadata": {
    "id": "ia-KvTo0xEIF"
   },
   "outputs": [],
   "source": [
    "from sklearn.preprocessing import LabelEncoder\n",
    "import numpy as np\n",
    "\n",
    "\n",
    "class LabelEncoderExt(object):\n",
    "    def __init__(self):\n",
    "        \"\"\"\n",
    "        It differs from LabelEncoder by handling new classes and providing a value for it [Unknown]\n",
    "        Unknown will be added in fit and transform will take care of new item. It gives unknown class id\n",
    "        \"\"\"\n",
    "        self.label_encoder = LabelEncoder()\n",
    "        # self.classes_ = self.label_encoder.classes_\n",
    "\n",
    "    def fit(self, data_list):\n",
    "        \"\"\"\n",
    "        This will fit the encoder for all the unique values and introduce unknown value\n",
    "        :param data_list: A list of string\n",
    "        :return: self\n",
    "        \"\"\"\n",
    "        self.label_encoder = self.label_encoder.fit(list(data_list) + ['Unknown'])\n",
    "        self.classes_ = self.label_encoder.classes_\n",
    "\n",
    "        return self\n",
    "\n",
    "    def transform(self, data_list):\n",
    "        \"\"\"\n",
    "        This will transform the data_list to id list where the new values get assigned to Unknown class\n",
    "        :param data_list:\n",
    "        :return:\n",
    "        \"\"\"\n",
    "        new_data_list = list(data_list)\n",
    "        for unique_item in np.unique(data_list):\n",
    "            if unique_item not in self.label_encoder.classes_:\n",
    "                new_data_list = ['Unknown' if x==unique_item else x for x in new_data_list]\n",
    "\n",
    "        return self.label_encoder.transform(new_data_list)"
   ]
  },
  {
   "cell_type": "code",
   "execution_count": 421,
   "metadata": {
    "colab": {
     "base_uri": "https://localhost:8080/"
    },
    "id": "wnQ2aavFY-jD",
    "outputId": "18b2d01b-8757-47a8-9054-c997f93745d4"
   },
   "outputs": [
    {
     "name": "stderr",
     "output_type": "stream",
     "text": [
      "/usr/local/lib/python3.7/dist-packages/ipykernel_launcher.py:33: FutureWarning:\n",
      "\n",
      "elementwise comparison failed; returning scalar instead, but in the future will perform elementwise comparison\n",
      "\n"
     ]
    }
   ],
   "source": [
    "label_encode=LabelEncoderExt()\n",
    "\n",
    "label_x_train=x_train.copy()\n",
    "label_x_test=x_test.copy()\n",
    "\n",
    "for col in cat_columns:\n",
    "    label_x_train[col]=label_encode.fit(x_train[col])\n",
    "    label_encode.classes_\n",
    "    label_x_train[col]=label_encode.transform(x_train[col])\n",
    "    label_x_test[col] = label_encode.transform(label_x_test[col])"
   ]
  },
  {
   "cell_type": "code",
   "execution_count": 422,
   "metadata": {
    "colab": {
     "base_uri": "https://localhost:8080/",
     "height": 0
    },
    "id": "BheWlSnawPdL",
    "outputId": "fe6f9aff-72f8-49bc-c1be-764c19dc7a5b"
   },
   "outputs": [
    {
     "data": {
      "text/html": [
       "\n",
       "  <div id=\"df-9b04fa35-0438-4307-842e-6ea0b38d484e\">\n",
       "    <div class=\"colab-df-container\">\n",
       "      <div>\n",
       "<style scoped>\n",
       "    .dataframe tbody tr th:only-of-type {\n",
       "        vertical-align: middle;\n",
       "    }\n",
       "\n",
       "    .dataframe tbody tr th {\n",
       "        vertical-align: top;\n",
       "    }\n",
       "\n",
       "    .dataframe thead th {\n",
       "        text-align: right;\n",
       "    }\n",
       "</style>\n",
       "<table border=\"1\" class=\"dataframe\">\n",
       "  <thead>\n",
       "    <tr style=\"text-align: right;\">\n",
       "      <th></th>\n",
       "      <th>self_employed</th>\n",
       "      <th>no_of_employees</th>\n",
       "      <th>tech_company</th>\n",
       "      <th>mental_healthcare_coverage</th>\n",
       "      <th>knowledge_about_mental_healthcare_options_workplace</th>\n",
       "      <th>employer_discussed_mental_health</th>\n",
       "      <th>employer_offer_resources_to_learn_about_mental_health</th>\n",
       "      <th>medical_leave_from_work</th>\n",
       "      <th>comfortable_discussing_with_coworkers</th>\n",
       "      <th>employer_take_mental_health_seriously</th>\n",
       "      <th>openess_of_family_friends</th>\n",
       "      <th>family_history_mental_illness</th>\n",
       "      <th>mental_health_disorder_past</th>\n",
       "      <th>currently_mental_health_disorder</th>\n",
       "      <th>age</th>\n",
       "      <th>gender</th>\n",
       "      <th>country</th>\n",
       "      <th>country work</th>\n",
       "      <th>work_remotely</th>\n",
       "      <th>tech_role</th>\n",
       "    </tr>\n",
       "  </thead>\n",
       "  <tbody>\n",
       "    <tr>\n",
       "      <th>867</th>\n",
       "      <td>2</td>\n",
       "      <td>3</td>\n",
       "      <td>2</td>\n",
       "      <td>1</td>\n",
       "      <td>1</td>\n",
       "      <td>0</td>\n",
       "      <td>0</td>\n",
       "      <td>5</td>\n",
       "      <td>1</td>\n",
       "      <td>1</td>\n",
       "      <td>1</td>\n",
       "      <td>1</td>\n",
       "      <td>0</td>\n",
       "      <td>1</td>\n",
       "      <td>48</td>\n",
       "      <td>2</td>\n",
       "      <td>43</td>\n",
       "      <td>42</td>\n",
       "      <td>1</td>\n",
       "      <td>2</td>\n",
       "    </tr>\n",
       "    <tr>\n",
       "      <th>608</th>\n",
       "      <td>2</td>\n",
       "      <td>2</td>\n",
       "      <td>2</td>\n",
       "      <td>3</td>\n",
       "      <td>0</td>\n",
       "      <td>1</td>\n",
       "      <td>0</td>\n",
       "      <td>0</td>\n",
       "      <td>0</td>\n",
       "      <td>0</td>\n",
       "      <td>0</td>\n",
       "      <td>3</td>\n",
       "      <td>1</td>\n",
       "      <td>1</td>\n",
       "      <td>48</td>\n",
       "      <td>2</td>\n",
       "      <td>10</td>\n",
       "      <td>9</td>\n",
       "      <td>0</td>\n",
       "      <td>2</td>\n",
       "    </tr>\n",
       "    <tr>\n",
       "      <th>511</th>\n",
       "      <td>2</td>\n",
       "      <td>1</td>\n",
       "      <td>2</td>\n",
       "      <td>3</td>\n",
       "      <td>0</td>\n",
       "      <td>3</td>\n",
       "      <td>0</td>\n",
       "      <td>3</td>\n",
       "      <td>1</td>\n",
       "      <td>1</td>\n",
       "      <td>0</td>\n",
       "      <td>1</td>\n",
       "      <td>1</td>\n",
       "      <td>1</td>\n",
       "      <td>48</td>\n",
       "      <td>2</td>\n",
       "      <td>10</td>\n",
       "      <td>9</td>\n",
       "      <td>2</td>\n",
       "      <td>2</td>\n",
       "    </tr>\n",
       "    <tr>\n",
       "      <th>1214</th>\n",
       "      <td>2</td>\n",
       "      <td>2</td>\n",
       "      <td>2</td>\n",
       "      <td>3</td>\n",
       "      <td>1</td>\n",
       "      <td>1</td>\n",
       "      <td>1</td>\n",
       "      <td>3</td>\n",
       "      <td>0</td>\n",
       "      <td>0</td>\n",
       "      <td>4</td>\n",
       "      <td>3</td>\n",
       "      <td>3</td>\n",
       "      <td>3</td>\n",
       "      <td>48</td>\n",
       "      <td>2</td>\n",
       "      <td>49</td>\n",
       "      <td>48</td>\n",
       "      <td>0</td>\n",
       "      <td>2</td>\n",
       "    </tr>\n",
       "    <tr>\n",
       "      <th>1244</th>\n",
       "      <td>2</td>\n",
       "      <td>2</td>\n",
       "      <td>2</td>\n",
       "      <td>3</td>\n",
       "      <td>1</td>\n",
       "      <td>1</td>\n",
       "      <td>1</td>\n",
       "      <td>3</td>\n",
       "      <td>0</td>\n",
       "      <td>0</td>\n",
       "      <td>4</td>\n",
       "      <td>3</td>\n",
       "      <td>3</td>\n",
       "      <td>3</td>\n",
       "      <td>48</td>\n",
       "      <td>2</td>\n",
       "      <td>49</td>\n",
       "      <td>48</td>\n",
       "      <td>2</td>\n",
       "      <td>2</td>\n",
       "    </tr>\n",
       "    <tr>\n",
       "      <th>...</th>\n",
       "      <td>...</td>\n",
       "      <td>...</td>\n",
       "      <td>...</td>\n",
       "      <td>...</td>\n",
       "      <td>...</td>\n",
       "      <td>...</td>\n",
       "      <td>...</td>\n",
       "      <td>...</td>\n",
       "      <td>...</td>\n",
       "      <td>...</td>\n",
       "      <td>...</td>\n",
       "      <td>...</td>\n",
       "      <td>...</td>\n",
       "      <td>...</td>\n",
       "      <td>...</td>\n",
       "      <td>...</td>\n",
       "      <td>...</td>\n",
       "      <td>...</td>\n",
       "      <td>...</td>\n",
       "      <td>...</td>\n",
       "    </tr>\n",
       "    <tr>\n",
       "      <th>763</th>\n",
       "      <td>2</td>\n",
       "      <td>2</td>\n",
       "      <td>2</td>\n",
       "      <td>0</td>\n",
       "      <td>1</td>\n",
       "      <td>1</td>\n",
       "      <td>0</td>\n",
       "      <td>0</td>\n",
       "      <td>1</td>\n",
       "      <td>0</td>\n",
       "      <td>6</td>\n",
       "      <td>3</td>\n",
       "      <td>0</td>\n",
       "      <td>0</td>\n",
       "      <td>48</td>\n",
       "      <td>2</td>\n",
       "      <td>49</td>\n",
       "      <td>48</td>\n",
       "      <td>0</td>\n",
       "      <td>2</td>\n",
       "    </tr>\n",
       "    <tr>\n",
       "      <th>835</th>\n",
       "      <td>2</td>\n",
       "      <td>3</td>\n",
       "      <td>2</td>\n",
       "      <td>3</td>\n",
       "      <td>3</td>\n",
       "      <td>1</td>\n",
       "      <td>0</td>\n",
       "      <td>1</td>\n",
       "      <td>0</td>\n",
       "      <td>0</td>\n",
       "      <td>3</td>\n",
       "      <td>3</td>\n",
       "      <td>0</td>\n",
       "      <td>0</td>\n",
       "      <td>48</td>\n",
       "      <td>1</td>\n",
       "      <td>49</td>\n",
       "      <td>48</td>\n",
       "      <td>2</td>\n",
       "      <td>2</td>\n",
       "    </tr>\n",
       "    <tr>\n",
       "      <th>1216</th>\n",
       "      <td>2</td>\n",
       "      <td>2</td>\n",
       "      <td>2</td>\n",
       "      <td>3</td>\n",
       "      <td>1</td>\n",
       "      <td>1</td>\n",
       "      <td>1</td>\n",
       "      <td>3</td>\n",
       "      <td>0</td>\n",
       "      <td>0</td>\n",
       "      <td>6</td>\n",
       "      <td>0</td>\n",
       "      <td>1</td>\n",
       "      <td>1</td>\n",
       "      <td>48</td>\n",
       "      <td>2</td>\n",
       "      <td>10</td>\n",
       "      <td>48</td>\n",
       "      <td>2</td>\n",
       "      <td>2</td>\n",
       "    </tr>\n",
       "    <tr>\n",
       "      <th>559</th>\n",
       "      <td>2</td>\n",
       "      <td>2</td>\n",
       "      <td>2</td>\n",
       "      <td>1</td>\n",
       "      <td>0</td>\n",
       "      <td>1</td>\n",
       "      <td>0</td>\n",
       "      <td>5</td>\n",
       "      <td>0</td>\n",
       "      <td>0</td>\n",
       "      <td>1</td>\n",
       "      <td>0</td>\n",
       "      <td>3</td>\n",
       "      <td>3</td>\n",
       "      <td>48</td>\n",
       "      <td>2</td>\n",
       "      <td>49</td>\n",
       "      <td>48</td>\n",
       "      <td>2</td>\n",
       "      <td>2</td>\n",
       "    </tr>\n",
       "    <tr>\n",
       "      <th>684</th>\n",
       "      <td>2</td>\n",
       "      <td>2</td>\n",
       "      <td>2</td>\n",
       "      <td>0</td>\n",
       "      <td>1</td>\n",
       "      <td>1</td>\n",
       "      <td>1</td>\n",
       "      <td>3</td>\n",
       "      <td>1</td>\n",
       "      <td>1</td>\n",
       "      <td>2</td>\n",
       "      <td>1</td>\n",
       "      <td>0</td>\n",
       "      <td>0</td>\n",
       "      <td>48</td>\n",
       "      <td>2</td>\n",
       "      <td>49</td>\n",
       "      <td>48</td>\n",
       "      <td>2</td>\n",
       "      <td>2</td>\n",
       "    </tr>\n",
       "  </tbody>\n",
       "</table>\n",
       "<p>1146 rows × 20 columns</p>\n",
       "</div>\n",
       "      <button class=\"colab-df-convert\" onclick=\"convertToInteractive('df-9b04fa35-0438-4307-842e-6ea0b38d484e')\"\n",
       "              title=\"Convert this dataframe to an interactive table.\"\n",
       "              style=\"display:none;\">\n",
       "        \n",
       "  <svg xmlns=\"http://www.w3.org/2000/svg\" height=\"24px\"viewBox=\"0 0 24 24\"\n",
       "       width=\"24px\">\n",
       "    <path d=\"M0 0h24v24H0V0z\" fill=\"none\"/>\n",
       "    <path d=\"M18.56 5.44l.94 2.06.94-2.06 2.06-.94-2.06-.94-.94-2.06-.94 2.06-2.06.94zm-11 1L8.5 8.5l.94-2.06 2.06-.94-2.06-.94L8.5 2.5l-.94 2.06-2.06.94zm10 10l.94 2.06.94-2.06 2.06-.94-2.06-.94-.94-2.06-.94 2.06-2.06.94z\"/><path d=\"M17.41 7.96l-1.37-1.37c-.4-.4-.92-.59-1.43-.59-.52 0-1.04.2-1.43.59L10.3 9.45l-7.72 7.72c-.78.78-.78 2.05 0 2.83L4 21.41c.39.39.9.59 1.41.59.51 0 1.02-.2 1.41-.59l7.78-7.78 2.81-2.81c.8-.78.8-2.07 0-2.86zM5.41 20L4 18.59l7.72-7.72 1.47 1.35L5.41 20z\"/>\n",
       "  </svg>\n",
       "      </button>\n",
       "      \n",
       "  <style>\n",
       "    .colab-df-container {\n",
       "      display:flex;\n",
       "      flex-wrap:wrap;\n",
       "      gap: 12px;\n",
       "    }\n",
       "\n",
       "    .colab-df-convert {\n",
       "      background-color: #E8F0FE;\n",
       "      border: none;\n",
       "      border-radius: 50%;\n",
       "      cursor: pointer;\n",
       "      display: none;\n",
       "      fill: #1967D2;\n",
       "      height: 32px;\n",
       "      padding: 0 0 0 0;\n",
       "      width: 32px;\n",
       "    }\n",
       "\n",
       "    .colab-df-convert:hover {\n",
       "      background-color: #E2EBFA;\n",
       "      box-shadow: 0px 1px 2px rgba(60, 64, 67, 0.3), 0px 1px 3px 1px rgba(60, 64, 67, 0.15);\n",
       "      fill: #174EA6;\n",
       "    }\n",
       "\n",
       "    [theme=dark] .colab-df-convert {\n",
       "      background-color: #3B4455;\n",
       "      fill: #D2E3FC;\n",
       "    }\n",
       "\n",
       "    [theme=dark] .colab-df-convert:hover {\n",
       "      background-color: #434B5C;\n",
       "      box-shadow: 0px 1px 3px 1px rgba(0, 0, 0, 0.15);\n",
       "      filter: drop-shadow(0px 1px 2px rgba(0, 0, 0, 0.3));\n",
       "      fill: #FFFFFF;\n",
       "    }\n",
       "  </style>\n",
       "\n",
       "      <script>\n",
       "        const buttonEl =\n",
       "          document.querySelector('#df-9b04fa35-0438-4307-842e-6ea0b38d484e button.colab-df-convert');\n",
       "        buttonEl.style.display =\n",
       "          google.colab.kernel.accessAllowed ? 'block' : 'none';\n",
       "\n",
       "        async function convertToInteractive(key) {\n",
       "          const element = document.querySelector('#df-9b04fa35-0438-4307-842e-6ea0b38d484e');\n",
       "          const dataTable =\n",
       "            await google.colab.kernel.invokeFunction('convertToInteractive',\n",
       "                                                     [key], {});\n",
       "          if (!dataTable) return;\n",
       "\n",
       "          const docLinkHtml = 'Like what you see? Visit the ' +\n",
       "            '<a target=\"_blank\" href=https://colab.research.google.com/notebooks/data_table.ipynb>data table notebook</a>'\n",
       "            + ' to learn more about interactive tables.';\n",
       "          element.innerHTML = '';\n",
       "          dataTable['output_type'] = 'display_data';\n",
       "          await google.colab.output.renderOutput(dataTable, element);\n",
       "          const docLink = document.createElement('div');\n",
       "          docLink.innerHTML = docLinkHtml;\n",
       "          element.appendChild(docLink);\n",
       "        }\n",
       "      </script>\n",
       "    </div>\n",
       "  </div>\n",
       "  "
      ],
      "text/plain": [
       "      self_employed  no_of_employees  tech_company  \\\n",
       "867               2                3             2   \n",
       "608               2                2             2   \n",
       "511               2                1             2   \n",
       "1214              2                2             2   \n",
       "1244              2                2             2   \n",
       "...             ...              ...           ...   \n",
       "763               2                2             2   \n",
       "835               2                3             2   \n",
       "1216              2                2             2   \n",
       "559               2                2             2   \n",
       "684               2                2             2   \n",
       "\n",
       "      mental_healthcare_coverage  \\\n",
       "867                            1   \n",
       "608                            3   \n",
       "511                            3   \n",
       "1214                           3   \n",
       "1244                           3   \n",
       "...                          ...   \n",
       "763                            0   \n",
       "835                            3   \n",
       "1216                           3   \n",
       "559                            1   \n",
       "684                            0   \n",
       "\n",
       "      knowledge_about_mental_healthcare_options_workplace  \\\n",
       "867                                                   1     \n",
       "608                                                   0     \n",
       "511                                                   0     \n",
       "1214                                                  1     \n",
       "1244                                                  1     \n",
       "...                                                 ...     \n",
       "763                                                   1     \n",
       "835                                                   3     \n",
       "1216                                                  1     \n",
       "559                                                   0     \n",
       "684                                                   1     \n",
       "\n",
       "      employer_discussed_mental_health   \\\n",
       "867                                   0   \n",
       "608                                   1   \n",
       "511                                   3   \n",
       "1214                                  1   \n",
       "1244                                  1   \n",
       "...                                 ...   \n",
       "763                                   1   \n",
       "835                                   1   \n",
       "1216                                  1   \n",
       "559                                   1   \n",
       "684                                   1   \n",
       "\n",
       "      employer_offer_resources_to_learn_about_mental_health  \\\n",
       "867                                                   0       \n",
       "608                                                   0       \n",
       "511                                                   0       \n",
       "1214                                                  1       \n",
       "1244                                                  1       \n",
       "...                                                 ...       \n",
       "763                                                   0       \n",
       "835                                                   0       \n",
       "1216                                                  1       \n",
       "559                                                   0       \n",
       "684                                                   1       \n",
       "\n",
       "      medical_leave_from_work   comfortable_discussing_with_coworkers  \\\n",
       "867                          5                                      1   \n",
       "608                          0                                      0   \n",
       "511                          3                                      1   \n",
       "1214                         3                                      0   \n",
       "1244                         3                                      0   \n",
       "...                        ...                                    ...   \n",
       "763                          0                                      1   \n",
       "835                          1                                      0   \n",
       "1216                         3                                      0   \n",
       "559                          5                                      0   \n",
       "684                          3                                      1   \n",
       "\n",
       "      employer_take_mental_health_seriously  openess_of_family_friends  \\\n",
       "867                                       1                          1   \n",
       "608                                       0                          0   \n",
       "511                                       1                          0   \n",
       "1214                                      0                          4   \n",
       "1244                                      0                          4   \n",
       "...                                     ...                        ...   \n",
       "763                                       0                          6   \n",
       "835                                       0                          3   \n",
       "1216                                      0                          6   \n",
       "559                                       0                          1   \n",
       "684                                       1                          2   \n",
       "\n",
       "      family_history_mental_illness  mental_health_disorder_past  \\\n",
       "867                               1                            0   \n",
       "608                               3                            1   \n",
       "511                               1                            1   \n",
       "1214                              3                            3   \n",
       "1244                              3                            3   \n",
       "...                             ...                          ...   \n",
       "763                               3                            0   \n",
       "835                               3                            0   \n",
       "1216                              0                            1   \n",
       "559                               0                            3   \n",
       "684                               1                            0   \n",
       "\n",
       "      currently_mental_health_disorder  age  gender  country  country work   \\\n",
       "867                                  1   48       2       43             42   \n",
       "608                                  1   48       2       10              9   \n",
       "511                                  1   48       2       10              9   \n",
       "1214                                 3   48       2       49             48   \n",
       "1244                                 3   48       2       49             48   \n",
       "...                                ...  ...     ...      ...            ...   \n",
       "763                                  0   48       2       49             48   \n",
       "835                                  0   48       1       49             48   \n",
       "1216                                 1   48       2       10             48   \n",
       "559                                  3   48       2       49             48   \n",
       "684                                  0   48       2       49             48   \n",
       "\n",
       "      work_remotely  tech_role  \n",
       "867               1          2  \n",
       "608               0          2  \n",
       "511               2          2  \n",
       "1214              0          2  \n",
       "1244              2          2  \n",
       "...             ...        ...  \n",
       "763               0          2  \n",
       "835               2          2  \n",
       "1216              2          2  \n",
       "559               2          2  \n",
       "684               2          2  \n",
       "\n",
       "[1146 rows x 20 columns]"
      ]
     },
     "execution_count": 422,
     "metadata": {},
     "output_type": "execute_result"
    }
   ],
   "source": [
    "label_x_train"
   ]
  },
  {
   "cell_type": "code",
   "execution_count": 423,
   "metadata": {
    "colab": {
     "base_uri": "https://localhost:8080/",
     "height": 0
    },
    "id": "XJryJTHK4t82",
    "outputId": "88b9d76f-ce68-4060-fd0f-2387fa63b1e2"
   },
   "outputs": [
    {
     "data": {
      "text/html": [
       "\n",
       "  <div id=\"df-db635c3d-2fbc-4d56-ac57-aa339fb60656\">\n",
       "    <div class=\"colab-df-container\">\n",
       "      <div>\n",
       "<style scoped>\n",
       "    .dataframe tbody tr th:only-of-type {\n",
       "        vertical-align: middle;\n",
       "    }\n",
       "\n",
       "    .dataframe tbody tr th {\n",
       "        vertical-align: top;\n",
       "    }\n",
       "\n",
       "    .dataframe thead th {\n",
       "        text-align: right;\n",
       "    }\n",
       "</style>\n",
       "<table border=\"1\" class=\"dataframe\">\n",
       "  <thead>\n",
       "    <tr style=\"text-align: right;\">\n",
       "      <th></th>\n",
       "      <th>self_employed</th>\n",
       "      <th>no_of_employees</th>\n",
       "      <th>tech_company</th>\n",
       "      <th>mental_healthcare_coverage</th>\n",
       "      <th>knowledge_about_mental_healthcare_options_workplace</th>\n",
       "      <th>employer_discussed_mental_health</th>\n",
       "      <th>employer_offer_resources_to_learn_about_mental_health</th>\n",
       "      <th>medical_leave_from_work</th>\n",
       "      <th>comfortable_discussing_with_coworkers</th>\n",
       "      <th>employer_take_mental_health_seriously</th>\n",
       "      <th>openess_of_family_friends</th>\n",
       "      <th>family_history_mental_illness</th>\n",
       "      <th>mental_health_disorder_past</th>\n",
       "      <th>currently_mental_health_disorder</th>\n",
       "      <th>age</th>\n",
       "      <th>gender</th>\n",
       "      <th>country</th>\n",
       "      <th>country work</th>\n",
       "      <th>work_remotely</th>\n",
       "      <th>tech_role</th>\n",
       "    </tr>\n",
       "  </thead>\n",
       "  <tbody>\n",
       "    <tr>\n",
       "      <th>1059</th>\n",
       "      <td>2</td>\n",
       "      <td>5</td>\n",
       "      <td>2</td>\n",
       "      <td>3</td>\n",
       "      <td>0</td>\n",
       "      <td>1</td>\n",
       "      <td>0</td>\n",
       "      <td>5</td>\n",
       "      <td>0</td>\n",
       "      <td>1</td>\n",
       "      <td>3</td>\n",
       "      <td>3</td>\n",
       "      <td>1</td>\n",
       "      <td>3</td>\n",
       "      <td>48</td>\n",
       "      <td>2</td>\n",
       "      <td>49</td>\n",
       "      <td>48</td>\n",
       "      <td>0</td>\n",
       "      <td>2</td>\n",
       "    </tr>\n",
       "    <tr>\n",
       "      <th>411</th>\n",
       "      <td>2</td>\n",
       "      <td>1</td>\n",
       "      <td>2</td>\n",
       "      <td>3</td>\n",
       "      <td>0</td>\n",
       "      <td>1</td>\n",
       "      <td>1</td>\n",
       "      <td>1</td>\n",
       "      <td>1</td>\n",
       "      <td>0</td>\n",
       "      <td>6</td>\n",
       "      <td>3</td>\n",
       "      <td>3</td>\n",
       "      <td>3</td>\n",
       "      <td>48</td>\n",
       "      <td>2</td>\n",
       "      <td>49</td>\n",
       "      <td>48</td>\n",
       "      <td>0</td>\n",
       "      <td>2</td>\n",
       "    </tr>\n",
       "    <tr>\n",
       "      <th>342</th>\n",
       "      <td>2</td>\n",
       "      <td>1</td>\n",
       "      <td>2</td>\n",
       "      <td>3</td>\n",
       "      <td>1</td>\n",
       "      <td>3</td>\n",
       "      <td>3</td>\n",
       "      <td>0</td>\n",
       "      <td>3</td>\n",
       "      <td>3</td>\n",
       "      <td>6</td>\n",
       "      <td>3</td>\n",
       "      <td>3</td>\n",
       "      <td>3</td>\n",
       "      <td>48</td>\n",
       "      <td>1</td>\n",
       "      <td>49</td>\n",
       "      <td>48</td>\n",
       "      <td>2</td>\n",
       "      <td>2</td>\n",
       "    </tr>\n",
       "    <tr>\n",
       "      <th>1295</th>\n",
       "      <td>2</td>\n",
       "      <td>2</td>\n",
       "      <td>2</td>\n",
       "      <td>3</td>\n",
       "      <td>1</td>\n",
       "      <td>1</td>\n",
       "      <td>1</td>\n",
       "      <td>3</td>\n",
       "      <td>0</td>\n",
       "      <td>0</td>\n",
       "      <td>6</td>\n",
       "      <td>3</td>\n",
       "      <td>0</td>\n",
       "      <td>0</td>\n",
       "      <td>48</td>\n",
       "      <td>2</td>\n",
       "      <td>48</td>\n",
       "      <td>47</td>\n",
       "      <td>0</td>\n",
       "      <td>2</td>\n",
       "    </tr>\n",
       "    <tr>\n",
       "      <th>483</th>\n",
       "      <td>2</td>\n",
       "      <td>1</td>\n",
       "      <td>2</td>\n",
       "      <td>3</td>\n",
       "      <td>3</td>\n",
       "      <td>1</td>\n",
       "      <td>1</td>\n",
       "      <td>3</td>\n",
       "      <td>0</td>\n",
       "      <td>0</td>\n",
       "      <td>6</td>\n",
       "      <td>3</td>\n",
       "      <td>3</td>\n",
       "      <td>3</td>\n",
       "      <td>48</td>\n",
       "      <td>3</td>\n",
       "      <td>49</td>\n",
       "      <td>48</td>\n",
       "      <td>0</td>\n",
       "      <td>2</td>\n",
       "    </tr>\n",
       "    <tr>\n",
       "      <th>...</th>\n",
       "      <td>...</td>\n",
       "      <td>...</td>\n",
       "      <td>...</td>\n",
       "      <td>...</td>\n",
       "      <td>...</td>\n",
       "      <td>...</td>\n",
       "      <td>...</td>\n",
       "      <td>...</td>\n",
       "      <td>...</td>\n",
       "      <td>...</td>\n",
       "      <td>...</td>\n",
       "      <td>...</td>\n",
       "      <td>...</td>\n",
       "      <td>...</td>\n",
       "      <td>...</td>\n",
       "      <td>...</td>\n",
       "      <td>...</td>\n",
       "      <td>...</td>\n",
       "      <td>...</td>\n",
       "      <td>...</td>\n",
       "    </tr>\n",
       "    <tr>\n",
       "      <th>1045</th>\n",
       "      <td>2</td>\n",
       "      <td>5</td>\n",
       "      <td>2</td>\n",
       "      <td>3</td>\n",
       "      <td>3</td>\n",
       "      <td>0</td>\n",
       "      <td>0</td>\n",
       "      <td>1</td>\n",
       "      <td>0</td>\n",
       "      <td>1</td>\n",
       "      <td>4</td>\n",
       "      <td>1</td>\n",
       "      <td>1</td>\n",
       "      <td>1</td>\n",
       "      <td>48</td>\n",
       "      <td>2</td>\n",
       "      <td>49</td>\n",
       "      <td>48</td>\n",
       "      <td>0</td>\n",
       "      <td>2</td>\n",
       "    </tr>\n",
       "    <tr>\n",
       "      <th>1309</th>\n",
       "      <td>2</td>\n",
       "      <td>2</td>\n",
       "      <td>2</td>\n",
       "      <td>3</td>\n",
       "      <td>1</td>\n",
       "      <td>1</td>\n",
       "      <td>1</td>\n",
       "      <td>3</td>\n",
       "      <td>0</td>\n",
       "      <td>0</td>\n",
       "      <td>4</td>\n",
       "      <td>3</td>\n",
       "      <td>3</td>\n",
       "      <td>3</td>\n",
       "      <td>48</td>\n",
       "      <td>1</td>\n",
       "      <td>49</td>\n",
       "      <td>48</td>\n",
       "      <td>2</td>\n",
       "      <td>2</td>\n",
       "    </tr>\n",
       "    <tr>\n",
       "      <th>520</th>\n",
       "      <td>2</td>\n",
       "      <td>2</td>\n",
       "      <td>2</td>\n",
       "      <td>0</td>\n",
       "      <td>1</td>\n",
       "      <td>1</td>\n",
       "      <td>1</td>\n",
       "      <td>5</td>\n",
       "      <td>3</td>\n",
       "      <td>1</td>\n",
       "      <td>4</td>\n",
       "      <td>3</td>\n",
       "      <td>3</td>\n",
       "      <td>3</td>\n",
       "      <td>48</td>\n",
       "      <td>1</td>\n",
       "      <td>49</td>\n",
       "      <td>48</td>\n",
       "      <td>2</td>\n",
       "      <td>2</td>\n",
       "    </tr>\n",
       "    <tr>\n",
       "      <th>993</th>\n",
       "      <td>2</td>\n",
       "      <td>5</td>\n",
       "      <td>2</td>\n",
       "      <td>3</td>\n",
       "      <td>3</td>\n",
       "      <td>0</td>\n",
       "      <td>0</td>\n",
       "      <td>1</td>\n",
       "      <td>3</td>\n",
       "      <td>3</td>\n",
       "      <td>6</td>\n",
       "      <td>3</td>\n",
       "      <td>3</td>\n",
       "      <td>1</td>\n",
       "      <td>48</td>\n",
       "      <td>2</td>\n",
       "      <td>49</td>\n",
       "      <td>48</td>\n",
       "      <td>0</td>\n",
       "      <td>2</td>\n",
       "    </tr>\n",
       "    <tr>\n",
       "      <th>333</th>\n",
       "      <td>2</td>\n",
       "      <td>1</td>\n",
       "      <td>2</td>\n",
       "      <td>3</td>\n",
       "      <td>0</td>\n",
       "      <td>1</td>\n",
       "      <td>1</td>\n",
       "      <td>6</td>\n",
       "      <td>3</td>\n",
       "      <td>0</td>\n",
       "      <td>4</td>\n",
       "      <td>3</td>\n",
       "      <td>3</td>\n",
       "      <td>3</td>\n",
       "      <td>48</td>\n",
       "      <td>2</td>\n",
       "      <td>49</td>\n",
       "      <td>48</td>\n",
       "      <td>2</td>\n",
       "      <td>2</td>\n",
       "    </tr>\n",
       "  </tbody>\n",
       "</table>\n",
       "<p>287 rows × 20 columns</p>\n",
       "</div>\n",
       "      <button class=\"colab-df-convert\" onclick=\"convertToInteractive('df-db635c3d-2fbc-4d56-ac57-aa339fb60656')\"\n",
       "              title=\"Convert this dataframe to an interactive table.\"\n",
       "              style=\"display:none;\">\n",
       "        \n",
       "  <svg xmlns=\"http://www.w3.org/2000/svg\" height=\"24px\"viewBox=\"0 0 24 24\"\n",
       "       width=\"24px\">\n",
       "    <path d=\"M0 0h24v24H0V0z\" fill=\"none\"/>\n",
       "    <path d=\"M18.56 5.44l.94 2.06.94-2.06 2.06-.94-2.06-.94-.94-2.06-.94 2.06-2.06.94zm-11 1L8.5 8.5l.94-2.06 2.06-.94-2.06-.94L8.5 2.5l-.94 2.06-2.06.94zm10 10l.94 2.06.94-2.06 2.06-.94-2.06-.94-.94-2.06-.94 2.06-2.06.94z\"/><path d=\"M17.41 7.96l-1.37-1.37c-.4-.4-.92-.59-1.43-.59-.52 0-1.04.2-1.43.59L10.3 9.45l-7.72 7.72c-.78.78-.78 2.05 0 2.83L4 21.41c.39.39.9.59 1.41.59.51 0 1.02-.2 1.41-.59l7.78-7.78 2.81-2.81c.8-.78.8-2.07 0-2.86zM5.41 20L4 18.59l7.72-7.72 1.47 1.35L5.41 20z\"/>\n",
       "  </svg>\n",
       "      </button>\n",
       "      \n",
       "  <style>\n",
       "    .colab-df-container {\n",
       "      display:flex;\n",
       "      flex-wrap:wrap;\n",
       "      gap: 12px;\n",
       "    }\n",
       "\n",
       "    .colab-df-convert {\n",
       "      background-color: #E8F0FE;\n",
       "      border: none;\n",
       "      border-radius: 50%;\n",
       "      cursor: pointer;\n",
       "      display: none;\n",
       "      fill: #1967D2;\n",
       "      height: 32px;\n",
       "      padding: 0 0 0 0;\n",
       "      width: 32px;\n",
       "    }\n",
       "\n",
       "    .colab-df-convert:hover {\n",
       "      background-color: #E2EBFA;\n",
       "      box-shadow: 0px 1px 2px rgba(60, 64, 67, 0.3), 0px 1px 3px 1px rgba(60, 64, 67, 0.15);\n",
       "      fill: #174EA6;\n",
       "    }\n",
       "\n",
       "    [theme=dark] .colab-df-convert {\n",
       "      background-color: #3B4455;\n",
       "      fill: #D2E3FC;\n",
       "    }\n",
       "\n",
       "    [theme=dark] .colab-df-convert:hover {\n",
       "      background-color: #434B5C;\n",
       "      box-shadow: 0px 1px 3px 1px rgba(0, 0, 0, 0.15);\n",
       "      filter: drop-shadow(0px 1px 2px rgba(0, 0, 0, 0.3));\n",
       "      fill: #FFFFFF;\n",
       "    }\n",
       "  </style>\n",
       "\n",
       "      <script>\n",
       "        const buttonEl =\n",
       "          document.querySelector('#df-db635c3d-2fbc-4d56-ac57-aa339fb60656 button.colab-df-convert');\n",
       "        buttonEl.style.display =\n",
       "          google.colab.kernel.accessAllowed ? 'block' : 'none';\n",
       "\n",
       "        async function convertToInteractive(key) {\n",
       "          const element = document.querySelector('#df-db635c3d-2fbc-4d56-ac57-aa339fb60656');\n",
       "          const dataTable =\n",
       "            await google.colab.kernel.invokeFunction('convertToInteractive',\n",
       "                                                     [key], {});\n",
       "          if (!dataTable) return;\n",
       "\n",
       "          const docLinkHtml = 'Like what you see? Visit the ' +\n",
       "            '<a target=\"_blank\" href=https://colab.research.google.com/notebooks/data_table.ipynb>data table notebook</a>'\n",
       "            + ' to learn more about interactive tables.';\n",
       "          element.innerHTML = '';\n",
       "          dataTable['output_type'] = 'display_data';\n",
       "          await google.colab.output.renderOutput(dataTable, element);\n",
       "          const docLink = document.createElement('div');\n",
       "          docLink.innerHTML = docLinkHtml;\n",
       "          element.appendChild(docLink);\n",
       "        }\n",
       "      </script>\n",
       "    </div>\n",
       "  </div>\n",
       "  "
      ],
      "text/plain": [
       "      self_employed  no_of_employees  tech_company  \\\n",
       "1059              2                5             2   \n",
       "411               2                1             2   \n",
       "342               2                1             2   \n",
       "1295              2                2             2   \n",
       "483               2                1             2   \n",
       "...             ...              ...           ...   \n",
       "1045              2                5             2   \n",
       "1309              2                2             2   \n",
       "520               2                2             2   \n",
       "993               2                5             2   \n",
       "333               2                1             2   \n",
       "\n",
       "      mental_healthcare_coverage  \\\n",
       "1059                           3   \n",
       "411                            3   \n",
       "342                            3   \n",
       "1295                           3   \n",
       "483                            3   \n",
       "...                          ...   \n",
       "1045                           3   \n",
       "1309                           3   \n",
       "520                            0   \n",
       "993                            3   \n",
       "333                            3   \n",
       "\n",
       "      knowledge_about_mental_healthcare_options_workplace  \\\n",
       "1059                                                  0     \n",
       "411                                                   0     \n",
       "342                                                   1     \n",
       "1295                                                  1     \n",
       "483                                                   3     \n",
       "...                                                 ...     \n",
       "1045                                                  3     \n",
       "1309                                                  1     \n",
       "520                                                   1     \n",
       "993                                                   3     \n",
       "333                                                   0     \n",
       "\n",
       "      employer_discussed_mental_health   \\\n",
       "1059                                  1   \n",
       "411                                   1   \n",
       "342                                   3   \n",
       "1295                                  1   \n",
       "483                                   1   \n",
       "...                                 ...   \n",
       "1045                                  0   \n",
       "1309                                  1   \n",
       "520                                   1   \n",
       "993                                   0   \n",
       "333                                   1   \n",
       "\n",
       "      employer_offer_resources_to_learn_about_mental_health  \\\n",
       "1059                                                  0       \n",
       "411                                                   1       \n",
       "342                                                   3       \n",
       "1295                                                  1       \n",
       "483                                                   1       \n",
       "...                                                 ...       \n",
       "1045                                                  0       \n",
       "1309                                                  1       \n",
       "520                                                   1       \n",
       "993                                                   0       \n",
       "333                                                   1       \n",
       "\n",
       "      medical_leave_from_work   comfortable_discussing_with_coworkers  \\\n",
       "1059                         5                                      0   \n",
       "411                          1                                      1   \n",
       "342                          0                                      3   \n",
       "1295                         3                                      0   \n",
       "483                          3                                      0   \n",
       "...                        ...                                    ...   \n",
       "1045                         1                                      0   \n",
       "1309                         3                                      0   \n",
       "520                          5                                      3   \n",
       "993                          1                                      3   \n",
       "333                          6                                      3   \n",
       "\n",
       "      employer_take_mental_health_seriously  openess_of_family_friends  \\\n",
       "1059                                      1                          3   \n",
       "411                                       0                          6   \n",
       "342                                       3                          6   \n",
       "1295                                      0                          6   \n",
       "483                                       0                          6   \n",
       "...                                     ...                        ...   \n",
       "1045                                      1                          4   \n",
       "1309                                      0                          4   \n",
       "520                                       1                          4   \n",
       "993                                       3                          6   \n",
       "333                                       0                          4   \n",
       "\n",
       "      family_history_mental_illness  mental_health_disorder_past  \\\n",
       "1059                              3                            1   \n",
       "411                               3                            3   \n",
       "342                               3                            3   \n",
       "1295                              3                            0   \n",
       "483                               3                            3   \n",
       "...                             ...                          ...   \n",
       "1045                              1                            1   \n",
       "1309                              3                            3   \n",
       "520                               3                            3   \n",
       "993                               3                            3   \n",
       "333                               3                            3   \n",
       "\n",
       "      currently_mental_health_disorder  age  gender  country  country work   \\\n",
       "1059                                 3   48       2       49             48   \n",
       "411                                  3   48       2       49             48   \n",
       "342                                  3   48       1       49             48   \n",
       "1295                                 0   48       2       48             47   \n",
       "483                                  3   48       3       49             48   \n",
       "...                                ...  ...     ...      ...            ...   \n",
       "1045                                 1   48       2       49             48   \n",
       "1309                                 3   48       1       49             48   \n",
       "520                                  3   48       1       49             48   \n",
       "993                                  1   48       2       49             48   \n",
       "333                                  3   48       2       49             48   \n",
       "\n",
       "      work_remotely  tech_role  \n",
       "1059              0          2  \n",
       "411               0          2  \n",
       "342               2          2  \n",
       "1295              0          2  \n",
       "483               0          2  \n",
       "...             ...        ...  \n",
       "1045              0          2  \n",
       "1309              2          2  \n",
       "520               2          2  \n",
       "993               0          2  \n",
       "333               2          2  \n",
       "\n",
       "[287 rows x 20 columns]"
      ]
     },
     "execution_count": 423,
     "metadata": {},
     "output_type": "execute_result"
    }
   ],
   "source": [
    "label_x_test"
   ]
  },
  {
   "cell_type": "code",
   "execution_count": 424,
   "metadata": {
    "colab": {
     "base_uri": "https://localhost:8080/"
    },
    "id": "MmzUCdfYzrXU",
    "outputId": "c5fbf546-8584-4351-86e0-28e18f3c0ca0"
   },
   "outputs": [
    {
     "name": "stdout",
     "output_type": "stream",
     "text": [
      "The Unique value self_employed is\n",
      "[2]\n",
      "The Unique value no_of_employees is\n",
      "[5 1 2 0 3 4]\n",
      "The Unique value tech_company is\n",
      "[2]\n",
      "The Unique value mental_healthcare_coverage is\n",
      "[3 0 1]\n",
      "The Unique value knowledge_about_mental_healthcare_options_workplace is\n",
      "[0 1 3]\n",
      "The Unique value employer_discussed_mental_health  is\n",
      "[1 3 0]\n",
      "The Unique value employer_offer_resources_to_learn_about_mental_health is\n",
      "[0 1 3]\n",
      "The Unique value medical_leave_from_work  is\n",
      "[5 1 0 3 6 2]\n",
      "The Unique value comfortable_discussing_with_coworkers is\n",
      "[0 1 3]\n",
      "The Unique value employer_take_mental_health_seriously is\n",
      "[1 0 3]\n",
      "The Unique value openess_of_family_friends is\n",
      "[3 6 1 4 0 2]\n",
      "The Unique value family_history_mental_illness is\n",
      "[3 1 0]\n",
      "The Unique value mental_health_disorder_past is\n",
      "[1 3 0]\n",
      "The Unique value currently_mental_health_disorder is\n",
      "[3 0 1]\n",
      "The Unique value age is\n",
      "[48]\n",
      "The Unique value gender is\n",
      "[2 1 3]\n",
      "The Unique value country is\n",
      "[49 48 33 31 44 21 45  7 40 10 15 50  2 25 11 28 37  3 18 27 46 19 20 30\n",
      " 32]\n",
      "The Unique value country work  is\n",
      "[48 47 32 43 20 44  6 39  9 49 14  1 24 10 27 36  2 17 26 45 18 19 31]\n",
      "The Unique value work_remotely is\n",
      "[0 2 1]\n",
      "The Unique value tech_role is\n",
      "[2]\n"
     ]
    },
    {
     "data": {
      "text/plain": [
       "pandas.core.frame.DataFrame"
      ]
     },
     "execution_count": 424,
     "metadata": {},
     "output_type": "execute_result"
    }
   ],
   "source": [
    "df = pd.DataFrame(label_x_test)\n",
    "\n",
    "for col in cat_columns:\n",
    "  print('The Unique value',col,'is')\n",
    "  print(df[col].unique())\n",
    "  #print(type(df[\"Subjects\"].unique()))\n",
    "\n",
    "type(label_x_test)"
   ]
  },
  {
   "cell_type": "code",
   "execution_count": 425,
   "metadata": {
    "id": "U1ZEWQFy94hH"
   },
   "outputs": [],
   "source": [
    "# For Y label Encode\n",
    "label_encode_1=LabelEncoder()\n",
    "label_y_train_1=label_encode_1.fit_transform(y_train)\n",
    "label_y_test_1=label_encode_1.transform(y_test)"
   ]
  },
  {
   "cell_type": "code",
   "execution_count": 426,
   "metadata": {
    "colab": {
     "base_uri": "https://localhost:8080/"
    },
    "id": "oisaOwsl-Dv_",
    "outputId": "b19d4514-8263-4878-af6e-5d6cbbc628c6"
   },
   "outputs": [
    {
     "name": "stdout",
     "output_type": "stream",
     "text": [
      "      0\n",
      "0     0\n",
      "1     0\n",
      "2     0\n",
      "3     1\n",
      "4     1\n",
      "...  ..\n",
      "1141  0\n",
      "1142  1\n",
      "1143  0\n",
      "1144  1\n",
      "1145  0\n",
      "\n",
      "[1146 rows x 1 columns]\n"
     ]
    }
   ],
   "source": [
    "st=pd.DataFrame(label_y_train_1)\n",
    "print(st)"
   ]
  },
  {
   "cell_type": "code",
   "execution_count": 427,
   "metadata": {
    "colab": {
     "base_uri": "https://localhost:8080/"
    },
    "id": "nFhbKrmUCemF",
    "outputId": "1300a2ab-a472-4cba-a21a-999d51f93c58"
   },
   "outputs": [
    {
     "name": "stdout",
     "output_type": "stream",
     "text": [
      "     0\n",
      "0    1\n",
      "1    1\n",
      "2    1\n",
      "3    0\n",
      "4    1\n",
      "..  ..\n",
      "282  0\n",
      "283  1\n",
      "284  1\n",
      "285  1\n",
      "286  1\n",
      "\n",
      "[287 rows x 1 columns]\n"
     ]
    }
   ],
   "source": [
    "st=pd.DataFrame(label_y_test_1)\n",
    "print(st)"
   ]
  },
  {
   "cell_type": "markdown",
   "metadata": {
    "id": "inm_FWmoJEZ8"
   },
   "source": [
    "> # **1. Logistic Regression** "
   ]
  },
  {
   "cell_type": "code",
   "execution_count": 428,
   "metadata": {
    "colab": {
     "base_uri": "https://localhost:8080/"
    },
    "id": "avpnQ0StXYHj",
    "outputId": "4e61d00b-45de-4dee-d91d-89dadcbbe5cf"
   },
   "outputs": [
    {
     "data": {
      "text/plain": [
       "0.89198606271777"
      ]
     },
     "execution_count": 428,
     "metadata": {},
     "output_type": "execute_result"
    }
   ],
   "source": [
    "import sklearn\n",
    "from sklearn.linear_model import LogisticRegression\n",
    "from sklearn.metrics import accuracy_score\n",
    "logistic=LogisticRegression(C=1,penalty='l1',solver='liblinear',random_state=0)\n",
    "\n",
    "logistic.fit(label_x_train,label_y_train_1)\n",
    "preds3=logistic.predict(label_x_test)\n",
    "accuracy_score(label_y_test_1,preds3)"
   ]
  },
  {
   "cell_type": "code",
   "execution_count": 430,
   "metadata": {
    "colab": {
     "base_uri": "https://localhost:8080/"
    },
    "id": "qRYEBZZlyQ_y",
    "outputId": "6bf6f82a-90b7-4b07-c55b-ab1fb2fda341"
   },
   "outputs": [
    {
     "name": "stdout",
     "output_type": "stream",
     "text": [
      "Confusion Matrix :\n",
      "[[127  13]\n",
      " [ 18 129]]\n",
      "Accuracy Score is 0.89198606271777\n",
      "Classification Report : \n",
      "              precision    recall  f1-score   support\n",
      "\n",
      "           0       0.88      0.91      0.89       140\n",
      "           1       0.91      0.88      0.89       147\n",
      "\n",
      "    accuracy                           0.89       287\n",
      "   macro avg       0.89      0.89      0.89       287\n",
      "weighted avg       0.89      0.89      0.89       287\n",
      "\n",
      "AUC-ROC: 0.8923469387755102\n",
      "LOGLOSS Value is 3.730705446023776\n"
     ]
    }
   ],
   "source": [
    "from sklearn.metrics import confusion_matrix\n",
    "from sklearn.metrics import accuracy_score\n",
    "from sklearn.metrics import classification_report\n",
    "from sklearn.metrics import roc_auc_score\n",
    "from sklearn.metrics import log_loss\n",
    "\n",
    "results = confusion_matrix(label_y_test_1,preds3)\n",
    "print ('Confusion Matrix :')\n",
    "print(results)\n",
    "print ('Accuracy Score is',accuracy_score(label_y_test_1,preds3))\n",
    "print ('Classification Report : ')\n",
    "print (classification_report(label_y_test_1,preds3))\n",
    "print('AUC-ROC:',roc_auc_score(label_y_test_1,preds3))\n",
    "print('LOGLOSS Value is',log_loss(label_y_test_1,preds3))"
   ]
  },
  {
   "cell_type": "markdown",
   "metadata": {
    "id": "gsmWAfLQTZg6"
   },
   "source": [
    "> # **2. Decision Tree** "
   ]
  },
  {
   "cell_type": "code",
   "execution_count": 431,
   "metadata": {
    "colab": {
     "base_uri": "https://localhost:8080/"
    },
    "id": "WF9hAyjdk4_q",
    "outputId": "85729857-3af9-4613-c6b4-c0bf2da212df"
   },
   "outputs": [
    {
     "data": {
      "text/plain": [
       "0.7909407665505227"
      ]
     },
     "execution_count": 431,
     "metadata": {},
     "output_type": "execute_result"
    }
   ],
   "source": [
    "from sklearn.tree import DecisionTreeClassifier\n",
    "clf = DecisionTreeClassifier()\n",
    "clf = clf.fit(label_x_train,label_y_train_1)\n",
    "y_pred = clf.predict(label_x_test)\n",
    "accuracy_score(label_y_test_1,y_pred)"
   ]
  },
  {
   "cell_type": "code",
   "execution_count": 432,
   "metadata": {
    "colab": {
     "base_uri": "https://localhost:8080/"
    },
    "id": "BQikR_gNyORe",
    "outputId": "0341ce70-d619-457b-d254-3996406bc56c"
   },
   "outputs": [
    {
     "name": "stdout",
     "output_type": "stream",
     "text": [
      "Confusion Matrix :\n",
      "[[111  29]\n",
      " [ 31 116]]\n",
      "Accuracy Score is 0.7909407665505227\n",
      "Classification Report : \n",
      "              precision    recall  f1-score   support\n",
      "\n",
      "           0       0.78      0.79      0.79       140\n",
      "           1       0.80      0.79      0.79       147\n",
      "\n",
      "    accuracy                           0.79       287\n",
      "   macro avg       0.79      0.79      0.79       287\n",
      "weighted avg       0.79      0.79      0.79       287\n",
      "\n",
      "AUC-ROC: 0.7909863945578232\n",
      "LOGLOSS Value is 7.220730912962079\n"
     ]
    }
   ],
   "source": [
    "from sklearn.metrics import confusion_matrix\n",
    "from sklearn.metrics import accuracy_score\n",
    "from sklearn.metrics import classification_report\n",
    "from sklearn.metrics import roc_auc_score\n",
    "from sklearn.metrics import log_loss\n",
    "\n",
    "results = confusion_matrix(label_y_test_1,y_pred)\n",
    "print ('Confusion Matrix :')\n",
    "print(results)\n",
    "print ('Accuracy Score is',accuracy_score(label_y_test_1,y_pred))\n",
    "print ('Classification Report : ')\n",
    "print (classification_report(label_y_test_1,y_pred))\n",
    "print('AUC-ROC:',roc_auc_score(label_y_test_1,y_pred))\n",
    "print('LOGLOSS Value is',log_loss(label_y_test_1,y_pred))"
   ]
  },
  {
   "cell_type": "markdown",
   "metadata": {
    "id": "l_8-5nAHTSzZ"
   },
   "source": [
    "> # **3. Random Forest** "
   ]
  },
  {
   "cell_type": "code",
   "execution_count": 433,
   "metadata": {
    "colab": {
     "base_uri": "https://localhost:8080/"
    },
    "id": "38AcsW9JZbQj",
    "outputId": "85d8e71a-d3d4-4b45-88c3-27487dac4028"
   },
   "outputs": [
    {
     "data": {
      "text/plain": [
       "0.9337979094076655"
      ]
     },
     "execution_count": 433,
     "metadata": {},
     "output_type": "execute_result"
    }
   ],
   "source": [
    "from sklearn.ensemble import RandomForestClassifier\n",
    "from sklearn.metrics import accuracy_score\n",
    "model=RandomForestClassifier(n_estimators=1000, max_depth=10, random_state=0)\n",
    "model.fit(label_x_train,label_y_train_1)\n",
    "preds=model.predict(label_x_test)\n",
    "accuracy_score(label_y_test_1,preds)"
   ]
  },
  {
   "cell_type": "code",
   "execution_count": 434,
   "metadata": {
    "colab": {
     "base_uri": "https://localhost:8080/"
    },
    "id": "NozW0XzpxKUE",
    "outputId": "28bb4e8c-f17a-43b9-af97-0bd28a10fef8"
   },
   "outputs": [
    {
     "name": "stdout",
     "output_type": "stream",
     "text": [
      "Confusion Matrix :\n",
      "[[126  14]\n",
      " [  5 142]]\n",
      "Accuracy Score is 0.9337979094076655\n",
      "Classification Report : \n",
      "              precision    recall  f1-score   support\n",
      "\n",
      "           0       0.96      0.90      0.93       140\n",
      "           1       0.91      0.97      0.94       147\n",
      "\n",
      "    accuracy                           0.93       287\n",
      "   macro avg       0.94      0.93      0.93       287\n",
      "weighted avg       0.94      0.93      0.93       287\n",
      "\n",
      "AUC-ROC: 0.9329931972789115\n",
      "LOGLOSS Value is 2.2865782085969544\n"
     ]
    }
   ],
   "source": [
    "from sklearn.metrics import confusion_matrix\n",
    "from sklearn.metrics import accuracy_score\n",
    "from sklearn.metrics import classification_report\n",
    "from sklearn.metrics import roc_auc_score\n",
    "from sklearn.metrics import log_loss\n",
    "\n",
    "results = confusion_matrix(label_y_test_1,preds)\n",
    "print ('Confusion Matrix :')\n",
    "print(results)\n",
    "print ('Accuracy Score is',accuracy_score(label_y_test_1,preds))\n",
    "print ('Classification Report : ')\n",
    "print (classification_report(label_y_test_1,preds))\n",
    "print('AUC-ROC:',roc_auc_score(label_y_test_1,preds))\n",
    "print('LOGLOSS Value is',log_loss(label_y_test_1,preds))"
   ]
  },
  {
   "cell_type": "markdown",
   "metadata": {
    "id": "IkSWpfmY0HU7"
   },
   "source": [
    "> # **4. KNN** "
   ]
  },
  {
   "cell_type": "code",
   "execution_count": 435,
   "metadata": {
    "colab": {
     "base_uri": "https://localhost:8080/"
    },
    "id": "8G8kr3EJzK34",
    "outputId": "3c8f0eee-177d-4395-dbd7-8113d186b3e1"
   },
   "outputs": [
    {
     "data": {
      "text/plain": [
       "KNeighborsClassifier(n_neighbors=8)"
      ]
     },
     "execution_count": 435,
     "metadata": {},
     "output_type": "execute_result"
    }
   ],
   "source": [
    "from sklearn.preprocessing import StandardScaler\n",
    "scaler = StandardScaler()\n",
    "scaler.fit(label_x_train)\n",
    "label_x_train = scaler.transform(label_x_train) \n",
    "label_x_test = scaler.transform(label_x_test)\n",
    "from sklearn.neighbors import KNeighborsClassifier\n",
    "classifier = KNeighborsClassifier(n_neighbors=8)\n",
    "classifier.fit(label_x_train, label_y_train_1) "
   ]
  },
  {
   "cell_type": "code",
   "execution_count": 437,
   "metadata": {
    "id": "I0OBmbybz3UJ"
   },
   "outputs": [],
   "source": [
    "y_pred1 = classifier.predict(label_x_test)"
   ]
  },
  {
   "cell_type": "code",
   "execution_count": 438,
   "metadata": {
    "colab": {
     "base_uri": "https://localhost:8080/"
    },
    "id": "_NBo8_I60C4P",
    "outputId": "ba0eeadf-0c1f-4474-adf5-14ae9c7049a3"
   },
   "outputs": [
    {
     "name": "stdout",
     "output_type": "stream",
     "text": [
      "Confusion Matrix :\n",
      "[[129  11]\n",
      " [ 30 117]]\n",
      "Accuracy Score is 0.8571428571428571\n",
      "Classification Report : \n",
      "              precision    recall  f1-score   support\n",
      "\n",
      "           0       0.81      0.92      0.86       140\n",
      "           1       0.91      0.80      0.85       147\n",
      "\n",
      "    accuracy                           0.86       287\n",
      "   macro avg       0.86      0.86      0.86       287\n",
      "weighted avg       0.86      0.86      0.86       287\n",
      "\n",
      "AUC-ROC: 0.8586734693877552\n",
      "LOGLOSS Value is 4.9341415601500715\n"
     ]
    }
   ],
   "source": [
    "from sklearn.metrics import confusion_matrix\n",
    "from sklearn.metrics import accuracy_score\n",
    "from sklearn.metrics import classification_report\n",
    "from sklearn.metrics import roc_auc_score\n",
    "from sklearn.metrics import log_loss\n",
    "\n",
    "results = confusion_matrix(label_y_test_1,y_pred1)\n",
    "print ('Confusion Matrix :')\n",
    "print(results)\n",
    "print ('Accuracy Score is',accuracy_score(label_y_test_1,y_pred1))\n",
    "print ('Classification Report : ')\n",
    "print (classification_report(label_y_test_1,y_pred1))\n",
    "print('AUC-ROC:',roc_auc_score(label_y_test_1,y_pred1))\n",
    "print('LOGLOSS Value is',log_loss(label_y_test_1,y_pred1))"
   ]
  }
 ],
 "metadata": {
  "colab": {
   "collapsed_sections": [
    "V_9KXTxShMG-",
    "Q5zLV6PEhtJ5",
    "eO1ETtPwohUw",
    "tocR0KdFAQqP",
    "rnAXfCHDQ79J",
    "jpMgvMLnRi_y"
   ],
   "provenance": []
  },
  "kernelspec": {
   "display_name": "Python 3 (ipykernel)",
   "language": "python",
   "name": "python3"
  },
  "language_info": {
   "codemirror_mode": {
    "name": "ipython",
    "version": 3
   },
   "file_extension": ".py",
   "mimetype": "text/x-python",
   "name": "python",
   "nbconvert_exporter": "python",
   "pygments_lexer": "ipython3",
   "version": "3.10.9"
  }
 },
 "nbformat": 4,
 "nbformat_minor": 1
}
